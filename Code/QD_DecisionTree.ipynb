{
 "cells": [
  {
   "cell_type": "markdown",
   "id": "591bdd67",
   "metadata": {},
   "source": [
    "# Decision Tree"
   ]
  },
  {
   "cell_type": "code",
   "execution_count": 2,
   "id": "a4b7015b",
   "metadata": {},
   "outputs": [],
   "source": [
    "# Import necessary modules\n",
    "import pandas as pd\n",
    "import numpy as np\n",
    "import matplotlib.pyplot as plt\n",
    "from scipy.stats import randint\n",
    "from sklearn.tree import DecisionTreeClassifier\n",
    "from sklearn.model_selection import RandomizedSearchCV\n",
    "from sklearn.model_selection import train_test_split, cross_val_score, GridSearchCV\n",
    "from sklearn.metrics import classification_report, confusion_matrix, roc_auc_score, accuracy_score  ## evaluate the model"
   ]
  },
  {
   "cell_type": "markdown",
   "id": "0a936883",
   "metadata": {},
   "source": [
    "## Import data"
   ]
  },
  {
   "cell_type": "code",
   "execution_count": 5,
   "id": "0499c60f",
   "metadata": {},
   "outputs": [],
   "source": [
    "# Read file\n",
    "from deezerData import readData\n",
    "df, X, y, X_train, X_test, y_train, y_test = readData()\n",
    "# Making arrays\n",
    "X, y, X_train, X_test, y_train, y_test = X.values, y.values, X_train.values, X_test.values, y_train.values, y_test.values"
   ]
  },
  {
   "cell_type": "markdown",
   "id": "a3124de0",
   "metadata": {},
   "source": [
    "## Hyperparameter tunning"
   ]
  },
  {
   "cell_type": "markdown",
   "id": "2a7c5167",
   "metadata": {},
   "source": [
    "For the decision tree technique, we tune these following parameters:\n",
    "   * Maximum depth of the tree\n",
    "   * Maximum features\n",
    "   * Minimum samples leaf\n",
    "   * Criterion"
   ]
  },
  {
   "cell_type": "code",
   "execution_count": 10,
   "id": "291159b4",
   "metadata": {},
   "outputs": [
    {
     "name": "stdout",
     "output_type": "stream",
     "text": [
      "Tuned Decision Tree Parameters: {'criterion': 'entropy', 'max_depth': None, 'max_features': 9, 'min_samples_leaf': 5}\n",
      "Best score is 0.7527570114884445\n"
     ]
    }
   ],
   "source": [
    "# Setup the parameters and distributions to sample from: param_dist\n",
    "param_dist = {\"max_depth\": [5, None],\n",
    "              \"max_features\": randint(1, 15),\n",
    "              \"min_samples_leaf\": randint(1, 9),\n",
    "              \"criterion\": [\"gini\", \"entropy\"]}\n",
    "\n",
    "# Instantiate a Decision Tree classifier: tree\n",
    "tree = DecisionTreeClassifier()\n",
    "\n",
    "# Instantiate the RandomizedSearchCV object: tree_cv\n",
    "tree_cv = RandomizedSearchCV(tree, param_dist, cv=5)\n",
    "\n",
    "# Fit it to the data\n",
    "tree_cv.fit(X_train, y_train)\n",
    "\n",
    "# Print the tuned parameters and score\n",
    "print(\"Tuned Decision Tree Parameters: {}\".format(tree_cv.best_params_))\n",
    "print(\"Best score is {}\".format(tree_cv.best_score_))\n",
    "\n",
    "# Predict\n",
    "y_pred = tree_cv.predict(X_test)"
   ]
  },
  {
   "cell_type": "markdown",
   "id": "4cf4a701",
   "metadata": {},
   "source": [
    "## Evaluation"
   ]
  },
  {
   "cell_type": "code",
   "execution_count": 8,
   "id": "848e61c6",
   "metadata": {},
   "outputs": [
    {
     "name": "stdout",
     "output_type": "stream",
     "text": [
      "[[ 551  296]\n",
      " [ 302 1436]]\n",
      "              precision    recall  f1-score   support\n",
      "\n",
      "           0       0.65      0.65      0.65       847\n",
      "           1       0.83      0.83      0.83      1738\n",
      "\n",
      "    accuracy                           0.77      2585\n",
      "   macro avg       0.74      0.74      0.74      2585\n",
      "weighted avg       0.77      0.77      0.77      2585\n",
      "\n",
      "Accuracy of decision tree: 0.7686653771760155\n",
      "AUC of decision tree: 0.7383841704900393\n"
     ]
    }
   ],
   "source": [
    "# Compute and print the confusion matrix and classification report\n",
    "print(confusion_matrix(y_test, y_pred))\n",
    "print(classification_report(y_test, y_pred))\n",
    "print(\"Accuracy of decision tree: {}\".format(tree_cv.score(X_test, y_test)))\n",
    "\n",
    "# Compute and print AUC score\n",
    "print(\"AUC of decision tree: {}\".format(roc_auc_score(y_test, y_pred)))"
   ]
  }
 ],
 "metadata": {
  "kernelspec": {
   "display_name": "Python 3 (ipykernel)",
   "language": "python",
   "name": "python3"
  },
  "language_info": {
   "codemirror_mode": {
    "name": "ipython",
    "version": 3
   },
   "file_extension": ".py",
   "mimetype": "text/x-python",
   "name": "python",
   "nbconvert_exporter": "python",
   "pygments_lexer": "ipython3",
   "version": "3.9.7"
  },
  "toc": {
   "base_numbering": 1,
   "nav_menu": {},
   "number_sections": true,
   "sideBar": true,
   "skip_h1_title": false,
   "title_cell": "Table of Contents",
   "title_sidebar": "Contents",
   "toc_cell": false,
   "toc_position": {},
   "toc_section_display": true,
   "toc_window_display": false
  }
 },
 "nbformat": 4,
 "nbformat_minor": 5
}
