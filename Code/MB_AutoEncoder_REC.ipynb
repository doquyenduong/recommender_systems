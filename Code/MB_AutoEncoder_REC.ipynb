{
 "cells": [
  {
   "cell_type": "markdown",
   "metadata": {
    "collapsed": true,
    "pycharm": {
     "name": "#%% md\n"
    }
   },
   "source": [
    "# Autoencoder"
   ]
  },
  {
   "cell_type": "markdown",
   "source": [
    "Source: https://www.youtube.com/watch?v=LjRvMUk59PI\n",
    "https://blog.keras.io/building-autoencoders-in-keras.html"
   ],
   "metadata": {
    "collapsed": false,
    "pycharm": {
     "name": "#%% md\n"
    }
   }
  },
  {
   "cell_type": "code",
   "execution_count": 183,
   "outputs": [],
   "source": [
    "import keras\n",
    "from tensorflow.keras.layers import Input, Dense\n",
    "from tensorflow.keras.models import Model\n",
    "from tensorflow.keras.datasets import mnist\n",
    "from tensorflow.keras.regularizers import l2\n",
    "from tensorflow.keras.optimizers import SGD\n",
    "from tensorflow.keras import regularizers\n",
    "\n",
    "import numpy as np\n",
    "import pandas as pd\n",
    "import matplotlib.pyplot as plt"
   ],
   "metadata": {
    "collapsed": false,
    "pycharm": {
     "name": "#%%\n"
    }
   }
  },
  {
   "cell_type": "markdown",
   "source": [
    "## Deezer Dataset"
   ],
   "metadata": {
    "collapsed": false,
    "pycharm": {
     "name": "#%% md\n"
    }
   }
  },
  {
   "cell_type": "code",
   "execution_count": 190,
   "outputs": [
    {
     "name": "stdout",
     "output_type": "stream",
     "text": [
      "<class 'pandas.core.frame.DataFrame'>\n",
      "Int64Index: 752 entries, 9 to 4956\n",
      "Data columns (total 7 columns):\n",
      " #   Column           Non-Null Count  Dtype\n",
      "---  ------           --------------  -----\n",
      " 0   genre_id         752 non-null    int64\n",
      " 1   context_type     752 non-null    int64\n",
      " 2   platform_name    752 non-null    int64\n",
      " 3   platform_family  752 non-null    int64\n",
      " 4   listen_type      752 non-null    int64\n",
      " 5   user_gender      752 non-null    int64\n",
      " 6   user_age         752 non-null    int64\n",
      "dtypes: int64(7)\n",
      "memory usage: 47.0 KB\n",
      "None\n",
      "(600, 7)\n",
      "(152, 7)\n",
      "[[ 7  3  0 ...  0  0 28]\n",
      " [ 7  3  0 ...  0  0 28]\n",
      " [ 7  3  0 ...  0  0 28]\n",
      " ...\n",
      " [ 7  0  0 ...  0  0 20]\n",
      " [ 7  0  0 ...  0  0 20]\n",
      " [ 7  1  2 ...  1  0 22]]\n"
     ]
    }
   ],
   "source": [
    "data = pd.read_csv('../Data/train_short.csv').iloc[:, [0, 2, 3, 4, 6, 7, 9, 10, 11, 13, 14]]\n",
    "\n",
    "d1 = data.groupby('user_id')['is_listened'].sum()\n",
    "d2 = d1[d1 > 10].index\n",
    "d3 = data[data.user_id.isin(d2)].iloc[:, [0, 3, 4, 5, 6, 7, 9]]\n",
    "\n",
    "#df_r = pd.pivot_table(d3, index=['user_id'], columns=['media_id'], values=['is_listened'], fill_value=0).astype(int)\n",
    "\n",
    "print(d3.info())\n",
    "cutoff = 600\n",
    "x_train_NN = d3.iloc[:cutoff, :].to_numpy()\n",
    "x_test_NN = d3.iloc[cutoff:,:].to_numpy()\n",
    "print(x_train_NN.shape)\n",
    "print(x_test_NN.shape)\n",
    "print(x_test_NN)\n"
   ],
   "metadata": {
    "collapsed": false,
    "pycharm": {
     "name": "#%%\n"
    }
   }
  },
  {
   "cell_type": "markdown",
   "source": [
    "## Creating the Architecture of an Autoencoder"
   ],
   "metadata": {
    "collapsed": false,
    "pycharm": {
     "name": "#%% md\n"
    }
   }
  },
  {
   "cell_type": "code",
   "execution_count": 191,
   "outputs": [
    {
     "name": "stdout",
     "output_type": "stream",
     "text": [
      "Model: \"model_48\"\n",
      "_________________________________________________________________\n",
      " Layer (type)                Output Shape              Param #   \n",
      "=================================================================\n",
      " input_34 (InputLayer)       [(None, 7)]               0         \n",
      "                                                                 \n",
      " dense_32 (Dense)            (None, 4)                 32        \n",
      "                                                                 \n",
      " dense_33 (Dense)            (None, 7)                 35        \n",
      "                                                                 \n",
      "=================================================================\n",
      "Total params: 67\n",
      "Trainable params: 67\n",
      "Non-trainable params: 0\n",
      "_________________________________________________________________\n"
     ]
    }
   ],
   "source": [
    "# This is the size of our encoded representations\n",
    "encoding_dim = 4  # 32 floats -> compression of factor 24.5, assuming the input is 784 floats\n",
    "\n",
    "# This is our input image\n",
    "input_img = keras.Input(shape=(x_train_NN.shape[1],))\n",
    "# \"encoded\" is the encoded representation of the input\n",
    "encoded = Dense(encoding_dim, activation='relu',activity_regularizer=regularizers.l1(10e-5))(input_img) # ,activity_regularizer=regularizers.l1(10e-5)\n",
    "# \"decoded\" is the lossy reconstruction of the input\n",
    "decoded = Dense(x_train_NN.shape[1], activation='relu',kernel_regularizer=l2(0.0001))(encoded)\n",
    "\n",
    "# This model maps an input to its reconstruction\n",
    "autoencoder = Model(input_img, decoded)\n",
    "autoencoder.summary()\n",
    "# This model maps an input to its encoded representation\n",
    "encoder = Model(input_img, encoded)\n",
    "# This is our encoded (32-dimensional) input\n",
    "encoded_input = Input(shape=(encoding_dim,))\n",
    "# Retrieve the last layer of the autoencoder model\n",
    "decoder_layer = autoencoder.layers[-1]\n",
    "# Create the decoder model\n",
    "decoder = Model(encoded_input, decoder_layer(encoded_input))\n",
    "autoencoder.compile(optimizer=SGD(learning_rate=0.01, momentum=0.9), loss='MSE', metrics=['accuracy', 'mse'])"
   ],
   "metadata": {
    "collapsed": false,
    "pycharm": {
     "name": "#%%\n"
    }
   }
  },
  {
   "cell_type": "code",
   "execution_count": 193,
   "outputs": [
    {
     "name": "stdout",
     "output_type": "stream",
     "text": [
      "Epoch 1/100\n",
      "10/10 [==============================] - 0s 6ms/step - loss: 134455399220710385647616.0000 - accuracy: 0.7517 - mse: 403689.5312 - val_loss: 134426747319881054552064.0000 - val_accuracy: 0.6842 - val_mse: 3776498.0000\n",
      "Epoch 2/100\n",
      "10/10 [==============================] - 0s 3ms/step - loss: 134405048976876383502336.0000 - accuracy: 0.7517 - mse: 403689.5625 - val_loss: 134374748758583434805248.0000 - val_accuracy: 0.6842 - val_mse: 3776498.0000\n",
      "Epoch 3/100\n",
      "10/10 [==============================] - 0s 3ms/step - loss: 134352464947627205591040.0000 - accuracy: 0.7517 - mse: 403689.5312 - val_loss: 134321624297378972434432.0000 - val_accuracy: 0.6842 - val_mse: 3776498.5000\n",
      "Epoch 4/100\n",
      "10/10 [==============================] - 0s 3ms/step - loss: 134299151335238393659392.0000 - accuracy: 0.7517 - mse: 403689.5625 - val_loss: 134268112526606556200960.0000 - val_accuracy: 0.6842 - val_mse: 3776498.5000\n",
      "Epoch 5/100\n",
      "10/10 [==============================] - 0s 3ms/step - loss: 134245630557266722684928.0000 - accuracy: 0.7517 - mse: 403689.5312 - val_loss: 134214492669443083075584.0000 - val_accuracy: 0.6842 - val_mse: 3776498.5000\n",
      "Epoch 6/100\n",
      "10/10 [==============================] - 0s 3ms/step - loss: 134191902613712192667648.0000 - accuracy: 0.7517 - mse: 403689.5000 - val_loss: 134160710682693024612352.0000 - val_accuracy: 0.6842 - val_mse: 3776498.5000\n",
      "Epoch 7/100\n",
      "10/10 [==============================] - 0s 3ms/step - loss: 134138147648559898427392.0000 - accuracy: 0.7517 - mse: 403689.5000 - val_loss: 134106946710341475631104.0000 - val_accuracy: 0.6842 - val_mse: 3776498.5000\n",
      "Epoch 8/100\n",
      "10/10 [==============================] - 0s 3ms/step - loss: 134084374669009094705152.0000 - accuracy: 0.7517 - mse: 403689.5312 - val_loss: 134053182737989926649856.0000 - val_accuracy: 0.6842 - val_mse: 3776498.5000\n",
      "Epoch 9/100\n",
      "10/10 [==============================] - 0s 3ms/step - loss: 134030628711056055205888.0000 - accuracy: 0.7517 - mse: 403689.5312 - val_loss: 133999436780036887150592.0000 - val_accuracy: 0.6842 - val_mse: 3776498.5000\n",
      "Epoch 10/100\n",
      "10/10 [==============================] - 0s 3ms/step - loss: 133976891760302270447616.0000 - accuracy: 0.7517 - mse: 403689.5312 - val_loss: 133945726850880866615296.0000 - val_accuracy: 0.6842 - val_mse: 3776498.5000\n",
      "Epoch 11/100\n",
      "10/10 [==============================] - 0s 3ms/step - loss: 133923163816747740430336.0000 - accuracy: 0.7517 - mse: 403689.5625 - val_loss: 133891989900127081857024.0000 - val_accuracy: 0.6842 - val_mse: 3776498.5000\n",
      "Epoch 12/100\n",
      "10/10 [==============================] - 0s 3ms/step - loss: 133869462894790974636032.0000 - accuracy: 0.7517 - mse: 403689.5312 - val_loss: 133838469122155410882560.0000 - val_accuracy: 0.6842 - val_mse: 3776498.5000\n",
      "Epoch 13/100\n",
      "10/10 [==============================] - 0s 3ms/step - loss: 133816050203210360553472.0000 - accuracy: 0.7517 - mse: 403689.5312 - val_loss: 133785083452172561022976.0000 - val_accuracy: 0.6842 - val_mse: 3776498.5000\n",
      "Epoch 14/100\n",
      "10/10 [==============================] - 0s 3ms/step - loss: 133762664533227510693888.0000 - accuracy: 0.7517 - mse: 403689.5312 - val_loss: 133731706789388965904384.0000 - val_accuracy: 0.6842 - val_mse: 3776498.5000\n",
      "Epoch 15/100\n",
      "10/10 [==============================] - 0s 3ms/step - loss: 133709287870443915575296.0000 - accuracy: 0.7517 - mse: 403689.5625 - val_loss: 133678339133804625526784.0000 - val_accuracy: 0.6842 - val_mse: 3776498.5000\n",
      "Epoch 16/100\n",
      "10/10 [==============================] - 0s 3ms/step - loss: 133655911207660320456704.0000 - accuracy: 0.7517 - mse: 403689.5312 - val_loss: 133624971478220285149184.0000 - val_accuracy: 0.6842 - val_mse: 3776498.5000\n",
      "Epoch 17/100\n",
      "10/10 [==============================] - 0s 3ms/step - loss: 133602570573673744302080.0000 - accuracy: 0.7517 - mse: 403689.5312 - val_loss: 133571612829835199512576.0000 - val_accuracy: 0.6842 - val_mse: 3776498.5000\n",
      "Epoch 18/100\n",
      "10/10 [==============================] - 0s 3ms/step - loss: 133549202918089403924480.0000 - accuracy: 0.7517 - mse: 403689.5312 - val_loss: 133518281203047878098944.0000 - val_accuracy: 0.6842 - val_mse: 3776498.5000\n",
      "Epoch 19/100\n",
      "10/10 [==============================] - 0s 3ms/step - loss: 133495871291302082510848.0000 - accuracy: 0.7517 - mse: 403689.5312 - val_loss: 133464958583459811426304.0000 - val_accuracy: 0.6842 - val_mse: 3776498.5000\n",
      "Epoch 20/100\n",
      "10/10 [==============================] - 0s 3ms/step - loss: 133442548671714015838208.0000 - accuracy: 0.7517 - mse: 403689.5312 - val_loss: 133411635963871744753664.0000 - val_accuracy: 0.6842 - val_mse: 3776498.5000\n",
      "Epoch 21/100\n",
      "10/10 [==============================] - 0s 3ms/step - loss: 133389235059325203906560.0000 - accuracy: 0.7517 - mse: 403689.5625 - val_loss: 133358340365881442304000.0000 - val_accuracy: 0.6842 - val_mse: 3776498.5000\n",
      "Epoch 22/100\n",
      "10/10 [==============================] - 0s 3ms/step - loss: 133335939461334901456896.0000 - accuracy: 0.7517 - mse: 403689.5625 - val_loss: 133305035760691885113344.0000 - val_accuracy: 0.6842 - val_mse: 3776498.5000\n",
      "Epoch 23/100\n",
      "10/10 [==============================] - 0s 3ms/step - loss: 133282643863344599007232.0000 - accuracy: 0.7517 - mse: 403689.5312 - val_loss: 133251722148303073181696.0000 - val_accuracy: 0.6842 - val_mse: 3776498.5000\n",
      "Epoch 24/100\n",
      "10/10 [==============================] - 0s 3ms/step - loss: 133229366279752806039552.0000 - accuracy: 0.7517 - mse: 403689.5312 - val_loss: 133198462579109789696000.0000 - val_accuracy: 0.6842 - val_mse: 3776498.5000\n",
      "Epoch 25/100\n",
      "10/10 [==============================] - 0s 4ms/step - loss: 133176070681762503589888.0000 - accuracy: 0.7517 - mse: 403689.5312 - val_loss: 133145203009916506210304.0000 - val_accuracy: 0.6842 - val_mse: 3776498.5000\n",
      "Epoch 26/100\n",
      "10/10 [==============================] - 0s 3ms/step - loss: 133122820119768474845184.0000 - accuracy: 0.7517 - mse: 403689.5312 - val_loss: 133091925426324713242624.0000 - val_accuracy: 0.6842 - val_mse: 3776498.5000\n",
      "Epoch 27/100\n",
      "10/10 [==============================] - 0s 4ms/step - loss: 133069551543375936618496.0000 - accuracy: 0.7517 - mse: 403689.5625 - val_loss: 133038674864330684497920.0000 - val_accuracy: 0.6842 - val_mse: 3776498.5000\n",
      "Epoch 28/100\n",
      "10/10 [==============================] - 0s 3ms/step - loss: 133016318995780417355776.0000 - accuracy: 0.7517 - mse: 403689.5312 - val_loss: 132985442316735165235200.0000 - val_accuracy: 0.6842 - val_mse: 3776498.5000\n",
      "Epoch 29/100\n",
      "10/10 [==============================] - 0s 3ms/step - loss: 132963086448184898093056.0000 - accuracy: 0.7517 - mse: 403689.5625 - val_loss: 132932209769139645972480.0000 - val_accuracy: 0.6842 - val_mse: 3776498.5000\n",
      "Epoch 30/100\n",
      "10/10 [==============================] - 0s 3ms/step - loss: 132909862907788633571328.0000 - accuracy: 0.7517 - mse: 403689.5938 - val_loss: 132878995235942636191744.0000 - val_accuracy: 0.6842 - val_mse: 3776498.5000\n",
      "Epoch 31/100\n",
      "10/10 [==============================] - 0s 3ms/step - loss: 132856648374591623790592.0000 - accuracy: 0.7517 - mse: 403689.5625 - val_loss: 132825807724343390633984.0000 - val_accuracy: 0.6842 - val_mse: 3776498.5000\n",
      "Epoch 32/100\n",
      "10/10 [==============================] - 0s 3ms/step - loss: 132803460862992378232832.0000 - accuracy: 0.7517 - mse: 403689.5312 - val_loss: 132772593191146380853248.0000 - val_accuracy: 0.6842 - val_mse: 3776498.5000\n",
      "Epoch 33/100\n",
      "10/10 [==============================] - 0s 3ms/step - loss: 132750273351393132675072.0000 - accuracy: 0.7517 - mse: 403689.5312 - val_loss: 132719441708344154259456.0000 - val_accuracy: 0.6842 - val_mse: 3776498.5000\n",
      "Epoch 34/100\n",
      "10/10 [==============================] - 0s 3ms/step - loss: 132697094846993141858304.0000 - accuracy: 0.7517 - mse: 403689.5312 - val_loss: 132666272211143418183680.0000 - val_accuracy: 0.6842 - val_mse: 3776498.5000\n",
      "Epoch 35/100\n",
      "10/10 [==============================] - 0s 3ms/step - loss: 132643925349792405782528.0000 - accuracy: 0.7517 - mse: 403689.5312 - val_loss: 132613093706743427366912.0000 - val_accuracy: 0.6842 - val_mse: 3776498.5000\n",
      "Epoch 36/100\n",
      "10/10 [==============================] - 0s 3ms/step - loss: 132590764859790924447744.0000 - accuracy: 0.7517 - mse: 403689.5312 - val_loss: 132559960238339710255104.0000 - val_accuracy: 0.6842 - val_mse: 3776498.5000\n",
      "Epoch 37/100\n",
      "10/10 [==============================] - 0s 3ms/step - loss: 132537640398586462076928.0000 - accuracy: 0.7517 - mse: 403689.5312 - val_loss: 132506817762736738402304.0000 - val_accuracy: 0.6842 - val_mse: 3776498.5000\n",
      "Epoch 38/100\n",
      "10/10 [==============================] - 0s 3ms/step - loss: 132484497922983490224128.0000 - accuracy: 0.7517 - mse: 403689.5312 - val_loss: 132453693301532276031488.0000 - val_accuracy: 0.6842 - val_mse: 3776498.5000\n",
      "Epoch 39/100\n",
      "10/10 [==============================] - 0s 3ms/step - loss: 132431373461779027853312.0000 - accuracy: 0.7517 - mse: 403689.5000 - val_loss: 132400568840327813660672.0000 - val_accuracy: 0.6842 - val_mse: 3776498.5000\n",
      "Epoch 40/100\n",
      "10/10 [==============================] - 0s 3ms/step - loss: 132378267014973074964480.0000 - accuracy: 0.7517 - mse: 403689.5312 - val_loss: 132347471400721115512832.0000 - val_accuracy: 0.6842 - val_mse: 3776498.5000\n",
      "Epoch 41/100\n",
      "10/10 [==============================] - 0s 3ms/step - loss: 132325277661757433708544.0000 - accuracy: 0.7517 - mse: 403689.5312 - val_loss: 132294644177092059594752.0000 - val_accuracy: 0.6842 - val_mse: 3776498.5000\n",
      "Epoch 42/100\n",
      "10/10 [==============================] - 0s 3ms/step - loss: 132272486466925396754432.0000 - accuracy: 0.7517 - mse: 403689.5625 - val_loss: 132241870996658532122624.0000 - val_accuracy: 0.6842 - val_mse: 3776498.5000\n",
      "Epoch 43/100\n",
      "10/10 [==============================] - 0s 3ms/step - loss: 132219713286491869282304.0000 - accuracy: 0.7517 - mse: 403689.5312 - val_loss: 132189097816225004650496.0000 - val_accuracy: 0.6842 - val_mse: 3776498.5000\n",
      "Epoch 44/100\n",
      "10/10 [==============================] - 0s 4ms/step - loss: 132166940106058341810176.0000 - accuracy: 0.7517 - mse: 403689.5312 - val_loss: 132136351657389241401344.0000 - val_accuracy: 0.6842 - val_mse: 3776498.5000\n",
      "Epoch 45/100\n",
      "10/10 [==============================] - 0s 3ms/step - loss: 132114193947222578561024.0000 - accuracy: 0.7517 - mse: 403689.5312 - val_loss: 132083605498553478152192.0000 - val_accuracy: 0.6842 - val_mse: 3776498.5000\n",
      "Epoch 46/100\n",
      "10/10 [==============================] - 0s 3ms/step - loss: 132061456795586070052864.0000 - accuracy: 0.7517 - mse: 403689.5312 - val_loss: 132030859339717714903040.0000 - val_accuracy: 0.6842 - val_mse: 3776498.5000\n",
      "Epoch 47/100\n",
      "10/10 [==============================] - 0s 3ms/step - loss: 132008710636750306803712.0000 - accuracy: 0.7517 - mse: 403689.5625 - val_loss: 131978122188081206394880.0000 - val_accuracy: 0.6842 - val_mse: 3776498.5000\n",
      "Epoch 48/100\n",
      "10/10 [==============================] - 0s 3ms/step - loss: 131955982492313053036544.0000 - accuracy: 0.7517 - mse: 403689.5312 - val_loss: 131925412058042462109696.0000 - val_accuracy: 0.6842 - val_mse: 3776498.5000\n",
      "Epoch 49/100\n",
      "10/10 [==============================] - 0s 3ms/step - loss: 131903272362274308751360.0000 - accuracy: 0.7517 - mse: 403689.5625 - val_loss: 131872710935202972565504.0000 - val_accuracy: 0.6842 - val_mse: 3776498.5000\n",
      "Epoch 50/100\n",
      "10/10 [==============================] - 0s 3ms/step - loss: 131850580246634073948160.0000 - accuracy: 0.7517 - mse: 403689.5312 - val_loss: 131820027826761992503296.0000 - val_accuracy: 0.6842 - val_mse: 3776498.5000\n",
      "Epoch 51/100\n",
      "10/10 [==============================] - 0s 3ms/step - loss: 131797879123794584403968.0000 - accuracy: 0.7517 - mse: 403689.5312 - val_loss: 131767335711121757700096.0000 - val_accuracy: 0.6842 - val_mse: 3776498.5000\n",
      "Epoch 52/100\n",
      "10/10 [==============================] - 0s 3ms/step - loss: 131745205022552859082752.0000 - accuracy: 0.7517 - mse: 403689.5312 - val_loss: 131714670617079287119872.0000 - val_accuracy: 0.6842 - val_mse: 3776498.5000\n",
      "Epoch 53/100\n",
      "10/10 [==============================] - 0s 3ms/step - loss: 131692539928510388502528.0000 - accuracy: 0.7517 - mse: 403689.5312 - val_loss: 131661996515837561798656.0000 - val_accuracy: 0.6842 - val_mse: 3776498.5000\n",
      "Epoch 54/100\n",
      "10/10 [==============================] - 0s 3ms/step - loss: 131639883841667172663296.0000 - accuracy: 0.7517 - mse: 403689.5625 - val_loss: 131609340428994345959424.0000 - val_accuracy: 0.6842 - val_mse: 3776498.5000\n",
      "Epoch 55/100\n",
      "10/10 [==============================] - 0s 3ms/step - loss: 131587218747624702083072.0000 - accuracy: 0.7517 - mse: 403689.5312 - val_loss: 131556702356549639602176.0000 - val_accuracy: 0.6842 - val_mse: 3776498.5000\n",
      "Epoch 56/100\n",
      "10/10 [==============================] - 0s 4ms/step - loss: 131534598689578505207808.0000 - accuracy: 0.7517 - mse: 403689.5312 - val_loss: 131504064284104933244928.0000 - val_accuracy: 0.6842 - val_mse: 3776498.5000\n",
      "Epoch 57/100\n",
      "10/10 [==============================] - 0s 3ms/step - loss: 131481951609934544109568.0000 - accuracy: 0.7517 - mse: 403689.5312 - val_loss: 131451453233257991110656.0000 - val_accuracy: 0.6842 - val_mse: 3776498.5000\n",
      "Epoch 58/100\n",
      "10/10 [==============================] - 0s 3ms/step - loss: 131429349566286856716288.0000 - accuracy: 0.7517 - mse: 403689.5625 - val_loss: 131398842182411048976384.0000 - val_accuracy: 0.6842 - val_mse: 3776498.5000\n",
      "Epoch 59/100\n",
      "10/10 [==============================] - 0s 3ms/step - loss: 131376738515439914582016.0000 - accuracy: 0.7517 - mse: 403689.5625 - val_loss: 131346231131564106842112.0000 - val_accuracy: 0.6842 - val_mse: 3776498.5000\n",
      "Epoch 60/100\n",
      "10/10 [==============================] - 0s 3ms/step - loss: 131324136471792227188736.0000 - accuracy: 0.7517 - mse: 403689.5625 - val_loss: 131293638095115674189824.0000 - val_accuracy: 0.6842 - val_mse: 3776498.5000\n",
      "Epoch 61/100\n",
      "10/10 [==============================] - 0s 3ms/step - loss: 131271561449742304018432.0000 - accuracy: 0.7517 - mse: 403689.5312 - val_loss: 131241072080265005760512.0000 - val_accuracy: 0.6842 - val_mse: 3776498.5000\n",
      "Epoch 62/100\n",
      "10/10 [==============================] - 0s 3ms/step - loss: 131218995434891635589120.0000 - accuracy: 0.7517 - mse: 403689.5312 - val_loss: 131188515072613592072192.0000 - val_accuracy: 0.6842 - val_mse: 3776498.5000\n",
      "Epoch 63/100\n",
      "10/10 [==============================] - 0s 3ms/step - loss: 131166420412841712418816.0000 - accuracy: 0.7517 - mse: 403689.5312 - val_loss: 131135931043364414160896.0000 - val_accuracy: 0.6842 - val_mse: 3776498.5000\n",
      "Epoch 64/100\n",
      "10/10 [==============================] - 0s 3ms/step - loss: 131113872412389553471488.0000 - accuracy: 0.7517 - mse: 403689.5312 - val_loss: 131083383042912255213568.0000 - val_accuracy: 0.6842 - val_mse: 3776498.5000\n",
      "Epoch 65/100\n",
      "10/10 [==============================] - 0s 3ms/step - loss: 131061315404738139783168.0000 - accuracy: 0.7517 - mse: 403689.5312 - val_loss: 131030853056858605748224.0000 - val_accuracy: 0.6842 - val_mse: 3776498.5000\n",
      "Epoch 66/100\n",
      "10/10 [==============================] - 0s 3ms/step - loss: 131008794425883745058816.0000 - accuracy: 0.7517 - mse: 403689.5312 - val_loss: 130978332078004211023872.0000 - val_accuracy: 0.6842 - val_mse: 3776498.5000\n",
      "Epoch 67/100\n",
      "10/10 [==============================] - 0s 3ms/step - loss: 130956264439830095593472.0000 - accuracy: 0.7517 - mse: 403689.5312 - val_loss: 130925811099149816299520.0000 - val_accuracy: 0.6842 - val_mse: 3776498.5000\n",
      "Epoch 68/100\n",
      "10/10 [==============================] - 0s 3ms/step - loss: 130903770482573465092096.0000 - accuracy: 0.7517 - mse: 403689.5312 - val_loss: 130873326149092440539136.0000 - val_accuracy: 0.6842 - val_mse: 3776498.5000\n",
      "Epoch 69/100\n",
      "10/10 [==============================] - 0s 3ms/step - loss: 130851267518117579849728.0000 - accuracy: 0.7517 - mse: 403689.5312 - val_loss: 130820805170238045814784.0000 - val_accuracy: 0.6842 - val_mse: 3776498.5000\n",
      "Epoch 70/100\n",
      "10/10 [==============================] - 0s 3ms/step - loss: 130798899661650515722240.0000 - accuracy: 0.7517 - mse: 403689.5312 - val_loss: 130768635472154585989120.0000 - val_accuracy: 0.6842 - val_mse: 3776498.5000\n",
      "Epoch 71/100\n",
      "10/10 [==============================] - 0s 3ms/step - loss: 130746720956367801155584.0000 - accuracy: 0.7517 - mse: 403689.5312 - val_loss: 130716447759672616681472.0000 - val_accuracy: 0.6842 - val_mse: 3776498.5000\n",
      "Epoch 72/100\n",
      "10/10 [==============================] - 0s 3ms/step - loss: 130694551258284341329920.0000 - accuracy: 0.7517 - mse: 403689.5312 - val_loss: 130664314090386175819776.0000 - val_accuracy: 0.6842 - val_mse: 3776498.5000\n",
      "Epoch 73/100\n",
      "10/10 [==============================] - 0s 3ms/step - loss: 130642390567400136245248.0000 - accuracy: 0.7517 - mse: 403689.5312 - val_loss: 130612144392302715994112.0000 - val_accuracy: 0.6842 - val_mse: 3776498.5000\n",
      "Epoch 74/100\n",
      "10/10 [==============================] - 0s 3ms/step - loss: 130590238883715185901568.0000 - accuracy: 0.7517 - mse: 403689.5312 - val_loss: 130560001715817020391424.0000 - val_accuracy: 0.6842 - val_mse: 3776498.5000\n",
      "Epoch 75/100\n",
      "10/10 [==============================] - 0s 3ms/step - loss: 130538105214428745039872.0000 - accuracy: 0.7517 - mse: 403689.5312 - val_loss: 130507859039331324788736.0000 - val_accuracy: 0.6842 - val_mse: 3776498.5000\n",
      "Epoch 76/100\n",
      "10/10 [==============================] - 0s 3ms/step - loss: 130485980552341558919168.0000 - accuracy: 0.7517 - mse: 403689.5312 - val_loss: 130455752391642648150016.0000 - val_accuracy: 0.6842 - val_mse: 3776498.5000\n",
      "Epoch 77/100\n",
      "10/10 [==============================] - 0s 4ms/step - loss: 130433864897453627539456.0000 - accuracy: 0.7517 - mse: 403689.5312 - val_loss: 130403645743953971511296.0000 - val_accuracy: 0.6842 - val_mse: 3776498.5000\n",
      "Epoch 78/100\n",
      "10/10 [==============================] - 0s 4ms/step - loss: 130381767256964205641728.0000 - accuracy: 0.7517 - mse: 403689.5312 - val_loss: 130351548103464549613568.0000 - val_accuracy: 0.6842 - val_mse: 3776498.5000\n",
      "Epoch 79/100\n",
      "10/10 [==============================] - 0s 4ms/step - loss: 130329678623674038484992.0000 - accuracy: 0.7517 - mse: 403689.5625 - val_loss: 130299459470174382456832.0000 - val_accuracy: 0.6842 - val_mse: 3776498.5000\n",
      "Epoch 80/100\n",
      "10/10 [==============================] - 0s 4ms/step - loss: 130277589990383871328256.0000 - accuracy: 0.7517 - mse: 403689.5312 - val_loss: 130247379844083470041088.0000 - val_accuracy: 0.6842 - val_mse: 3776498.5000\n",
      "Epoch 81/100\n",
      "10/10 [==============================] - 0s 3ms/step - loss: 130225510364292958912512.0000 - accuracy: 0.7517 - mse: 403689.5312 - val_loss: 130195318232391067107328.0000 - val_accuracy: 0.6842 - val_mse: 3776498.5000\n",
      "Epoch 82/100\n",
      "10/10 [==============================] - 0s 3ms/step - loss: 130173448752600555978752.0000 - accuracy: 0.7517 - mse: 403689.5312 - val_loss: 130143265627897918914560.0000 - val_accuracy: 0.6842 - val_mse: 3776498.5000\n",
      "Epoch 83/100\n",
      "10/10 [==============================] - 0s 4ms/step - loss: 130121396148107407785984.0000 - accuracy: 0.7517 - mse: 403689.5312 - val_loss: 130091222030604025462784.0000 - val_accuracy: 0.6842 - val_mse: 3776498.5000\n",
      "Epoch 84/100\n",
      "10/10 [==============================] - 0s 3ms/step - loss: 130069361558012769075200.0000 - accuracy: 0.7517 - mse: 403689.5625 - val_loss: 130039187440509386752000.0000 - val_accuracy: 0.6842 - val_mse: 3776498.5000\n",
      "Epoch 85/100\n",
      "10/10 [==============================] - 0s 4ms/step - loss: 130017326967918130364416.0000 - accuracy: 0.7517 - mse: 403689.5938 - val_loss: 129987134836016238559232.0000 - val_accuracy: 0.6842 - val_mse: 3776498.5000\n",
      "Epoch 86/100\n",
      "10/10 [==============================] - 0s 4ms/step - loss: 129965301385022746394624.0000 - accuracy: 0.7517 - mse: 403689.5312 - val_loss: 129935145281917873553408.0000 - val_accuracy: 0.6842 - val_mse: 3776498.5000\n",
      "Epoch 87/100\n",
      "10/10 [==============================] - 0s 3ms/step - loss: 129913302823725126647808.0000 - accuracy: 0.7517 - mse: 403689.5625 - val_loss: 129883128706221744324608.0000 - val_accuracy: 0.6842 - val_mse: 3776498.5000\n",
      "Epoch 88/100\n",
      "10/10 [==============================] - 0s 3ms/step - loss: 129861295255228252160000.0000 - accuracy: 0.7517 - mse: 403689.5312 - val_loss: 129831139152123379318784.0000 - val_accuracy: 0.6842 - val_mse: 3776498.5000\n",
      "Epoch 89/100\n",
      "10/10 [==============================] - 0s 3ms/step - loss: 129809305701129887154176.0000 - accuracy: 0.7517 - mse: 403689.5312 - val_loss: 129779158605224269053952.0000 - val_accuracy: 0.6842 - val_mse: 3776498.5000\n",
      "Epoch 90/100\n",
      "10/10 [==============================] - 0s 3ms/step - loss: 129757334161430031630336.0000 - accuracy: 0.7517 - mse: 403689.5312 - val_loss: 129727187065524413530112.0000 - val_accuracy: 0.6842 - val_mse: 3776498.5000\n",
      "Epoch 91/100\n",
      "10/10 [==============================] - 0s 3ms/step - loss: 129705362621730176106496.0000 - accuracy: 0.7517 - mse: 403689.5312 - val_loss: 129675224533023812747264.0000 - val_accuracy: 0.6842 - val_mse: 3776498.5000\n",
      "Epoch 92/100\n",
      "10/10 [==============================] - 0s 3ms/step - loss: 129653400089229575323648.0000 - accuracy: 0.7517 - mse: 403689.5625 - val_loss: 129623271007722466705408.0000 - val_accuracy: 0.6842 - val_mse: 3776498.5000\n",
      "Epoch 93/100\n",
      "10/10 [==============================] - 0s 3ms/step - loss: 129601455571127484022784.0000 - accuracy: 0.7517 - mse: 403689.5000 - val_loss: 129571326489620375404544.0000 - val_accuracy: 0.6842 - val_mse: 3776498.5000\n",
      "Epoch 94/100\n",
      "10/10 [==============================] - 0s 3ms/step - loss: 129549520060224647462912.0000 - accuracy: 0.7517 - mse: 403689.5000 - val_loss: 129519399985916793585664.0000 - val_accuracy: 0.6842 - val_mse: 3776498.5000\n",
      "Epoch 95/100\n",
      "10/10 [==============================] - 0s 3ms/step - loss: 129497584549321810903040.0000 - accuracy: 0.7517 - mse: 403689.5312 - val_loss: 129467491496611721248768.0000 - val_accuracy: 0.6842 - val_mse: 3776498.5000\n",
      "Epoch 96/100\n",
      "10/10 [==============================] - 0s 3ms/step - loss: 129445676060016738566144.0000 - accuracy: 0.7517 - mse: 403689.5312 - val_loss: 129415555985708884688896.0000 - val_accuracy: 0.6842 - val_mse: 3776498.5000\n",
      "Epoch 97/100\n",
      "10/10 [==============================] - 0s 4ms/step - loss: 129393776577910920970240.0000 - accuracy: 0.7517 - mse: 403689.5312 - val_loss: 129363665510802321833984.0000 - val_accuracy: 0.6842 - val_mse: 3776498.5000\n",
      "Epoch 98/100\n",
      "10/10 [==============================] - 0s 3ms/step - loss: 129341868088605848633344.0000 - accuracy: 0.7517 - mse: 403689.5312 - val_loss: 129311766028696504238080.0000 - val_accuracy: 0.6842 - val_mse: 3776498.5000\n",
      "Epoch 99/100\n",
      "10/10 [==============================] - 0s 3ms/step - loss: 129290076692891087929344.0000 - accuracy: 0.7517 - mse: 403689.5312 - val_loss: 129260172791365347835904.0000 - val_accuracy: 0.6842 - val_mse: 3776498.5000\n",
      "Epoch 100/100\n",
      "10/10 [==============================] - 0s 3ms/step - loss: 129238501469958441009152.0000 - accuracy: 0.7517 - mse: 403689.5312 - val_loss: 129208606575631955656704.0000 - val_accuracy: 0.6842 - val_mse: 3776498.5000\n"
     ]
    },
    {
     "data": {
      "text/plain": "<keras.callbacks.History at 0x181a9312910>"
     },
     "execution_count": 193,
     "metadata": {},
     "output_type": "execute_result"
    }
   ],
   "source": [
    "batch_size = 64\n",
    "autoencoder.fit(x_train_NN, x_train_NN,\n",
    "                epochs=100,\n",
    "                batch_size= batch_size,\n",
    "                shuffle=True,\n",
    "                validation_data=(x_test_NN, x_test_NN),\n",
    "                steps_per_epoch=x_train_NN.shape[0] // batch_size + 1,\n",
    "                validation_steps=x_test_NN.shape[0] // batch_size + 1)\n"
   ],
   "metadata": {
    "collapsed": false,
    "pycharm": {
     "name": "#%%\n"
    }
   }
  },
  {
   "cell_type": "code",
   "execution_count": 194,
   "outputs": [],
   "source": [
    "# Encode and decode some digits\n",
    "# Note that we take them from the *test* set\n",
    "encoded_imgs = encoder.predict(x_test_NN)\n",
    "decoded_imgs = decoder.predict(encoded_imgs)"
   ],
   "metadata": {
    "collapsed": false,
    "pycharm": {
     "name": "#%%\n"
    }
   }
  },
  {
   "cell_type": "code",
   "execution_count": 195,
   "outputs": [
    {
     "name": "stdout",
     "output_type": "stream",
     "text": [
      "[[ 0.  4.  0. ...  0.  0. 26.]\n",
      " [ 0.  4.  0. ...  0.  0. 26.]\n",
      " [ 0.  4.  0. ...  0.  0. 26.]\n",
      " ...\n",
      " [ 0.  4.  0. ...  0.  0. 26.]\n",
      " [ 0.  4.  0. ...  0.  0. 26.]\n",
      " [ 0.  4.  0. ...  0.  0. 26.]]\n"
     ]
    }
   ],
   "source": [
    "np.set_printoptions(suppress=True)\n",
    "print(np.around(decoded_imgs, 0))"
   ],
   "metadata": {
    "collapsed": false,
    "pycharm": {
     "name": "#%%\n"
    }
   }
  },
  {
   "cell_type": "code",
   "execution_count": 196,
   "outputs": [
    {
     "data": {
      "text/plain": "       0         1    2    3    4    5          6\n147  0.0  3.514018  0.0  0.0  0.0  0.0  25.864637\n148  0.0  3.514018  0.0  0.0  0.0  0.0  25.864637\n149  0.0  3.514018  0.0  0.0  0.0  0.0  25.864637\n150  0.0  3.514018  0.0  0.0  0.0  0.0  25.864637\n151  0.0  3.514018  0.0  0.0  0.0  0.0  25.864637",
      "text/html": "<div>\n<style scoped>\n    .dataframe tbody tr th:only-of-type {\n        vertical-align: middle;\n    }\n\n    .dataframe tbody tr th {\n        vertical-align: top;\n    }\n\n    .dataframe thead th {\n        text-align: right;\n    }\n</style>\n<table border=\"1\" class=\"dataframe\">\n  <thead>\n    <tr style=\"text-align: right;\">\n      <th></th>\n      <th>0</th>\n      <th>1</th>\n      <th>2</th>\n      <th>3</th>\n      <th>4</th>\n      <th>5</th>\n      <th>6</th>\n    </tr>\n  </thead>\n  <tbody>\n    <tr>\n      <th>147</th>\n      <td>0.0</td>\n      <td>3.514018</td>\n      <td>0.0</td>\n      <td>0.0</td>\n      <td>0.0</td>\n      <td>0.0</td>\n      <td>25.864637</td>\n    </tr>\n    <tr>\n      <th>148</th>\n      <td>0.0</td>\n      <td>3.514018</td>\n      <td>0.0</td>\n      <td>0.0</td>\n      <td>0.0</td>\n      <td>0.0</td>\n      <td>25.864637</td>\n    </tr>\n    <tr>\n      <th>149</th>\n      <td>0.0</td>\n      <td>3.514018</td>\n      <td>0.0</td>\n      <td>0.0</td>\n      <td>0.0</td>\n      <td>0.0</td>\n      <td>25.864637</td>\n    </tr>\n    <tr>\n      <th>150</th>\n      <td>0.0</td>\n      <td>3.514018</td>\n      <td>0.0</td>\n      <td>0.0</td>\n      <td>0.0</td>\n      <td>0.0</td>\n      <td>25.864637</td>\n    </tr>\n    <tr>\n      <th>151</th>\n      <td>0.0</td>\n      <td>3.514018</td>\n      <td>0.0</td>\n      <td>0.0</td>\n      <td>0.0</td>\n      <td>0.0</td>\n      <td>25.864637</td>\n    </tr>\n  </tbody>\n</table>\n</div>"
     },
     "execution_count": 196,
     "metadata": {},
     "output_type": "execute_result"
    }
   ],
   "source": [
    "df = pd.DataFrame(decoded_imgs)\n",
    "df.tail()"
   ],
   "metadata": {
    "collapsed": false,
    "pycharm": {
     "name": "#%%\n"
    }
   }
  },
  {
   "cell_type": "code",
   "execution_count": 169,
   "outputs": [],
   "source": [],
   "metadata": {
    "collapsed": false,
    "pycharm": {
     "name": "#%%\n"
    }
   }
  }
 ],
 "metadata": {
  "kernelspec": {
   "display_name": "Python 3",
   "language": "python",
   "name": "python3"
  },
  "language_info": {
   "codemirror_mode": {
    "name": "ipython",
    "version": 2
   },
   "file_extension": ".py",
   "mimetype": "text/x-python",
   "name": "python",
   "nbconvert_exporter": "python",
   "pygments_lexer": "ipython2",
   "version": "2.7.6"
  }
 },
 "nbformat": 4,
 "nbformat_minor": 0
}