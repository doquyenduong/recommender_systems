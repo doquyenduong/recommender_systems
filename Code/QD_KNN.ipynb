{
 "cells": [
  {
   "cell_type": "markdown",
   "id": "c3c264ca",
   "metadata": {},
   "source": [
    "# The K-nearest neighbors (KNN) \n",
    "KNN algorithm is a type of supervised machine learning algorithms.\n",
    "KNN is a non-parametric learning, which means that it doesn't assume anything about the underlying data."
   ]
  },
  {
   "cell_type": "code",
   "execution_count": 1,
   "id": "8087fc81",
   "metadata": {},
   "outputs": [],
   "source": [
    "# Import libraries\n",
    "import numpy as np\n",
    "import matplotlib.pyplot as plt\n",
    "import pandas as pd\n",
    "import warnings\n",
    "warnings.filterwarnings('ignore')\n",
    "from sklearn.model_selection import train_test_split, cross_val_score, GridSearchCV  \n",
    "from sklearn.preprocessing import StandardScaler                                          ## scale features\n",
    "from sklearn.neighbors import KNeighborsClassifier                                        ## fit model\n",
    "from sklearn.metrics import classification_report, confusion_matrix, roc_auc_score        ## evaluate the model\n",
    "from sklearn.pipeline import Pipeline"
   ]
  },
  {
   "cell_type": "markdown",
   "id": "0e42b7b0",
   "metadata": {},
   "source": [
    "## Import data"
   ]
  },
  {
   "cell_type": "code",
   "execution_count": 2,
   "id": "e6eaedec",
   "metadata": {},
   "outputs": [],
   "source": [
    "from deezerData import readData\n",
    "df, X, y, X_train, X_test, y_train, y_test = readData()\n",
    "\n",
    "# Making arrays from the imported data\n",
    "X, y, X_train, X_test, y_train, y_test = X.values, y.values, X_train.values, X_test.values, y_train.values, y_test.values"
   ]
  },
  {
   "cell_type": "markdown",
   "id": "db918f5b",
   "metadata": {},
   "source": [
    "## Way 1: Scaling in a pipeline, grid search with cross validation"
   ]
  },
  {
   "cell_type": "markdown",
   "id": "ac60c704",
   "metadata": {},
   "source": [
    "Source: DataCamp"
   ]
  },
  {
   "cell_type": "markdown",
   "id": "1604d93a",
   "metadata": {},
   "source": [
    "In this section, we build the pipeline, which includes the scaler and the KNeighborsClassifier. Next, the GridSearchCV is used to find the best parameters for the number of neighbors from 1 to 50. "
   ]
  },
  {
   "cell_type": "code",
   "execution_count": 3,
   "id": "37c1e059",
   "metadata": {},
   "outputs": [
    {
     "name": "stdout",
     "output_type": "stream",
     "text": [
      "{'knn__n_neighbors': 5}\n",
      "0.7632495164410058\n"
     ]
    }
   ],
   "source": [
    "# Build pipeline\n",
    "steps = [('scaler', StandardScaler()),\n",
    "         ('knn', KNeighborsClassifier())]\n",
    "\n",
    "pipeline = Pipeline(steps)\n",
    "# n_neighbors from 1 to 50\n",
    "parameters = {'knn__n_neighbors': np.arange(1, 50)}\n",
    "\n",
    "# Grid search by fitting the model\n",
    "cv = GridSearchCV(pipeline, param_grid=parameters)\n",
    "cv.fit(X_train, y_train)\n",
    "y_pred = cv.predict(X_test)\n",
    "print(cv.best_params_)\n",
    "print(cv.score(X_test, y_test))"
   ]
  },
  {
   "cell_type": "markdown",
   "id": "3b1c621c",
   "metadata": {},
   "source": [
    "After having the best parameters, we evaluate the accuracy and ROC AUC as follows:"
   ]
  },
  {
   "cell_type": "code",
   "execution_count": 10,
   "id": "ea114728",
   "metadata": {},
   "outputs": [
    {
     "name": "stdout",
     "output_type": "stream",
     "text": [
      "              precision    recall  f1-score   support\n",
      "\n",
      "           0       0.64      0.63      0.64       847\n",
      "           1       0.82      0.83      0.82      1738\n",
      "\n",
      "    accuracy                           0.76      2585\n",
      "   macro avg       0.73      0.73      0.73      2585\n",
      "weighted avg       0.76      0.76      0.76      2585\n",
      "\n",
      "Accuracy of way 1: 0.7632495164410058\n",
      "ROC AUC of way 1: 0.7289091805777651\n"
     ]
    }
   ],
   "source": [
    "# Evaluation\n",
    "print(classification_report(y_test, y_pred))\n",
    "print(\"Accuracy of way 1: {}\".format(cv.score(X_test, y_test)))\n",
    "print(\"ROC AUC of way 1: {}\".format(roc_auc_score(y_test, y_pred)))"
   ]
  },
  {
   "cell_type": "markdown",
   "id": "906e3aee",
   "metadata": {},
   "source": [
    "## Way 2: Finding the best value of K"
   ]
  },
  {
   "cell_type": "markdown",
   "id": "abfcc8ea",
   "metadata": {},
   "source": [
    "Source: https://stackabuse.com/k-nearest-neighbors-algorithm-in-python-and-scikit-learn/"
   ]
  },
  {
   "cell_type": "code",
   "execution_count": 5,
   "id": "126f03fb",
   "metadata": {},
   "outputs": [
    {
     "data": {
      "text/plain": [
       "Text(0, 0.5, 'Mean Error')"
      ]
     },
     "execution_count": 5,
     "metadata": {},
     "output_type": "execute_result"
    },
    {
     "data": {
      "image/png": "[encoded data removed]",
      "text/plain": [
       "<Figure size 864x432 with 1 Axes>"
      ]
     },
     "metadata": {
      "needs_background": "light"
     },
     "output_type": "display_data"
    }
   ],
   "source": [
    "# Feature Scaling: all of features can be uniformly evaluated\n",
    "scaler = StandardScaler()\n",
    "scaler.fit(X_train)\n",
    "\n",
    "X_train_scaled = scaler.transform(X_train)\n",
    "X_test_scaled = scaler.transform(X_test)\n",
    "\n",
    "error = []\n",
    "\n",
    "# Calculating error for K values between 1 and 50 (executes in a loop)\n",
    "## In each iteration the mean error for predicted values of test set is calculated \n",
    "for i in range(1, 50):\n",
    "    knn2 = KNeighborsClassifier(n_neighbors=i)\n",
    "    knn2.fit(X_train_scaled, y_train)\n",
    "    pred_i = knn2.predict(X_test_scaled)\n",
    "    error.append(np.mean(pred_i != y_test))\n",
    "\n",
    "## Plot the mean error for the predicted values of test set for all the K values\n",
    "plt.figure(figsize=(12, 6))\n",
    "plt.plot(range(1, 50), error, color='red', linestyle='dashed', marker='o',\n",
    "          markerfacecolor='blue', markersize=10)\n",
    "plt.title('Error Rate K Value')\n",
    "plt.xlabel('K Value')\n",
    "plt.ylabel('Mean Error')"
   ]
  },
  {
   "cell_type": "markdown",
   "id": "75142bda",
   "metadata": {},
   "source": [
    "From the output we can see that the mean error is lowest when the value of the K is 17."
   ]
  },
  {
   "cell_type": "code",
   "execution_count": 6,
   "id": "a690506a",
   "metadata": {},
   "outputs": [
    {
     "name": "stdout",
     "output_type": "stream",
     "text": [
      "[[ 847    0]\n",
      " [1738    0]]\n",
      "              precision    recall  f1-score   support\n",
      "\n",
      "           0       0.33      1.00      0.49       847\n",
      "           1       0.00      0.00      0.00      1738\n",
      "\n",
      "    accuracy                           0.33      2585\n",
      "   macro avg       0.16      0.50      0.25      2585\n",
      "weighted avg       0.11      0.33      0.16      2585\n",
      "\n",
      "AUC of KNN way 2: 0.5\n"
     ]
    }
   ],
   "source": [
    "# Fit model, n_neighbor is choosen because of low mean error as above\n",
    "classifier = KNeighborsClassifier(n_neighbors=17)\n",
    "classifier.fit(X_train, y_train)\n",
    "\n",
    "# Predict\n",
    "y_pred_2 = classifier.predict(X_test_scaled)\n",
    "\n",
    "# Evaluation\n",
    "print(confusion_matrix(y_test, y_pred_2))\n",
    "print(classification_report(y_test, y_pred_2))\n",
    "print(\"AUC of KNN way 2: {}\".format(roc_auc_score(y_test, y_pred_2)))             "
   ]
  },
  {
   "cell_type": "markdown",
   "id": "23f8765d",
   "metadata": {},
   "source": [
    "Compared to way 1, way 2 generates a much lower score of ROC AUC. "
   ]
  },
  {
   "cell_type": "markdown",
   "id": "60f8fa8b",
   "metadata": {},
   "source": [
    "## Model complexity and over/underfitting"
   ]
  },
  {
   "cell_type": "code",
   "execution_count": 7,
   "id": "ba19809e",
   "metadata": {},
   "outputs": [],
   "source": [
    "## Setup arrays to store train and test accuracies\n",
    "neighbors = np.arange(1, 50)\n",
    "train_accuracy = np.empty(len(neighbors))\n",
    "test_accuracy = np.empty(len(neighbors))\n",
    "\n",
    "# Loop over different values of k\n",
    "for i, k in enumerate(neighbors):\n",
    "    # Setup a k-NN Classifier with k neighbors: knn\n",
    "    knn3 = KNeighborsClassifier(n_neighbors=k)\n",
    "\n",
    "    # Fit the classifier to the training data\n",
    "    knn3.fit(X_train, y_train)\n",
    "    \n",
    "    # Compute accuracy on the training set\n",
    "    train_accuracy[i] = knn3.score(X_train, y_train)\n",
    "\n",
    "    # Compute accuracy on the testing set\n",
    "    test_accuracy[i] = knn3.score(X_test, y_test)"
   ]
  },
  {
   "cell_type": "code",
   "execution_count": 8,
   "id": "13eb190c",
   "metadata": {},
   "outputs": [
    {
     "data": {
      "image/png": "[encoded data removed]",
      "text/plain": [
       "<Figure size 432x288 with 1 Axes>"
      ]
     },
     "metadata": {
      "needs_background": "light"
     },
     "output_type": "display_data"
    }
   ],
   "source": [
    "# Generate plot\n",
    "fig2, ax2 = plt.subplots(1)\n",
    "plt.title('k-NN: Varying Number of Neighbors')\n",
    "plt.plot(neighbors, test_accuracy, label = 'Testing Accuracy')\n",
    "plt.plot(neighbors, train_accuracy, label = 'Training Accuracy')\n",
    "plt.legend()\n",
    "plt.xlabel('Number of Neighbors')\n",
    "plt.ylabel('Accuracy')\n",
    "plt.show()"
   ]
  }
 ],
 "metadata": {
  "kernelspec": {
   "display_name": "Python 3 (ipykernel)",
   "language": "python",
   "name": "python3"
  },
  "language_info": {
   "codemirror_mode": {
    "name": "ipython",
    "version": 3
   },
   "file_extension": ".py",
   "mimetype": "text/x-python",
   "name": "python",
   "nbconvert_exporter": "python",
   "pygments_lexer": "ipython3",
   "version": "3.9.7"
  },
  "toc": {
   "base_numbering": 1,
   "nav_menu": {},
   "number_sections": true,
   "sideBar": true,
   "skip_h1_title": false,
   "title_cell": "Table of Contents",
   "title_sidebar": "Contents",
   "toc_cell": false,
   "toc_position": {},
   "toc_section_display": true,
   "toc_window_display": false
  }
 },
 "nbformat": 4,
 "nbformat_minor": 5
}
