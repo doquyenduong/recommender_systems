{
 "cells": [
  {
   "cell_type": "markdown",
   "id": "8d54a3fc",
   "metadata": {},
   "source": [
    "# Deep Learning with Keras"
   ]
  },
  {
   "cell_type": "code",
   "execution_count": 4,
   "id": "3735d723",
   "metadata": {},
   "outputs": [],
   "source": [
    "import pandas as pd\n",
    "import numpy as np\n",
    "import matplotlib.pyplot as plt\n",
    "import seaborn as sns\n",
    "from tensorflow.keras.optimizers import Adam\n",
    "from keras.models import Sequential\n",
    "from keras.layers import Dense\n",
    "from keras.callbacks import EarlyStopping, ModelCheckpoint\n",
    "from sklearn.model_selection import train_test_split, cross_val_score, RandomizedSearchCV, KFold"
   ]
  },
  {
   "cell_type": "markdown",
   "id": "f0ee2e0c",
   "metadata": {},
   "source": [
    "## Import data"
   ]
  },
  {
   "cell_type": "code",
   "execution_count": 5,
   "id": "69ad0e0c",
   "metadata": {},
   "outputs": [],
   "source": [
    "# Read file\n",
    "from deezerData import readData\n",
    "df, X, y, X_train, X_test, y_train, y_test = readData()\n",
    "# Making arrays\n",
    "X, y, X_train, X_test, y_train, y_test = X.values, y.values, X_train.values, X_test.values, y_train.values, y_test.values"
   ]
  },
  {
   "cell_type": "code",
   "execution_count": 6,
   "id": "3041099d",
   "metadata": {},
   "outputs": [
    {
     "data": {
      "text/plain": [
       "(12923, 14)"
      ]
     },
     "execution_count": 6,
     "metadata": {},
     "output_type": "execute_result"
    }
   ],
   "source": [
    "X.shape"
   ]
  },
  {
   "cell_type": "markdown",
   "id": "df77b16d",
   "metadata": {},
   "source": [
    "## Preparing a model for tuning\n"
   ]
  },
  {
   "cell_type": "markdown",
   "id": "cd8bc230",
   "metadata": {},
   "source": [
    "Let's tune the hyperparameters of a binary classification model:\n",
    "\n",
    "The first step to turn a model into a sklearn estimator is to build a function that creates it. The definition of this function is important since hyperparameter tuning is carried out by varying the arguments your function receives.\n",
    "\n",
    "Build a simple create_model() function that receives both a learning rate and an activation function as arguments. The Adam optimizer has been imported as an object from keras.optimizers so that you can also change its learning rate parameter."
   ]
  },
  {
   "cell_type": "code",
   "execution_count": 13,
   "id": "fa36ffc1",
   "metadata": {},
   "outputs": [],
   "source": [
    "# Creates a model given an activation and learning rate\n",
    "def create_model(learning_rate, activation):\n",
    "    \n",
    "    # Create an Adam optimizer with the given learning rate\n",
    "    opt = Adam(lr = learning_rate)\n",
    "  \n",
    "    # Create your binary classification model  \n",
    "    model = Sequential()\n",
    "    model.add(Dense(128, input_shape = (14,), activation = activation))\n",
    "    model.add(Dense(256, activation = activation))\n",
    "    model.add(Dense(1, activation = 'sigmoid'))\n",
    "\n",
    "    # Compile your model with your optimizer, loss, and metrics\n",
    "    model.compile(optimizer = opt, loss = 'binary_crossentropy', metrics = ['accuracy'])\n",
    "    return model"
   ]
  },
  {
   "cell_type": "markdown",
   "id": "50a57dc9",
   "metadata": {},
   "source": [
    "# Tuning the model parameters\n"
   ]
  },
  {
   "cell_type": "markdown",
   "id": "56b0a27c",
   "metadata": {},
   "source": [
    "It's time to try out different parameters on your model and see how well it performs. \n",
    "\n",
    "We don't need to use the optional epochs and batch_size parameters when building your KerasClassifier object since we are passing them as params to the random search and this works already:"
   ]
  },
  {
   "cell_type": "code",
   "execution_count": 12,
   "id": "51b1483a",
   "metadata": {},
   "outputs": [
    {
     "name": "stderr",
     "output_type": "stream",
     "text": [
      "C:\\Users\\duong\\AppData\\Local\\Temp/ipykernel_89152/1074235631.py:5: DeprecationWarning: KerasClassifier is deprecated, use Sci-Keras (https://github.com/adriangb/scikeras) instead.\n",
      "  model = KerasClassifier(build_fn = create_model)\n",
      "C:\\Users\\duong\\Anaconda3\\envs\\duong\\lib\\site-packages\\keras\\optimizer_v2\\adam.py:105: UserWarning: The `lr` argument is deprecated, use `learning_rate` instead.\n",
      "  super(Adam, self).__init__(name, **kwargs)\n"
     ]
    },
    {
     "name": "stdout",
     "output_type": "stream",
     "text": [
      "Epoch 1/10\n",
      "68/68 [==============================] - 0s 1ms/step - loss: 3.0878 - accuracy: 0.5689\n",
      "Epoch 2/10\n",
      "68/68 [==============================] - 0s 1ms/step - loss: 0.6828 - accuracy: 0.6387\n",
      "Epoch 3/10\n",
      "68/68 [==============================] - 0s 1ms/step - loss: 0.6886 - accuracy: 0.6396\n",
      "Epoch 4/10\n",
      "68/68 [==============================] - 0s 1ms/step - loss: 0.7806 - accuracy: 0.6236\n",
      "Epoch 5/10\n",
      "68/68 [==============================] - 0s 1ms/step - loss: 0.7626 - accuracy: 0.6055\n",
      "Epoch 6/10\n",
      "68/68 [==============================] - 0s 1ms/step - loss: 0.6946 - accuracy: 0.6427\n",
      "Epoch 7/10\n",
      "68/68 [==============================] - 0s 1ms/step - loss: 0.6966 - accuracy: 0.6140\n",
      "Epoch 8/10\n",
      "68/68 [==============================] - 0s 1ms/step - loss: 0.8084 - accuracy: 0.6087\n",
      "Epoch 9/10\n",
      "68/68 [==============================] - 0s 1ms/step - loss: 0.8310 - accuracy: 0.6009\n",
      "Epoch 10/10\n",
      "68/68 [==============================] - 0s 1ms/step - loss: 0.7105 - accuracy: 0.6219\n",
      "34/34 [==============================] - 0s 846us/step - loss: 0.6570 - accuracy: 0.6541\n",
      "Epoch 1/10\n"
     ]
    },
    {
     "name": "stderr",
     "output_type": "stream",
     "text": [
      "C:\\Users\\duong\\Anaconda3\\envs\\duong\\lib\\site-packages\\keras\\optimizer_v2\\adam.py:105: UserWarning: The `lr` argument is deprecated, use `learning_rate` instead.\n",
      "  super(Adam, self).__init__(name, **kwargs)\n"
     ]
    },
    {
     "name": "stdout",
     "output_type": "stream",
     "text": [
      "68/68 [==============================] - 0s 1ms/step - loss: 2.2024 - accuracy: 0.5798\n",
      "Epoch 2/10\n",
      "68/68 [==============================] - 0s 1ms/step - loss: 0.6658 - accuracy: 0.6455\n",
      "Epoch 3/10\n",
      "68/68 [==============================] - 0s 1ms/step - loss: 0.7168 - accuracy: 0.6121\n",
      "Epoch 4/10\n",
      "68/68 [==============================] - 0s 1ms/step - loss: 0.7698 - accuracy: 0.6181\n",
      "Epoch 5/10\n",
      "68/68 [==============================] - 0s 1ms/step - loss: 0.7269 - accuracy: 0.6056\n",
      "Epoch 6/10\n",
      "68/68 [==============================] - 0s 1ms/step - loss: 1.1540 - accuracy: 0.6072\n",
      "Epoch 7/10\n",
      "68/68 [==============================] - 0s 1ms/step - loss: 0.9410 - accuracy: 0.6146\n",
      "Epoch 8/10\n",
      "68/68 [==============================] - 0s 1ms/step - loss: 0.7308 - accuracy: 0.6276\n",
      "Epoch 9/10\n",
      "68/68 [==============================] - 0s 1ms/step - loss: 0.6839 - accuracy: 0.6374\n",
      "Epoch 10/10\n",
      "68/68 [==============================] - 0s 1ms/step - loss: 0.6719 - accuracy: 0.6361\n",
      "34/34 [==============================] - 0s 967us/step - loss: 1.1563 - accuracy: 0.6404\n",
      "Epoch 1/10\n"
     ]
    },
    {
     "name": "stderr",
     "output_type": "stream",
     "text": [
      "C:\\Users\\duong\\Anaconda3\\envs\\duong\\lib\\site-packages\\keras\\optimizer_v2\\adam.py:105: UserWarning: The `lr` argument is deprecated, use `learning_rate` instead.\n",
      "  super(Adam, self).__init__(name, **kwargs)\n"
     ]
    },
    {
     "name": "stdout",
     "output_type": "stream",
     "text": [
      "68/68 [==============================] - 0s 1ms/step - loss: 1.1894 - accuracy: 0.5549\n",
      "Epoch 2/10\n",
      "68/68 [==============================] - 0s 1ms/step - loss: 0.7208 - accuracy: 0.5823\n",
      "Epoch 3/10\n",
      "68/68 [==============================] - 0s 1ms/step - loss: 0.7374 - accuracy: 0.5821\n",
      "Epoch 4/10\n",
      "68/68 [==============================] - 0s 1ms/step - loss: 0.7882 - accuracy: 0.5656\n",
      "Epoch 5/10\n",
      "68/68 [==============================] - 0s 1ms/step - loss: 0.7692 - accuracy: 0.5667\n",
      "Epoch 6/10\n",
      "68/68 [==============================] - 0s 1ms/step - loss: 0.7500 - accuracy: 0.5756\n",
      "Epoch 7/10\n",
      "68/68 [==============================] - 0s 1ms/step - loss: 1.2562 - accuracy: 0.5591\n",
      "Epoch 8/10\n",
      "68/68 [==============================] - 0s 1ms/step - loss: 1.0598 - accuracy: 0.5658\n",
      "Epoch 9/10\n",
      "68/68 [==============================] - 0s 1ms/step - loss: 0.7127 - accuracy: 0.5846\n",
      "Epoch 10/10\n",
      "68/68 [==============================] - 0s 1ms/step - loss: 0.9002 - accuracy: 0.5510\n",
      "34/34 [==============================] - 0s 1ms/step - loss: 0.7905 - accuracy: 0.7265\n",
      "Epoch 1/5\n"
     ]
    },
    {
     "name": "stderr",
     "output_type": "stream",
     "text": [
      "C:\\Users\\duong\\Anaconda3\\envs\\duong\\lib\\site-packages\\keras\\optimizer_v2\\adam.py:105: UserWarning: The `lr` argument is deprecated, use `learning_rate` instead.\n",
      "  super(Adam, self).__init__(name, **kwargs)\n"
     ]
    },
    {
     "name": "stdout",
     "output_type": "stream",
     "text": [
      "68/68 [==============================] - 0s 1ms/step - loss: 6408678.0000 - accuracy: 0.5673\n",
      "Epoch 2/5\n",
      "68/68 [==============================] - 0s 1ms/step - loss: 6446566.0000 - accuracy: 0.5738\n",
      "Epoch 3/5\n",
      "68/68 [==============================] - 0s 1ms/step - loss: 2558141.5000 - accuracy: 0.5707\n",
      "Epoch 4/5\n",
      "68/68 [==============================] - 0s 1ms/step - loss: 4706745.0000 - accuracy: 0.5641\n",
      "Epoch 5/5\n",
      "68/68 [==============================] - 0s 1ms/step - loss: 8057013.0000 - accuracy: 0.5732\n",
      "34/34 [==============================] - 0s 785us/step - loss: 8077738.0000 - accuracy: 0.6541\n",
      "Epoch 1/5\n"
     ]
    },
    {
     "name": "stderr",
     "output_type": "stream",
     "text": [
      "C:\\Users\\duong\\Anaconda3\\envs\\duong\\lib\\site-packages\\keras\\optimizer_v2\\adam.py:105: UserWarning: The `lr` argument is deprecated, use `learning_rate` instead.\n",
      "  super(Adam, self).__init__(name, **kwargs)\n"
     ]
    },
    {
     "name": "stdout",
     "output_type": "stream",
     "text": [
      "68/68 [==============================] - 0s 1ms/step - loss: 13919451.0000 - accuracy: 0.5714\n",
      "Epoch 2/5\n",
      "68/68 [==============================] - 0s 1ms/step - loss: 8543597.0000 - accuracy: 0.5797\n",
      "Epoch 3/5\n",
      "68/68 [==============================] - 0s 1ms/step - loss: 4320731.5000 - accuracy: 0.5601\n",
      "Epoch 4/5\n",
      "68/68 [==============================] - 0s 1ms/step - loss: 4440506.0000 - accuracy: 0.5649\n",
      "Epoch 5/5\n",
      "68/68 [==============================] - 0s 1ms/step - loss: 4562882.5000 - accuracy: 0.5710\n",
      "34/34 [==============================] - 0s 846us/step - loss: 9121094.0000 - accuracy: 0.6404\n",
      "Epoch 1/5\n"
     ]
    },
    {
     "name": "stderr",
     "output_type": "stream",
     "text": [
      "C:\\Users\\duong\\Anaconda3\\envs\\duong\\lib\\site-packages\\keras\\optimizer_v2\\adam.py:105: UserWarning: The `lr` argument is deprecated, use `learning_rate` instead.\n",
      "  super(Adam, self).__init__(name, **kwargs)\n"
     ]
    },
    {
     "name": "stdout",
     "output_type": "stream",
     "text": [
      "68/68 [==============================] - 0s 1ms/step - loss: 6278073.5000 - accuracy: 0.5496\n",
      "Epoch 2/5\n",
      "68/68 [==============================] - 0s 1ms/step - loss: 7232485.5000 - accuracy: 0.5431\n",
      "Epoch 3/5\n",
      "68/68 [==============================] - 0s 1ms/step - loss: 4474214.5000 - accuracy: 0.5393\n",
      "Epoch 4/5\n",
      "68/68 [==============================] - 0s 1ms/step - loss: 4439506.5000 - accuracy: 0.5541\n",
      "Epoch 5/5\n",
      "68/68 [==============================] - 0s 1ms/step - loss: 5206574.5000 - accuracy: 0.5402\n",
      "34/34 [==============================] - 0s 755us/step - loss: 2188627.2500 - accuracy: 0.2735\n",
      "Epoch 1/10\n"
     ]
    },
    {
     "name": "stderr",
     "output_type": "stream",
     "text": [
      "C:\\Users\\duong\\Anaconda3\\envs\\duong\\lib\\site-packages\\keras\\optimizer_v2\\adam.py:105: UserWarning: The `lr` argument is deprecated, use `learning_rate` instead.\n",
      "  super(Adam, self).__init__(name, **kwargs)\n"
     ]
    },
    {
     "name": "stdout",
     "output_type": "stream",
     "text": [
      "34/34 [==============================] - 0s 1ms/step - loss: 18635468.0000 - accuracy: 0.5546\n",
      "Epoch 2/10\n",
      "34/34 [==============================] - 0s 1ms/step - loss: 7738832.5000 - accuracy: 0.5797\n",
      "Epoch 3/10\n",
      "34/34 [==============================] - 0s 1ms/step - loss: 4555748.0000 - accuracy: 0.5629\n",
      "Epoch 4/10\n",
      "34/34 [==============================] - 0s 1ms/step - loss: 9998758.0000 - accuracy: 0.5555\n",
      "Epoch 5/10\n",
      "34/34 [==============================] - 0s 1ms/step - loss: 8853958.0000 - accuracy: 0.5581\n",
      "Epoch 6/10\n",
      "34/34 [==============================] - 0s 1ms/step - loss: 3578514.2500 - accuracy: 0.5690\n",
      "Epoch 7/10\n",
      "34/34 [==============================] - 0s 1ms/step - loss: 6848923.0000 - accuracy: 0.5545\n",
      "Epoch 8/10\n",
      "34/34 [==============================] - 0s 1ms/step - loss: 4338956.5000 - accuracy: 0.5783\n",
      "Epoch 9/10\n",
      "34/34 [==============================] - 0s 1ms/step - loss: 3263092.0000 - accuracy: 0.5586\n",
      "Epoch 10/10\n",
      "34/34 [==============================] - 0s 2ms/step - loss: 3082809.0000 - accuracy: 0.5757\n",
      "17/17 [==============================] - 0s 997us/step - loss: 8832151.0000 - accuracy: 0.3459\n",
      "Epoch 1/10\n"
     ]
    },
    {
     "name": "stderr",
     "output_type": "stream",
     "text": [
      "C:\\Users\\duong\\Anaconda3\\envs\\duong\\lib\\site-packages\\keras\\optimizer_v2\\adam.py:105: UserWarning: The `lr` argument is deprecated, use `learning_rate` instead.\n",
      "  super(Adam, self).__init__(name, **kwargs)\n"
     ]
    },
    {
     "name": "stdout",
     "output_type": "stream",
     "text": [
      "34/34 [==============================] - 0s 1ms/step - loss: 5812361.0000 - accuracy: 0.5768\n",
      "Epoch 2/10\n",
      "34/34 [==============================] - 0s 1ms/step - loss: 10525565.0000 - accuracy: 0.5663\n",
      "Epoch 3/10\n",
      "34/34 [==============================] - 0s 1ms/step - loss: 8583733.0000 - accuracy: 0.5666\n",
      "Epoch 4/10\n",
      "34/34 [==============================] - 0s 1ms/step - loss: 6642285.5000 - accuracy: 0.5796\n",
      "Epoch 5/10\n",
      "34/34 [==============================] - 0s 2ms/step - loss: 5031764.0000 - accuracy: 0.5738\n",
      "Epoch 6/10\n",
      "34/34 [==============================] - 0s 2ms/step - loss: 3241122.2500 - accuracy: 0.5795\n",
      "Epoch 7/10\n",
      "34/34 [==============================] - 0s 2ms/step - loss: 3523369.7500 - accuracy: 0.5764\n",
      "Epoch 8/10\n",
      "34/34 [==============================] - 0s 2ms/step - loss: 2884236.2500 - accuracy: 0.5574\n",
      "Epoch 9/10\n",
      "34/34 [==============================] - 0s 2ms/step - loss: 5223046.0000 - accuracy: 0.5844\n",
      "Epoch 10/10\n",
      "34/34 [==============================] - 0s 2ms/step - loss: 3344124.2500 - accuracy: 0.5651\n",
      "17/17 [==============================] - 0s 996us/step - loss: 11061562.0000 - accuracy: 0.3596\n",
      "Epoch 1/10\n"
     ]
    },
    {
     "name": "stderr",
     "output_type": "stream",
     "text": [
      "C:\\Users\\duong\\Anaconda3\\envs\\duong\\lib\\site-packages\\keras\\optimizer_v2\\adam.py:105: UserWarning: The `lr` argument is deprecated, use `learning_rate` instead.\n",
      "  super(Adam, self).__init__(name, **kwargs)\n"
     ]
    },
    {
     "name": "stdout",
     "output_type": "stream",
     "text": [
      "34/34 [==============================] - 0s 1ms/step - loss: 11270640.0000 - accuracy: 0.5414\n",
      "Epoch 2/10\n",
      "34/34 [==============================] - 0s 1ms/step - loss: 4622320.0000 - accuracy: 0.5393\n",
      "Epoch 3/10\n",
      "34/34 [==============================] - 0s 1ms/step - loss: 4406550.0000 - accuracy: 0.5498\n",
      "Epoch 4/10\n",
      "34/34 [==============================] - 0s 1ms/step - loss: 4337750.0000 - accuracy: 0.5470\n",
      "Epoch 5/10\n",
      "34/34 [==============================] - 0s 1ms/step - loss: 6006201.5000 - accuracy: 0.5291\n",
      "Epoch 6/10\n",
      "34/34 [==============================] - 0s 1ms/step - loss: 4277949.0000 - accuracy: 0.5601\n",
      "Epoch 7/10\n",
      "34/34 [==============================] - 0s 1ms/step - loss: 5723678.5000 - accuracy: 0.5530\n",
      "Epoch 8/10\n",
      "34/34 [==============================] - 0s 1ms/step - loss: 9105242.0000 - accuracy: 0.5500\n",
      "Epoch 9/10\n",
      "34/34 [==============================] - 0s 1ms/step - loss: 4379188.0000 - accuracy: 0.5446\n",
      "Epoch 10/10\n",
      "34/34 [==============================] - 0s 1ms/step - loss: 3024532.2500 - accuracy: 0.5398\n",
      "17/17 [==============================] - ETA: 1s - loss: 4996465.5000 - accuracy: 0.59 - 0s 997us/step - loss: 3397156.0000 - accuracy: 0.7265\n",
      "Epoch 1/20\n"
     ]
    },
    {
     "name": "stderr",
     "output_type": "stream",
     "text": [
      "C:\\Users\\duong\\Anaconda3\\envs\\duong\\lib\\site-packages\\keras\\optimizer_v2\\adam.py:105: UserWarning: The `lr` argument is deprecated, use `learning_rate` instead.\n",
      "  super(Adam, self).__init__(name, **kwargs)\n"
     ]
    },
    {
     "name": "stdout",
     "output_type": "stream",
     "text": [
      "68/68 [==============================] - 0s 1ms/step - loss: 6724660.0000 - accuracy: 0.5763\n",
      "Epoch 2/20\n",
      "68/68 [==============================] - 0s 1ms/step - loss: 5110318.5000 - accuracy: 0.5757\n",
      "Epoch 3/20\n",
      "68/68 [==============================] - 0s 1ms/step - loss: 4616843.5000 - accuracy: 0.5669\n",
      "Epoch 4/20\n",
      "68/68 [==============================] - 0s 1ms/step - loss: 5705741.0000 - accuracy: 0.5678\n",
      "Epoch 5/20\n",
      "68/68 [==============================] - 0s 1ms/step - loss: 4887847.0000 - accuracy: 0.5798\n",
      "Epoch 6/20\n",
      "68/68 [==============================] - ETA: 0s - loss: 2816186.2500 - accuracy: 0.56 - 0s 1ms/step - loss: 3251972.0000 - accuracy: 0.5588\n",
      "Epoch 7/20\n",
      "68/68 [==============================] - 0s 1ms/step - loss: 4054588.7500 - accuracy: 0.5644\n",
      "Epoch 8/20\n",
      "68/68 [==============================] - 0s 1ms/step - loss: 4293955.0000 - accuracy: 0.5695\n",
      "Epoch 9/20\n",
      "68/68 [==============================] - 0s 1ms/step - loss: 3952499.0000 - accuracy: 0.5536\n",
      "Epoch 10/20\n",
      "68/68 [==============================] - 0s 1ms/step - loss: 5047149.5000 - accuracy: 0.5825\n",
      "Epoch 11/20\n",
      "68/68 [==============================] - 0s 1ms/step - loss: 2707629.5000 - accuracy: 0.5672\n",
      "Epoch 12/20\n",
      "68/68 [==============================] - 0s 1ms/step - loss: 1750833.3750 - accuracy: 0.5706\n",
      "Epoch 13/20\n",
      "68/68 [==============================] - 0s 1ms/step - loss: 2143570.0000 - accuracy: 0.5616\n",
      "Epoch 14/20\n",
      "68/68 [==============================] - 0s 1ms/step - loss: 2443311.2500 - accuracy: 0.5588\n",
      "Epoch 15/20\n",
      "68/68 [==============================] - 0s 1ms/step - loss: 1907308.0000 - accuracy: 0.5774\n",
      "Epoch 16/20\n",
      "68/68 [==============================] - 0s 1ms/step - loss: 1379273.0000 - accuracy: 0.5688\n",
      "Epoch 17/20\n",
      "68/68 [==============================] - 0s 1ms/step - loss: 2547075.2500 - accuracy: 0.5688\n",
      "Epoch 18/20\n",
      "68/68 [==============================] - 0s 1ms/step - loss: 4132730.5000 - accuracy: 0.5613\n",
      "Epoch 19/20\n",
      "68/68 [==============================] - 0s 2ms/step - loss: 2094547.0000 - accuracy: 0.5667\n",
      "Epoch 20/20\n",
      "68/68 [==============================] - 0s 1ms/step - loss: 1984101.2500 - accuracy: 0.5726\n",
      "34/34 [==============================] - 0s 2ms/step - loss: 4201446.0000 - accuracy: 0.3459\n",
      "Epoch 1/20\n"
     ]
    },
    {
     "name": "stderr",
     "output_type": "stream",
     "text": [
      "C:\\Users\\duong\\Anaconda3\\envs\\duong\\lib\\site-packages\\keras\\optimizer_v2\\adam.py:105: UserWarning: The `lr` argument is deprecated, use `learning_rate` instead.\n",
      "  super(Adam, self).__init__(name, **kwargs)\n"
     ]
    },
    {
     "name": "stdout",
     "output_type": "stream",
     "text": [
      "68/68 [==============================] - 1s 1ms/step - loss: 16289218.0000 - accuracy: 0.5694\n",
      "Epoch 2/20\n",
      "68/68 [==============================] - 0s 1ms/step - loss: 5323899.5000 - accuracy: 0.5714\n",
      "Epoch 3/20\n",
      "68/68 [==============================] - 0s 1ms/step - loss: 7136157.5000 - accuracy: 0.5772\n",
      "Epoch 4/20\n",
      "68/68 [==============================] - 0s 1ms/step - loss: 4779620.5000 - accuracy: 0.5710\n",
      "Epoch 5/20\n",
      "68/68 [==============================] - 0s 1ms/step - loss: 5532665.5000 - accuracy: 0.5633\n",
      "Epoch 6/20\n",
      "68/68 [==============================] - 0s 1ms/step - loss: 4976275.5000 - accuracy: 0.5724\n",
      "Epoch 7/20\n",
      "68/68 [==============================] - 0s 1ms/step - loss: 4731296.0000 - accuracy: 0.5719\n",
      "Epoch 8/20\n",
      "68/68 [==============================] - 0s 1ms/step - loss: 4456886.0000 - accuracy: 0.5726\n",
      "Epoch 9/20\n",
      "68/68 [==============================] - 0s 1ms/step - loss: 2963520.0000 - accuracy: 0.5674\n",
      "Epoch 10/20\n",
      "68/68 [==============================] - 0s 1ms/step - loss: 5410192.0000 - accuracy: 0.5748\n",
      "Epoch 11/20\n",
      "68/68 [==============================] - 0s 1ms/step - loss: 4371818.0000 - accuracy: 0.5656\n",
      "Epoch 12/20\n",
      "68/68 [==============================] - 0s 1ms/step - loss: 4600549.0000 - accuracy: 0.5764\n",
      "Epoch 13/20\n",
      "68/68 [==============================] - 0s 1ms/step - loss: 2518236.7500 - accuracy: 0.5678\n",
      "Epoch 14/20\n",
      "68/68 [==============================] - 0s 1ms/step - loss: 2529229.7500 - accuracy: 0.5776\n",
      "Epoch 15/20\n",
      "68/68 [==============================] - 0s 1ms/step - loss: 3380540.0000 - accuracy: 0.5768\n",
      "Epoch 16/20\n",
      "68/68 [==============================] - 0s 1ms/step - loss: 3007981.0000 - accuracy: 0.5777\n",
      "Epoch 17/20\n",
      "68/68 [==============================] - 0s 1ms/step - loss: 5759178.0000 - accuracy: 0.5786\n",
      "Epoch 18/20\n",
      "68/68 [==============================] - 0s 1ms/step - loss: 4358838.0000 - accuracy: 0.5694\n",
      "Epoch 19/20\n",
      "68/68 [==============================] - 0s 1ms/step - loss: 2527230.7500 - accuracy: 0.5638\n",
      "Epoch 20/20\n",
      "68/68 [==============================] - 0s 1ms/step - loss: 3307846.7500 - accuracy: 0.5833\n",
      "34/34 [==============================] - 0s 846us/step - loss: 3064388.7500 - accuracy: 0.3596\n",
      "Epoch 1/20\n"
     ]
    },
    {
     "name": "stderr",
     "output_type": "stream",
     "text": [
      "C:\\Users\\duong\\Anaconda3\\envs\\duong\\lib\\site-packages\\keras\\optimizer_v2\\adam.py:105: UserWarning: The `lr` argument is deprecated, use `learning_rate` instead.\n",
      "  super(Adam, self).__init__(name, **kwargs)\n"
     ]
    },
    {
     "name": "stdout",
     "output_type": "stream",
     "text": [
      "68/68 [==============================] - 0s 1ms/step - loss: 12203136.0000 - accuracy: 0.5540\n",
      "Epoch 2/20\n",
      "68/68 [==============================] - 0s 1ms/step - loss: 5582751.0000 - accuracy: 0.5512\n",
      "Epoch 3/20\n",
      "68/68 [==============================] - 0s 1ms/step - loss: 3857463.5000 - accuracy: 0.5363\n",
      "Epoch 4/20\n",
      "68/68 [==============================] - 0s 1ms/step - loss: 3486925.2500 - accuracy: 0.5447\n",
      "Epoch 5/20\n",
      "68/68 [==============================] - 0s 2ms/step - loss: 3597268.7500 - accuracy: 0.5483\n",
      "Epoch 6/20\n",
      "68/68 [==============================] - 0s 1ms/step - loss: 3194703.7500 - accuracy: 0.5451\n",
      "Epoch 7/20\n",
      "68/68 [==============================] - 0s 1ms/step - loss: 2852358.0000 - accuracy: 0.5318\n",
      "Epoch 8/20\n",
      "68/68 [==============================] - 0s 1ms/step - loss: 4024559.0000 - accuracy: 0.5505\n",
      "Epoch 9/20\n",
      "68/68 [==============================] - 0s 1ms/step - loss: 1820553.2500 - accuracy: 0.5511\n",
      "Epoch 10/20\n",
      "68/68 [==============================] - 0s 1ms/step - loss: 3598180.0000 - accuracy: 0.5320\n",
      "Epoch 11/20\n",
      "68/68 [==============================] - 0s 1ms/step - loss: 3050485.2500 - accuracy: 0.5490\n",
      "Epoch 12/20\n",
      "68/68 [==============================] - 0s 1ms/step - loss: 5189215.0000 - accuracy: 0.5414\n",
      "Epoch 13/20\n",
      "68/68 [==============================] - 0s 1ms/step - loss: 2053733.2500 - accuracy: 0.5535\n",
      "Epoch 14/20\n",
      "68/68 [==============================] - 0s 1ms/step - loss: 1522013.2500 - accuracy: 0.5457\n",
      "Epoch 15/20\n",
      "68/68 [==============================] - 0s 1ms/step - loss: 2120706.0000 - accuracy: 0.5516\n",
      "Epoch 16/20\n",
      "68/68 [==============================] - 0s 1ms/step - loss: 4076082.0000 - accuracy: 0.5380\n",
      "Epoch 17/20\n",
      "68/68 [==============================] - 0s 1ms/step - loss: 2699886.5000 - accuracy: 0.5442\n",
      "Epoch 18/20\n",
      "68/68 [==============================] - 0s 1ms/step - loss: 2292980.5000 - accuracy: 0.5460\n",
      "Epoch 19/20\n",
      "68/68 [==============================] - 0s 1ms/step - loss: 3060473.7500 - accuracy: 0.5455\n",
      "Epoch 20/20\n",
      "68/68 [==============================] - 0s 1ms/step - loss: 1021749.2500 - accuracy: 0.5485\n",
      "34/34 [==============================] - 0s 785us/step - loss: 183335.5000 - accuracy: 0.7265\n",
      "Epoch 1/20\n"
     ]
    },
    {
     "name": "stderr",
     "output_type": "stream",
     "text": [
      "C:\\Users\\duong\\Anaconda3\\envs\\duong\\lib\\site-packages\\keras\\optimizer_v2\\adam.py:105: UserWarning: The `lr` argument is deprecated, use `learning_rate` instead.\n",
      "  super(Adam, self).__init__(name, **kwargs)\n"
     ]
    },
    {
     "name": "stdout",
     "output_type": "stream",
     "text": [
      "270/270 [==============================] - 1s 1ms/step - loss: 0.7123 - accuracy: 0.6586\n",
      "Epoch 2/20\n",
      "270/270 [==============================] - 0s 971us/step - loss: 0.6590 - accuracy: 0.6578\n",
      "Epoch 3/20\n",
      "270/270 [==============================] - 0s 1ms/step - loss: 0.6826 - accuracy: 0.6449\n",
      "Epoch 4/20\n",
      "270/270 [==============================] - 0s 854us/step - loss: 0.6480 - accuracy: 0.6684\n",
      "Epoch 5/20\n",
      "270/270 [==============================] - 0s 919us/step - loss: 0.6472 - accuracy: 0.6746\n",
      "Epoch 6/20\n",
      "270/270 [==============================] - 0s 981us/step - loss: 0.6580 - accuracy: 0.6554\n",
      "Epoch 7/20\n",
      "270/270 [==============================] - 0s 1ms/step - loss: 0.6558 - accuracy: 0.6615\n",
      "Epoch 8/20\n",
      "270/270 [==============================] - 0s 1ms/step - loss: 0.6677 - accuracy: 0.6519\n",
      "Epoch 9/20\n",
      "270/270 [==============================] - 0s 1ms/step - loss: 0.6468 - accuracy: 0.6721\n",
      "Epoch 10/20\n",
      "270/270 [==============================] - 0s 978us/step - loss: 0.6709 - accuracy: 0.6403\n",
      "Epoch 11/20\n",
      "270/270 [==============================] - 0s 1ms/step - loss: 0.6557 - accuracy: 0.6568\n",
      "Epoch 12/20\n",
      "270/270 [==============================] - 0s 1ms/step - loss: 0.6787 - accuracy: 0.6484\n",
      "Epoch 13/20\n",
      "270/270 [==============================] - 0s 1ms/step - loss: 0.6537 - accuracy: 0.6586\n",
      "Epoch 14/20\n",
      "270/270 [==============================] - 0s 1ms/step - loss: 0.6567 - accuracy: 0.6542\n",
      "Epoch 15/20\n",
      "270/270 [==============================] - 0s 1ms/step - loss: 0.6645 - accuracy: 0.6493\n",
      "Epoch 16/20\n",
      "270/270 [==============================] - 0s 1ms/step - loss: 0.6713 - accuracy: 0.6498\n",
      "Epoch 17/20\n",
      "270/270 [==============================] - 0s 1ms/step - loss: 0.6584 - accuracy: 0.6593\n",
      "Epoch 18/20\n",
      "270/270 [==============================] - 0s 1ms/step - loss: 0.6619 - accuracy: 0.6644\n",
      "Epoch 19/20\n",
      "270/270 [==============================] - 0s 1ms/step - loss: 0.6576 - accuracy: 0.6572\n",
      "Epoch 20/20\n",
      "270/270 [==============================] - 0s 1ms/step - loss: 0.6750 - accuracy: 0.6382\n",
      "135/135 [==============================] - 0s 807us/step - loss: 0.8301 - accuracy: 0.3459\n",
      "Epoch 1/20\n"
     ]
    },
    {
     "name": "stderr",
     "output_type": "stream",
     "text": [
      "C:\\Users\\duong\\Anaconda3\\envs\\duong\\lib\\site-packages\\keras\\optimizer_v2\\adam.py:105: UserWarning: The `lr` argument is deprecated, use `learning_rate` instead.\n",
      "  super(Adam, self).__init__(name, **kwargs)\n"
     ]
    },
    {
     "name": "stdout",
     "output_type": "stream",
     "text": [
      "270/270 [==============================] - 1s 1ms/step - loss: 0.6887 - accuracy: 0.6662\n",
      "Epoch 2/20\n",
      "270/270 [==============================] - 0s 1ms/step - loss: 0.6661 - accuracy: 0.6578\n",
      "Epoch 3/20\n",
      "270/270 [==============================] - 0s 1ms/step - loss: 0.6494 - accuracy: 0.6636\n",
      "Epoch 4/20\n",
      "270/270 [==============================] - 0s 1ms/step - loss: 0.6586 - accuracy: 0.6643\n",
      "Epoch 5/20\n",
      "270/270 [==============================] - 0s 1ms/step - loss: 0.6534 - accuracy: 0.6659\n",
      "Epoch 6/20\n",
      "270/270 [==============================] - 0s 1ms/step - loss: 0.6595 - accuracy: 0.6590\n",
      "Epoch 7/20\n",
      "270/270 [==============================] - 0s 998us/step - loss: 0.6498 - accuracy: 0.6694\n",
      "Epoch 8/20\n",
      "270/270 [==============================] - 0s 963us/step - loss: 0.6454 - accuracy: 0.6715\n",
      "Epoch 9/20\n",
      "270/270 [==============================] - 0s 958us/step - loss: 0.6569 - accuracy: 0.6650\n",
      "Epoch 10/20\n",
      "270/270 [==============================] - 0s 997us/step - loss: 0.6579 - accuracy: 0.6660\n",
      "Epoch 11/20\n",
      "270/270 [==============================] - 0s 961us/step - loss: 0.6583 - accuracy: 0.6592\n",
      "Epoch 12/20\n",
      "270/270 [==============================] - 0s 1ms/step - loss: 0.6413 - accuracy: 0.6801\n",
      "Epoch 13/20\n",
      "270/270 [==============================] - 0s 982us/step - loss: 0.6560 - accuracy: 0.6671\n",
      "Epoch 14/20\n",
      "270/270 [==============================] - 0s 951us/step - loss: 0.6528 - accuracy: 0.6671\n",
      "Epoch 15/20\n",
      "270/270 [==============================] - 0s 987us/step - loss: 0.6619 - accuracy: 0.6562\n",
      "Epoch 16/20\n",
      "270/270 [==============================] - 0s 989us/step - loss: 0.6453 - accuracy: 0.6736\n",
      "Epoch 17/20\n",
      "270/270 [==============================] - 0s 1ms/step - loss: 0.6516 - accuracy: 0.6594\n",
      "Epoch 18/20\n",
      "270/270 [==============================] - 0s 1ms/step - loss: 0.6609 - accuracy: 0.6546\n",
      "Epoch 19/20\n",
      "270/270 [==============================] - 0s 1ms/step - loss: 0.6503 - accuracy: 0.6736\n",
      "Epoch 20/20\n",
      "270/270 [==============================] - 0s 1ms/step - loss: 0.6532 - accuracy: 0.6680\n",
      "135/135 [==============================] - 0s 818us/step - loss: 0.7131 - accuracy: 0.6404\n",
      "Epoch 1/20\n"
     ]
    },
    {
     "name": "stderr",
     "output_type": "stream",
     "text": [
      "C:\\Users\\duong\\Anaconda3\\envs\\duong\\lib\\site-packages\\keras\\optimizer_v2\\adam.py:105: UserWarning: The `lr` argument is deprecated, use `learning_rate` instead.\n",
      "  super(Adam, self).__init__(name, **kwargs)\n"
     ]
    },
    {
     "name": "stdout",
     "output_type": "stream",
     "text": [
      "270/270 [==============================] - 1s 922us/step - loss: 0.7269 - accuracy: 0.6062\n",
      "Epoch 2/20\n",
      "270/270 [==============================] - 0s 1ms/step - loss: 0.6854 - accuracy: 0.6097\n",
      "Epoch 3/20\n",
      "270/270 [==============================] - 0s 1ms/step - loss: 0.6775 - accuracy: 0.6178\n",
      "Epoch 4/20\n",
      "270/270 [==============================] - 0s 993us/step - loss: 0.6934 - accuracy: 0.5934\n",
      "Epoch 5/20\n",
      "270/270 [==============================] - 0s 937us/step - loss: 0.6867 - accuracy: 0.5967\n",
      "Epoch 6/20\n",
      "270/270 [==============================] - 0s 954us/step - loss: 0.6898 - accuracy: 0.6139\n",
      "Epoch 7/20\n",
      "270/270 [==============================] - 0s 965us/step - loss: 0.6771 - accuracy: 0.6294\n",
      "Epoch 8/20\n",
      "270/270 [==============================] - 0s 1ms/step - loss: 0.6878 - accuracy: 0.6048\n",
      "Epoch 9/20\n",
      "270/270 [==============================] - 0s 971us/step - loss: 0.6759 - accuracy: 0.6118\n",
      "Epoch 10/20\n",
      "270/270 [==============================] - 0s 942us/step - loss: 0.6764 - accuracy: 0.6178\n",
      "Epoch 11/20\n",
      "270/270 [==============================] - 0s 1ms/step - loss: 0.6922 - accuracy: 0.6025\n",
      "Epoch 12/20\n",
      "270/270 [==============================] - 0s 1ms/step - loss: 0.6913 - accuracy: 0.6132\n",
      "Epoch 13/20\n",
      "270/270 [==============================] - 0s 1ms/step - loss: 0.7038 - accuracy: 0.5916\n",
      "Epoch 14/20\n",
      "270/270 [==============================] - 0s 1ms/step - loss: 0.6726 - accuracy: 0.6097\n",
      "Epoch 15/20\n",
      "270/270 [==============================] - 0s 1ms/step - loss: 0.6712 - accuracy: 0.6289\n",
      "Epoch 16/20\n",
      "270/270 [==============================] - 0s 1ms/step - loss: 0.6899 - accuracy: 0.6020\n",
      "Epoch 17/20\n",
      "270/270 [==============================] - 0s 1ms/step - loss: 0.6990 - accuracy: 0.6060\n",
      "Epoch 18/20\n",
      "270/270 [==============================] - 0s 1ms/step - loss: 0.6879 - accuracy: 0.6032\n",
      "Epoch 19/20\n",
      "270/270 [==============================] - 0s 1ms/step - loss: 0.7020 - accuracy: 0.6004\n",
      "Epoch 20/20\n",
      "270/270 [==============================] - 0s 1ms/step - loss: 0.6821 - accuracy: 0.6148\n",
      "135/135 [==============================] - 0s 656us/step - loss: 0.5871 - accuracy: 0.7265\n",
      "Epoch 1/5\n"
     ]
    },
    {
     "name": "stderr",
     "output_type": "stream",
     "text": [
      "C:\\Users\\duong\\Anaconda3\\envs\\duong\\lib\\site-packages\\keras\\optimizer_v2\\adam.py:105: UserWarning: The `lr` argument is deprecated, use `learning_rate` instead.\n",
      "  super(Adam, self).__init__(name, **kwargs)\n"
     ]
    },
    {
     "name": "stdout",
     "output_type": "stream",
     "text": [
      "34/34 [==============================] - 0s 2ms/step - loss: 1.1519 - accuracy: 0.6089\n",
      "Epoch 2/5\n",
      "34/34 [==============================] - 0s 2ms/step - loss: 0.6277 - accuracy: 0.6835\n",
      "Epoch 3/5\n",
      "34/34 [==============================] - 0s 2ms/step - loss: 0.6324 - accuracy: 0.6835\n",
      "Epoch 4/5\n",
      "34/34 [==============================] - 0s 2ms/step - loss: 0.6280 - accuracy: 0.6835\n",
      "Epoch 5/5\n",
      "34/34 [==============================] - 0s 2ms/step - loss: 0.6287 - accuracy: 0.6835\n",
      "17/17 [==============================] - 0s 1ms/step - loss: 0.6488 - accuracy: 0.6541\n",
      "Epoch 1/5\n"
     ]
    },
    {
     "name": "stderr",
     "output_type": "stream",
     "text": [
      "C:\\Users\\duong\\Anaconda3\\envs\\duong\\lib\\site-packages\\keras\\optimizer_v2\\adam.py:105: UserWarning: The `lr` argument is deprecated, use `learning_rate` instead.\n",
      "  super(Adam, self).__init__(name, **kwargs)\n"
     ]
    },
    {
     "name": "stdout",
     "output_type": "stream",
     "text": [
      "34/34 [==============================] - 0s 2ms/step - loss: 0.9890 - accuracy: 0.6339\n",
      "Epoch 2/5\n",
      "34/34 [==============================] - 0s 2ms/step - loss: 0.6323 - accuracy: 0.6903\n",
      "Epoch 3/5\n",
      "34/34 [==============================] - 0s 2ms/step - loss: 0.6235 - accuracy: 0.6903\n",
      "Epoch 4/5\n",
      "34/34 [==============================] - 0s 2ms/step - loss: 0.6220 - accuracy: 0.6903\n",
      "Epoch 5/5\n",
      "34/34 [==============================] - 0s 2ms/step - loss: 0.6233 - accuracy: 0.6903\n",
      "17/17 [==============================] - 0s 1ms/step - loss: 0.6541 - accuracy: 0.6404\n",
      "Epoch 1/5\n"
     ]
    },
    {
     "name": "stderr",
     "output_type": "stream",
     "text": [
      "C:\\Users\\duong\\Anaconda3\\envs\\duong\\lib\\site-packages\\keras\\optimizer_v2\\adam.py:105: UserWarning: The `lr` argument is deprecated, use `learning_rate` instead.\n",
      "  super(Adam, self).__init__(name, **kwargs)\n"
     ]
    },
    {
     "name": "stdout",
     "output_type": "stream",
     "text": [
      "34/34 [==============================] - 0s 2ms/step - loss: 1.1572 - accuracy: 0.5595\n",
      "Epoch 2/5\n",
      "34/34 [==============================] - 0s 2ms/step - loss: 0.6575 - accuracy: 0.6218\n",
      "Epoch 3/5\n",
      "34/34 [==============================] - 0s 2ms/step - loss: 0.6495 - accuracy: 0.6473\n",
      "Epoch 4/5\n",
      "34/34 [==============================] - 0s 2ms/step - loss: 0.6516 - accuracy: 0.6473\n",
      "Epoch 5/5\n",
      "34/34 [==============================] - 0s 2ms/step - loss: 0.6552 - accuracy: 0.6473\n",
      "17/17 [==============================] - 0s 1ms/step - loss: 0.5877 - accuracy: 0.7265\n",
      "Epoch 1/5\n"
     ]
    },
    {
     "name": "stderr",
     "output_type": "stream",
     "text": [
      "C:\\Users\\duong\\Anaconda3\\envs\\duong\\lib\\site-packages\\keras\\optimizer_v2\\adam.py:105: UserWarning: The `lr` argument is deprecated, use `learning_rate` instead.\n",
      "  super(Adam, self).__init__(name, **kwargs)\n"
     ]
    },
    {
     "name": "stdout",
     "output_type": "stream",
     "text": [
      "34/34 [==============================] - 0s 2ms/step - loss: 0.6329 - accuracy: 0.6716\n",
      "Epoch 2/5\n",
      "34/34 [==============================] - 0s 1ms/step - loss: 0.6265 - accuracy: 0.6835\n",
      "Epoch 3/5\n",
      "34/34 [==============================] - 0s 2ms/step - loss: 0.6339 - accuracy: 0.6835\n",
      "Epoch 4/5\n",
      "34/34 [==============================] - 0s 2ms/step - loss: 0.6269 - accuracy: 0.6835\n",
      "Epoch 5/5\n",
      "34/34 [==============================] - 0s 2ms/step - loss: 0.6272 - accuracy: 0.6835\n",
      "17/17 [==============================] - 0s 1ms/step - loss: 0.6467 - accuracy: 0.6541\n",
      "Epoch 1/5\n"
     ]
    },
    {
     "name": "stderr",
     "output_type": "stream",
     "text": [
      "C:\\Users\\duong\\Anaconda3\\envs\\duong\\lib\\site-packages\\keras\\optimizer_v2\\adam.py:105: UserWarning: The `lr` argument is deprecated, use `learning_rate` instead.\n",
      "  super(Adam, self).__init__(name, **kwargs)\n"
     ]
    },
    {
     "name": "stdout",
     "output_type": "stream",
     "text": [
      "34/34 [==============================] - 0s 2ms/step - loss: 0.7249 - accuracy: 0.6255\n",
      "Epoch 2/5\n",
      "34/34 [==============================] - 0s 2ms/step - loss: 0.6207 - accuracy: 0.6903\n",
      "Epoch 3/5\n",
      "34/34 [==============================] - 0s 1ms/step - loss: 0.6202 - accuracy: 0.6903\n",
      "Epoch 4/5\n",
      "34/34 [==============================] - 0s 1ms/step - loss: 0.6232 - accuracy: 0.6903\n",
      "Epoch 5/5\n",
      "34/34 [==============================] - 0s 2ms/step - loss: 0.6216 - accuracy: 0.6903\n",
      "17/17 [==============================] - 0s 1ms/step - loss: 0.6609 - accuracy: 0.6404\n",
      "Epoch 1/5\n"
     ]
    },
    {
     "name": "stderr",
     "output_type": "stream",
     "text": [
      "C:\\Users\\duong\\Anaconda3\\envs\\duong\\lib\\site-packages\\keras\\optimizer_v2\\adam.py:105: UserWarning: The `lr` argument is deprecated, use `learning_rate` instead.\n",
      "  super(Adam, self).__init__(name, **kwargs)\n"
     ]
    },
    {
     "name": "stdout",
     "output_type": "stream",
     "text": [
      "34/34 [==============================] - 1s 2ms/step - loss: 0.6969 - accuracy: 0.6090\n",
      "Epoch 2/5\n",
      "34/34 [==============================] - 0s 2ms/step - loss: 0.6520 - accuracy: 0.6473\n",
      "Epoch 3/5\n",
      "34/34 [==============================] - 0s 2ms/step - loss: 0.6512 - accuracy: 0.6473\n",
      "Epoch 4/5\n",
      "34/34 [==============================] - 0s 2ms/step - loss: 0.6568 - accuracy: 0.6473\n",
      "Epoch 5/5\n",
      "34/34 [==============================] - 0s 2ms/step - loss: 0.6511 - accuracy: 0.6473\n",
      "17/17 [==============================] - 0s 1ms/step - loss: 0.5918 - accuracy: 0.7265\n",
      "Epoch 1/5\n"
     ]
    },
    {
     "name": "stderr",
     "output_type": "stream",
     "text": [
      "C:\\Users\\duong\\Anaconda3\\envs\\duong\\lib\\site-packages\\keras\\optimizer_v2\\adam.py:105: UserWarning: The `lr` argument is deprecated, use `learning_rate` instead.\n",
      "  super(Adam, self).__init__(name, **kwargs)\n"
     ]
    },
    {
     "name": "stdout",
     "output_type": "stream",
     "text": [
      "68/68 [==============================] - 0s 1ms/step - loss: 1.7701 - accuracy: 0.5589\n",
      "Epoch 2/5\n",
      "68/68 [==============================] - 0s 1ms/step - loss: 0.6804 - accuracy: 0.6419\n",
      "Epoch 3/5\n",
      "68/68 [==============================] - 0s 1ms/step - loss: 0.9827 - accuracy: 0.5810\n",
      "Epoch 4/5\n",
      "68/68 [==============================] - 0s 1ms/step - loss: 0.7035 - accuracy: 0.6342\n",
      "Epoch 5/5\n",
      "68/68 [==============================] - 0s 1ms/step - loss: 0.7945 - accuracy: 0.6084\n",
      "34/34 [==============================] - 0s 906us/step - loss: 0.6489 - accuracy: 0.6541\n",
      "Epoch 1/5\n"
     ]
    },
    {
     "name": "stderr",
     "output_type": "stream",
     "text": [
      "C:\\Users\\duong\\Anaconda3\\envs\\duong\\lib\\site-packages\\keras\\optimizer_v2\\adam.py:105: UserWarning: The `lr` argument is deprecated, use `learning_rate` instead.\n",
      "  super(Adam, self).__init__(name, **kwargs)\n"
     ]
    },
    {
     "name": "stdout",
     "output_type": "stream",
     "text": [
      "68/68 [==============================] - 0s 1ms/step - loss: 2.1374 - accuracy: 0.5737\n",
      "Epoch 2/5\n",
      "68/68 [==============================] - 0s 1ms/step - loss: 0.7386 - accuracy: 0.6457\n",
      "Epoch 3/5\n",
      "68/68 [==============================] - 0s 1ms/step - loss: 0.7089 - accuracy: 0.6167\n",
      "Epoch 4/5\n",
      "68/68 [==============================] - 0s 1ms/step - loss: 0.7306 - accuracy: 0.6096\n",
      "Epoch 5/5\n",
      "68/68 [==============================] - 0s 1ms/step - loss: 0.7592 - accuracy: 0.5919\n",
      "34/34 [==============================] - 0s 876us/step - loss: 0.9339 - accuracy: 0.6404\n",
      "Epoch 1/5\n"
     ]
    },
    {
     "name": "stderr",
     "output_type": "stream",
     "text": [
      "C:\\Users\\duong\\Anaconda3\\envs\\duong\\lib\\site-packages\\keras\\optimizer_v2\\adam.py:105: UserWarning: The `lr` argument is deprecated, use `learning_rate` instead.\n",
      "  super(Adam, self).__init__(name, **kwargs)\n"
     ]
    },
    {
     "name": "stdout",
     "output_type": "stream",
     "text": [
      "68/68 [==============================] - 0s 1ms/step - loss: 1.6330 - accuracy: 0.5507\n",
      "Epoch 2/5\n",
      "68/68 [==============================] - 0s 1ms/step - loss: 0.6856 - accuracy: 0.6153\n",
      "Epoch 3/5\n",
      "68/68 [==============================] - 0s 1ms/step - loss: 0.8488 - accuracy: 0.5579\n",
      "Epoch 4/5\n",
      "68/68 [==============================] - 0s 1ms/step - loss: 1.2290 - accuracy: 0.5628\n",
      "Epoch 5/5\n",
      "68/68 [==============================] - 0s 1ms/step - loss: 0.6999 - accuracy: 0.5923\n",
      "34/34 [==============================] - 0s 936us/step - loss: 0.5878 - accuracy: 0.7265\n",
      "Epoch 1/10\n"
     ]
    },
    {
     "name": "stderr",
     "output_type": "stream",
     "text": [
      "C:\\Users\\duong\\Anaconda3\\envs\\duong\\lib\\site-packages\\keras\\optimizer_v2\\adam.py:105: UserWarning: The `lr` argument is deprecated, use `learning_rate` instead.\n",
      "  super(Adam, self).__init__(name, **kwargs)\n"
     ]
    },
    {
     "name": "stdout",
     "output_type": "stream",
     "text": [
      "34/34 [==============================] - 0s 1ms/step - loss: 48184840.0000 - accuracy: 0.5660\n",
      "Epoch 2/10\n",
      "34/34 [==============================] - 0s 1ms/step - loss: 5059397.0000 - accuracy: 0.5468\n",
      "Epoch 3/10\n",
      "34/34 [==============================] - 0s 1ms/step - loss: 444181.9688 - accuracy: 0.5652\n",
      "Epoch 4/10\n",
      "34/34 [==============================] - 0s 1ms/step - loss: 221455.7344 - accuracy: 0.5837\n",
      "Epoch 5/10\n",
      "34/34 [==============================] - 0s 1ms/step - loss: 53055.2969 - accuracy: 0.5733\n",
      "Epoch 6/10\n",
      "34/34 [==============================] - 0s 1ms/step - loss: 35188.8828 - accuracy: 0.5820\n",
      "Epoch 7/10\n",
      "34/34 [==============================] - 0s 2ms/step - loss: 4.7315 - accuracy: 0.4809\n",
      "Epoch 8/10\n",
      "34/34 [==============================] - 0s 2ms/step - loss: 0.6658 - accuracy: 0.6835\n",
      "Epoch 9/10\n",
      "34/34 [==============================] - 0s 2ms/step - loss: 0.6482 - accuracy: 0.6835\n",
      "Epoch 10/10\n",
      "34/34 [==============================] - 0s 1ms/step - loss: 0.6376 - accuracy: 0.6835\n",
      "17/17 [==============================] - 0s 997us/step - loss: 0.6479 - accuracy: 0.6541\n",
      "Epoch 1/10\n"
     ]
    },
    {
     "name": "stderr",
     "output_type": "stream",
     "text": [
      "C:\\Users\\duong\\Anaconda3\\envs\\duong\\lib\\site-packages\\keras\\optimizer_v2\\adam.py:105: UserWarning: The `lr` argument is deprecated, use `learning_rate` instead.\n",
      "  super(Adam, self).__init__(name, **kwargs)\n"
     ]
    },
    {
     "name": "stdout",
     "output_type": "stream",
     "text": [
      "34/34 [==============================] - 0s 2ms/step - loss: 64486160.0000 - accuracy: 0.5677\n",
      "Epoch 2/10\n",
      "34/34 [==============================] - 0s 1ms/step - loss: 1674092.1250 - accuracy: 0.5724\n",
      "Epoch 3/10\n",
      "34/34 [==============================] - 0s 1ms/step - loss: 347106.1562 - accuracy: 0.5752\n",
      "Epoch 4/10\n",
      "34/34 [==============================] - 0s 1ms/step - loss: 460993.3750 - accuracy: 0.5709\n",
      "Epoch 5/10\n",
      "34/34 [==============================] - 0s 1ms/step - loss: 250619.2188 - accuracy: 0.5689\n",
      "Epoch 6/10\n",
      "34/34 [==============================] - 0s 1ms/step - loss: 53107.6875 - accuracy: 0.5806\n",
      "Epoch 7/10\n",
      "34/34 [==============================] - 0s 1ms/step - loss: 10526.9951 - accuracy: 0.5754\n",
      "Epoch 8/10\n",
      "34/34 [==============================] - 0s 1ms/step - loss: 20913.2793 - accuracy: 0.5579\n",
      "Epoch 9/10\n",
      "34/34 [==============================] - 0s 1ms/step - loss: 6160.0786 - accuracy: 0.5991\n",
      "Epoch 10/10\n",
      "34/34 [==============================] - 0s 1ms/step - loss: 0.6733 - accuracy: 0.6903\n",
      "17/17 [==============================] - 0s 997us/step - loss: 0.6676 - accuracy: 0.6404\n",
      "Epoch 1/10\n"
     ]
    },
    {
     "name": "stderr",
     "output_type": "stream",
     "text": [
      "C:\\Users\\duong\\Anaconda3\\envs\\duong\\lib\\site-packages\\keras\\optimizer_v2\\adam.py:105: UserWarning: The `lr` argument is deprecated, use `learning_rate` instead.\n",
      "  super(Adam, self).__init__(name, **kwargs)\n"
     ]
    },
    {
     "name": "stdout",
     "output_type": "stream",
     "text": [
      "34/34 [==============================] - 0s 1ms/step - loss: 76392888.0000 - accuracy: 0.5377\n",
      "Epoch 2/10\n",
      "34/34 [==============================] - 0s 1ms/step - loss: 609675.9375 - accuracy: 0.5405\n",
      "Epoch 3/10\n",
      "34/34 [==============================] - 0s 1ms/step - loss: 460578.5000 - accuracy: 0.5468\n",
      "Epoch 4/10\n",
      "34/34 [==============================] - 0s 1ms/step - loss: 290615.2188 - accuracy: 0.5602\n",
      "Epoch 5/10\n",
      "34/34 [==============================] - 0s 1ms/step - loss: 206620.7812 - accuracy: 0.5282\n",
      "Epoch 6/10\n",
      "34/34 [==============================] - 0s 1ms/step - loss: 105934.2656 - accuracy: 0.5340\n",
      "Epoch 7/10\n",
      "34/34 [==============================] - 0s 1ms/step - loss: 59227.9531 - accuracy: 0.5493\n",
      "Epoch 8/10\n",
      "34/34 [==============================] - 0s 1ms/step - loss: 1483.1595 - accuracy: 0.6473\n",
      "Epoch 9/10\n",
      "34/34 [==============================] - 0s 1ms/step - loss: 0.6612 - accuracy: 0.6473\n",
      "Epoch 10/10\n",
      "34/34 [==============================] - 0s 1ms/step - loss: 0.6524 - accuracy: 0.6473\n",
      "17/17 [==============================] - 0s 935us/step - loss: 0.6111 - accuracy: 0.7265\n",
      "Epoch 1/10\n"
     ]
    },
    {
     "name": "stderr",
     "output_type": "stream",
     "text": [
      "C:\\Users\\duong\\Anaconda3\\envs\\duong\\lib\\site-packages\\keras\\optimizer_v2\\adam.py:105: UserWarning: The `lr` argument is deprecated, use `learning_rate` instead.\n",
      "  super(Adam, self).__init__(name, **kwargs)\n"
     ]
    },
    {
     "name": "stdout",
     "output_type": "stream",
     "text": [
      "68/68 [==============================] - 0s 1ms/step - loss: 25706682.0000 - accuracy: 0.5629\n",
      "Epoch 2/10\n",
      "68/68 [==============================] - 0s 1ms/step - loss: 140884.5156 - accuracy: 0.5591\n",
      "Epoch 3/10\n",
      "68/68 [==============================] - 0s 1ms/step - loss: 4744.1006 - accuracy: 0.6400\n",
      "Epoch 4/10\n",
      "68/68 [==============================] - 0s 1ms/step - loss: 0.6329 - accuracy: 0.6835\n",
      "Epoch 5/10\n",
      "68/68 [==============================] - 0s 1ms/step - loss: 0.6247 - accuracy: 0.6835\n",
      "Epoch 6/10\n",
      "68/68 [==============================] - 0s 1ms/step - loss: 0.6243 - accuracy: 0.6835\n",
      "Epoch 7/10\n",
      "68/68 [==============================] - 0s 1ms/step - loss: 0.6243 - accuracy: 0.6835\n",
      "Epoch 8/10\n",
      "68/68 [==============================] - 0s 1ms/step - loss: 0.6243 - accuracy: 0.6835\n",
      "Epoch 9/10\n",
      "68/68 [==============================] - 0s 1ms/step - loss: 0.6243 - accuracy: 0.6835\n",
      "Epoch 10/10\n",
      "68/68 [==============================] - 0s 1ms/step - loss: 0.6243 - accuracy: 0.6835\n",
      "34/34 [==============================] - 0s 876us/step - loss: 0.6467 - accuracy: 0.6541\n",
      "Epoch 1/10\n"
     ]
    },
    {
     "name": "stderr",
     "output_type": "stream",
     "text": [
      "C:\\Users\\duong\\Anaconda3\\envs\\duong\\lib\\site-packages\\keras\\optimizer_v2\\adam.py:105: UserWarning: The `lr` argument is deprecated, use `learning_rate` instead.\n",
      "  super(Adam, self).__init__(name, **kwargs)\n"
     ]
    },
    {
     "name": "stdout",
     "output_type": "stream",
     "text": [
      "68/68 [==============================] - 0s 1ms/step - loss: 22187584.0000 - accuracy: 0.5726\n",
      "Epoch 2/10\n",
      "68/68 [==============================] - 0s 1ms/step - loss: 719880.3125 - accuracy: 0.5707\n",
      "Epoch 3/10\n",
      "68/68 [==============================] - 0s 1ms/step - loss: 236147.2344 - accuracy: 0.5720\n",
      "Epoch 4/10\n",
      "68/68 [==============================] - 0s 1ms/step - loss: 88796.1250 - accuracy: 0.5886\n",
      "Epoch 5/10\n",
      "68/68 [==============================] - 0s 1ms/step - loss: 0.6202 - accuracy: 0.6903\n",
      "Epoch 6/10\n",
      "68/68 [==============================] - 0s 1ms/step - loss: 0.6189 - accuracy: 0.6903\n",
      "Epoch 7/10\n",
      "68/68 [==============================] - 0s 1ms/step - loss: 0.6189 - accuracy: 0.6903\n",
      "Epoch 8/10\n",
      "68/68 [==============================] - 0s 1ms/step - loss: 0.6190 - accuracy: 0.6903\n",
      "Epoch 9/10\n",
      "68/68 [==============================] - 0s 1ms/step - loss: 0.6190 - accuracy: 0.6903\n",
      "Epoch 10/10\n",
      "68/68 [==============================] - 0s 1ms/step - loss: 0.6191 - accuracy: 0.6903\n",
      "34/34 [==============================] - 0s 906us/step - loss: 0.6583 - accuracy: 0.6404\n",
      "Epoch 1/10\n"
     ]
    },
    {
     "name": "stderr",
     "output_type": "stream",
     "text": [
      "C:\\Users\\duong\\Anaconda3\\envs\\duong\\lib\\site-packages\\keras\\optimizer_v2\\adam.py:105: UserWarning: The `lr` argument is deprecated, use `learning_rate` instead.\n",
      "  super(Adam, self).__init__(name, **kwargs)\n"
     ]
    },
    {
     "name": "stdout",
     "output_type": "stream",
     "text": [
      "68/68 [==============================] - 0s 1ms/step - loss: 30672412.0000 - accuracy: 0.5434\n",
      "Epoch 2/10\n",
      "68/68 [==============================] - 0s 1ms/step - loss: 1725092.6250 - accuracy: 0.5442\n",
      "Epoch 3/10\n",
      "68/68 [==============================] - 0s 1ms/step - loss: 633975.6250 - accuracy: 0.5398\n",
      "Epoch 4/10\n",
      "68/68 [==============================] - 0s 1ms/step - loss: 153749.7812 - accuracy: 0.5433\n",
      "Epoch 5/10\n",
      "68/68 [==============================] - 0s 1ms/step - loss: 42444.2266 - accuracy: 0.5424\n",
      "Epoch 6/10\n",
      "68/68 [==============================] - 0s 1ms/step - loss: 140.2641 - accuracy: 0.6231\n",
      "Epoch 7/10\n",
      "68/68 [==============================] - 0s 1ms/step - loss: 0.6606 - accuracy: 0.6469\n",
      "Epoch 8/10\n",
      "68/68 [==============================] - 0s 1ms/step - loss: 0.6492 - accuracy: 0.6473\n",
      "Epoch 9/10\n",
      "68/68 [==============================] - 0s 1ms/step - loss: 0.6491 - accuracy: 0.6473\n",
      "Epoch 10/10\n",
      "68/68 [==============================] - 0s 1ms/step - loss: 0.6492 - accuracy: 0.6473\n",
      "34/34 [==============================] - 0s 997us/step - loss: 0.6002 - accuracy: 0.7265\n",
      "Epoch 1/10\n",
      "101/101 [==============================] - 0s 2ms/step - loss: 1.3334 - accuracy: 0.5771\n",
      "Epoch 2/10\n",
      "101/101 [==============================] - 0s 2ms/step - loss: 0.7345 - accuracy: 0.6062\n",
      "Epoch 3/10\n",
      "101/101 [==============================] - 0s 2ms/step - loss: 0.7272 - accuracy: 0.6102\n",
      "Epoch 4/10\n",
      "101/101 [==============================] - 0s 2ms/step - loss: 0.7706 - accuracy: 0.5910\n",
      "Epoch 5/10\n",
      "101/101 [==============================] - 0s 2ms/step - loss: 0.7894 - accuracy: 0.5929\n",
      "Epoch 6/10\n",
      "101/101 [==============================] - 0s 2ms/step - loss: 0.7867 - accuracy: 0.6016\n",
      "Epoch 7/10\n",
      "101/101 [==============================] - 0s 2ms/step - loss: 0.6983 - accuracy: 0.6101\n",
      "Epoch 8/10\n",
      "101/101 [==============================] - 0s 2ms/step - loss: 1.1377 - accuracy: 0.5865\n",
      "Epoch 9/10\n",
      "101/101 [==============================] - 0s 1ms/step - loss: 0.9363 - accuracy: 0.5609\n",
      "Epoch 10/10\n",
      "101/101 [==============================] - 0s 1ms/step - loss: 0.8031 - accuracy: 0.5873\n",
      "Best: %f using %s\n"
     ]
    }
   ],
   "source": [
    "# Import KerasClassifier from keras scikit learn wrappers\n",
    "from keras.wrappers.scikit_learn import KerasClassifier\n",
    "\n",
    "# Create a KerasClassifier\n",
    "model = KerasClassifier(build_fn = create_model)\n",
    "\n",
    "# Define the parameters to try out\n",
    "params = {'activation':['relu', 'tanh'], 'batch_size':[32, 128, 256], \n",
    "          'epochs':[5, 10, 20], 'learning_rate':[0.1, 0.01, 0.001]}\n",
    "\n",
    "# Create a randomize search cv object passing in the parameters to try\n",
    "random_search = RandomizedSearchCV(model, param_distributions = params, cv = KFold(3))\n",
    "\n",
    "# Running random_search.fit(X,y) but it takes too long\n",
    "random_search_results = random_search.fit(X,y)\n",
    "\n",
    "# Print results\n",
    "print(\"Best: %f using %s\".format(random_search_results.best_score_,\n",
    "random_search_results.best_params_))"
   ]
  },
  {
   "cell_type": "markdown",
   "id": "767e73f3",
   "metadata": {},
   "source": [
    "## Training with cross-validation"
   ]
  },
  {
   "cell_type": "markdown",
   "id": "951621a4",
   "metadata": {},
   "source": [
    "Time to train your model with the best parameters found: \n",
    "\n",
    "* 0.001 for the learning rate, \n",
    "* 50 epochs, \n",
    "* a 128 batch_size  \n",
    "* relu activations."
   ]
  },
  {
   "cell_type": "code",
   "execution_count": null,
   "id": "be562421",
   "metadata": {},
   "outputs": [],
   "source": [
    "# Create a KerasClassifier\n",
    "model = KerasClassifier(build_fn = create_model(learning_rate = 0.001, activation = 'relu'), epochs = 50, \n",
    "                        batch_size = 128, verbose = 0)\n",
    "\n",
    "# Calculate the accuracy score for each fold\n",
    "kfolds = cross_val_score(model, X, y, cv = 3)\n",
    "\n",
    "# Print the mean accuracy\n",
    "print('The mean accuracy was:', kfolds.mean())\n",
    "\n",
    "# Print the accuracy standard deviation\n",
    "print('With a standard deviation of:', kfolds.std())"
   ]
  },
  {
   "cell_type": "markdown",
   "id": "fa645c9c",
   "metadata": {},
   "source": [
    "## Tuning other hyperparameters"
   ]
  }
 ],
 "metadata": {
  "kernelspec": {
   "display_name": "Python 3 (ipykernel)",
   "language": "python",
   "name": "python3"
  },
  "language_info": {
   "codemirror_mode": {
    "name": "ipython",
    "version": 3
   },
   "file_extension": ".py",
   "mimetype": "text/x-python",
   "name": "python",
   "nbconvert_exporter": "python",
   "pygments_lexer": "ipython3",
   "version": "3.9.7"
  },
  "toc": {
   "base_numbering": 1,
   "nav_menu": {},
   "number_sections": true,
   "sideBar": true,
   "skip_h1_title": false,
   "title_cell": "Table of Contents",
   "title_sidebar": "Contents",
   "toc_cell": false,
   "toc_position": {},
   "toc_section_display": true,
   "toc_window_display": false
  }
 },
 "nbformat": 4,
 "nbformat_minor": 5
}
