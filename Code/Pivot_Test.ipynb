{
 "cells": [
  {
   "cell_type": "code",
   "execution_count": 1,
   "metadata": {
    "collapsed": true
   },
   "outputs": [],
   "source": [
    "import pandas as pd"
   ]
  },
  {
   "cell_type": "code",
   "execution_count": 2,
   "outputs": [
    {
     "name": "stdout",
     "output_type": "stream",
     "text": [
      "   staff_no          name  year  hours\n",
      "0      9999  Dean McGrath  2016    349\n",
      "1      9999  Dean McGrath  2017    231\n",
      "2      9999  Dean McGrath  2018    876\n",
      "3      9999  Dean McGrath  2019    679\n",
      "4      9999  Dean McGrath  2020    976\n",
      "year  staff_no          name  2016  2017  2018  2019  2020\n",
      "0         9999  Dean McGrath   349   231   876   679   976\n",
      "   staff_no          name  year  hours\n",
      "0      9999  Dean McGrath  2016    349\n",
      "1      9999  Dean McGrath  2017    231\n",
      "2      9999  Dean McGrath  2018    876\n",
      "3      9999  Dean McGrath  2019    679\n",
      "4      9999  Dean McGrath  2020    976\n"
     ]
    }
   ],
   "source": [
    "# Create a DataFrame with dummy data.\n",
    "df = pd.DataFrame(data={'staff_no': [9999] * 5,\n",
    "                        'name': ['Dean McGrath'] * 5,\n",
    "                        'year': [2016, 2017, 2018, 2019, 2020],\n",
    "                        'hours': [349, 231, 876, 679, 976]})\n",
    "print(df)\n",
    "\n",
    "\n",
    "# Pivot the DataFrame based on Staff Number & Employee Name.\n",
    "df = df.pivot(index=['staff_no', 'name'],\n",
    "              columns=['year'], values='hours').reset_index()\n",
    "print(df.head())\n",
    "\n",
    "# Unpivot the DataFrame by Staff Number & Employee Name\n",
    "df = df.melt(id_vars=['staff_no', 'name'], var_name='year',\n",
    "             value_name='hours')\n",
    "print(df.head())"
   ],
   "metadata": {
    "collapsed": false,
    "pycharm": {
     "name": "#%%\n"
    }
   }
  },
  {
   "cell_type": "code",
   "execution_count": 38,
   "outputs": [
    {
     "name": "stdout",
     "output_type": "stream",
     "text": [
      "    user_id  media_id  0\n",
      "0      1580    222606 -1\n",
      "1      1580    250467 -1\n",
      "2      1580    305197 -1\n",
      "3      1580    542335 -1\n",
      "4      1580    900502  0\n",
      "5      1812    222606 -1\n",
      "6      1812    250467 -1\n",
      "7      1812    305197 -1\n",
      "8      1812    542335  1\n",
      "9      1812    900502 -1\n",
      "10     7665    222606 -1\n",
      "11     7665    250467 -1\n",
      "12     7665    305197  1\n",
      "13     7665    542335 -1\n",
      "14     7665    900502 -1\n",
      "15     9241    222606  0\n",
      "16     9241    250467 -1\n",
      "17     9241    305197 -1\n",
      "18     9241    542335 -1\n",
      "19     9241    900502 -1\n",
      "20    16547    222606 -1\n",
      "21    16547    250467  1\n",
      "22    16547    305197 -1\n",
      "23    16547    542335 -1\n",
      "24    16547    900502 -1\n"
     ]
    }
   ],
   "source": [
    "df = pd.read_csv('../Data/train_short.csv').iloc[:5, [11, 2, 14]]\n",
    "# print(df.head())\n",
    "df_r = pd.pivot_table(df, index=['user_id'], columns=['media_id'], values=['is_listened'],fill_value=-1).astype(int)\n",
    "# print(df_r.head())\n",
    "df_unpiv = df_r.stack()\n",
    "# print(df_unpiv.reset_index())\n",
    "matrix_r = df_r.to_numpy(dtype='int8')\n",
    "# print(matrix_r)\n",
    "index_df = sorted(list(set(df['user_id'].sort_values(ascending=True))))\n",
    "media_df = sorted(list(set(df['media_id'].sort_values(ascending=True))))\n",
    "# print(index_df)\n",
    "# print(media_df)\n",
    "l = pd.DataFrame(matrix_r, index=index_df, columns=media_df)\n",
    "l.index.name = 'user_id'\n",
    "l.columns.name = 'media_id'\n",
    "# print(l)\n",
    "l_unpivot = l.stack().reset_index()\n",
    "print(l_unpivot)"
   ],
   "metadata": {
    "collapsed": false,
    "pycharm": {
     "name": "#%%\n"
    }
   }
  },
  {
   "cell_type": "code",
   "execution_count": null,
   "outputs": [],
   "source": [],
   "metadata": {
    "collapsed": false,
    "pycharm": {
     "name": "#%%\n"
    }
   }
  }
 ],
 "metadata": {
  "kernelspec": {
   "display_name": "Python 3",
   "language": "python",
   "name": "python3"
  },
  "language_info": {
   "codemirror_mode": {
    "name": "ipython",
    "version": 2
   },
   "file_extension": ".py",
   "mimetype": "text/x-python",
   "name": "python",
   "nbconvert_exporter": "python",
   "pygments_lexer": "ipython2",
   "version": "2.7.6"
  }
 },
 "nbformat": 4,
 "nbformat_minor": 0
}