{
 "cells": [
  {
   "cell_type": "markdown",
   "id": "37383e3f",
   "metadata": {},
   "source": [
    "# Neural Network version 1"
   ]
  },
  {
   "cell_type": "markdown",
   "id": "99437939",
   "metadata": {},
   "source": [
    "Source: https://medium.com/luca-chuangs-bapm-notes/build-a-neural-network-in-python-binary-classification-49596d7dcabf"
   ]
  },
  {
   "cell_type": "code",
   "execution_count": 24,
   "id": "ce8514b9",
   "metadata": {},
   "outputs": [],
   "source": [
    "# Import libraries and modules\n",
    "import pandas as pd\n",
    "import numpy as np\n",
    "import matplotlib.pyplot as plt\n",
    "import seaborn as sns\n",
    "from sklearn.preprocessing import MinMaxScaler\n",
    "from sklearn.model_selection import train_test_split\n",
    "from keras.models import Sequential\n",
    "from keras.layers import Dense\n",
    "from keras.callbacks import EarlyStopping, ModelCheckpoint\n",
    "from sklearn.metrics import confusion_matrix, classification_report, roc_auc_score"
   ]
  },
  {
   "cell_type": "markdown",
   "id": "264f1c06",
   "metadata": {},
   "source": [
    "## Import data"
   ]
  },
  {
   "cell_type": "code",
   "execution_count": 15,
   "id": "c7878856",
   "metadata": {},
   "outputs": [],
   "source": [
    "# Read file\n",
    "from deezerData import readData\n",
    "df, X, y, X_train, X_test, y_train, y_test = readData()\n",
    "# Making arrays\n",
    "X, y, X_train, X_test, y_train, y_test = X.values, y.values, X_train.values, X_test.values, y_train.values, y_test.values"
   ]
  },
  {
   "cell_type": "code",
   "execution_count": 27,
   "id": "f08093a0",
   "metadata": {},
   "outputs": [
    {
     "data": {
      "text/plain": [
       "1    8706\n",
       "0    4217\n",
       "Name: is_listened, dtype: int64"
      ]
     },
     "execution_count": 27,
     "metadata": {},
     "output_type": "execute_result"
    }
   ],
   "source": [
    "# check distribution of target variable\n",
    "df['is_listened'].value_counts()"
   ]
  },
  {
   "cell_type": "code",
   "execution_count": 33,
   "id": "d338836b",
   "metadata": {},
   "outputs": [
    {
     "data": {
      "text/plain": [
       "Index(['genre_id', 'ts_listen', 'media_id', 'album_id', 'context_type',\n",
       "       'release_date', 'platform_name', 'platform_family', 'media_duration',\n",
       "       'listen_type', 'user_gender', 'user_id', 'artist_id', 'user_age',\n",
       "       'is_listened'],\n",
       "      dtype='object')"
      ]
     },
     "execution_count": 33,
     "metadata": {},
     "output_type": "execute_result"
    }
   ],
   "source": [
    "df.columns"
   ]
  },
  {
   "cell_type": "code",
   "execution_count": 28,
   "id": "90f0be20",
   "metadata": {},
   "outputs": [
    {
     "data": {
      "text/plain": [
       "0.32631741855606283"
      ]
     },
     "execution_count": 28,
     "metadata": {},
     "output_type": "execute_result"
    }
   ],
   "source": [
    "# our model should at least better than a dummy model\n",
    "(4217/(4217+8706))"
   ]
  },
  {
   "cell_type": "markdown",
   "id": "ea5b79a4",
   "metadata": {},
   "source": [
    "## Building an Neural Network"
   ]
  },
  {
   "cell_type": "markdown",
   "id": "91943cf9",
   "metadata": {},
   "source": [
    "The steps are as follows:\n",
    "    \n",
    "* Use the Sequential API to build your model\n",
    "* Specify an optimizer (in this case, we use Adam)\n",
    "* Set a loss function (binary_crossentropy)\n",
    "* Fit the model (make a new variable called ‘history’ so you can evaluate the learning curves)\n",
    "* EarlyStopping callbacks to prevent overfitting (patience of 10)\n"
   ]
  },
  {
   "cell_type": "code",
   "execution_count": 35,
   "id": "800ae3e6",
   "metadata": {},
   "outputs": [
    {
     "name": "stdout",
     "output_type": "stream",
     "text": [
      "Model: \"sequential_9\"\n",
      "_________________________________________________________________\n",
      " Layer (type)                Output Shape              Param #   \n",
      "=================================================================\n",
      " dense_20 (Dense)            (None, 16)                240       \n",
      "                                                                 \n",
      " dense_21 (Dense)            (None, 16)                272       \n",
      "                                                                 \n",
      " dense_22 (Dense)            (None, 1)                 17        \n",
      "                                                                 \n",
      "=================================================================\n",
      "Total params: 529\n",
      "Trainable params: 529\n",
      "Non-trainable params: 0\n",
      "_________________________________________________________________\n",
      "Epoch 1/80\n",
      "827/827 [==============================] - 1s 1ms/step - loss: 1412253.5000 - accuracy: 0.5599 - val_loss: 979124.1250 - val_accuracy: 0.3254\n",
      "Epoch 2/80\n",
      "827/827 [==============================] - 1s 1ms/step - loss: 871374.7500 - accuracy: 0.5589 - val_loss: 824852.3125 - val_accuracy: 0.3264\n",
      "Epoch 3/80\n",
      "827/827 [==============================] - 1s 1ms/step - loss: 804266.9375 - accuracy: 0.5628 - val_loss: 448012.2188 - val_accuracy: 0.6750\n",
      "Epoch 4/80\n",
      "827/827 [==============================] - ETA: 0s - loss: 877896.3750 - accuracy: 0.566 - 1s 1ms/step - loss: 889976.9375 - accuracy: 0.5655 - val_loss: 2414184.5000 - val_accuracy: 0.6750\n",
      "Epoch 5/80\n",
      "827/827 [==============================] - 1s 1ms/step - loss: 1046306.2500 - accuracy: 0.5537 - val_loss: 293304.7188 - val_accuracy: 0.3312\n",
      "Epoch 6/80\n",
      "827/827 [==============================] - 1s 1ms/step - loss: 713139.8750 - accuracy: 0.5612 - val_loss: 1139075.6250 - val_accuracy: 0.6750\n",
      "Epoch 7/80\n",
      "827/827 [==============================] - 1s 1ms/step - loss: 789606.8750 - accuracy: 0.5590 - val_loss: 850781.9375 - val_accuracy: 0.6750\n",
      "Epoch 8/80\n",
      "827/827 [==============================] - 1s 1ms/step - loss: 949008.8750 - accuracy: 0.5632 - val_loss: 627503.4375 - val_accuracy: 0.6750\n",
      "Epoch 9/80\n",
      "827/827 [==============================] - 1s 1ms/step - loss: 811234.8750 - accuracy: 0.5632 - val_loss: 591335.7500 - val_accuracy: 0.6750\n",
      "Epoch 10/80\n",
      "827/827 [==============================] - 1s 1ms/step - loss: 745948.6875 - accuracy: 0.5609 - val_loss: 613105.0000 - val_accuracy: 0.6750\n",
      "Epoch 11/80\n",
      "827/827 [==============================] - 1s 1ms/step - loss: 901419.9375 - accuracy: 0.5667 - val_loss: 589539.1250 - val_accuracy: 0.6750\n",
      "Epoch 12/80\n",
      "827/827 [==============================] - 1s 1ms/step - loss: 624924.8125 - accuracy: 0.5688 - val_loss: 977243.8750 - val_accuracy: 0.3269\n",
      "Epoch 13/80\n",
      "827/827 [==============================] - 1s 1ms/step - loss: 593366.8750 - accuracy: 0.5594 - val_loss: 788316.4375 - val_accuracy: 0.6750\n"
     ]
    }
   ],
   "source": [
    "# Build a model\n",
    "model = Sequential()\n",
    "model.add(Dense(16, input_shape=(X.shape[1],), activation='relu')) # Add an input shape! (features,)\n",
    "model.add(Dense(16, activation='relu'))\n",
    "model.add(Dense(1, activation='sigmoid'))\n",
    "model.summary() \n",
    "\n",
    "# Compile the model\n",
    "model.compile(optimizer='Adam', \n",
    "              loss='binary_crossentropy',\n",
    "              metrics=['accuracy'])\n",
    "\n",
    "# Early stopping callback\n",
    "# This callback will stop the training when there is no improvement in  \n",
    "# the validation loss for 10 consecutive epochs.  \n",
    "es = EarlyStopping(monitor='val_accuracy', \n",
    "                                   mode='max', # don't minimize the accuracy!\n",
    "                                   patience=10,\n",
    "                                   restore_best_weights=True)\n",
    "\n",
    "# now we just update our model fit call\n",
    "history = model.fit(X_train,\n",
    "                    y_train,\n",
    "                    callbacks=[es],\n",
    "                    epochs=80, # you can set this to a big number!\n",
    "                    batch_size=10,\n",
    "                    validation_split=0.2,\n",
    "                    shuffle=True,\n",
    "                    verbose=1)\n"
   ]
  },
  {
   "cell_type": "markdown",
   "id": "6a2cf537",
   "metadata": {},
   "source": [
    "## Evaluate the Model\n"
   ]
  },
  {
   "cell_type": "code",
   "execution_count": 37,
   "id": "a80e206c",
   "metadata": {},
   "outputs": [
    {
     "data": {
      "image/png": "[encoded data removed]",
      "text/plain": [
       "<Figure size 432x288 with 1 Axes>"
      ]
     },
     "metadata": {
      "needs_background": "light"
     },
     "output_type": "display_data"
    }
   ],
   "source": [
    "history_dict = history.history\n",
    "# Learning curve(Loss)\n",
    "# let's see the training and validation loss by epoch\n",
    "\n",
    "# loss\n",
    "loss_values = history_dict['loss'] \n",
    "val_loss_values = history_dict['val_loss']\n",
    "\n",
    "# range of X (no. of epochs)\n",
    "epochs = range(1, len(loss_values) + 1) \n",
    "\n",
    "# plot\n",
    "plt.plot(epochs, loss_values, 'bo', label='Training loss')\n",
    "plt.plot(epochs, val_loss_values, 'orange', label='Validation loss')\n",
    "plt.title('Training and validation loss')\n",
    "plt.xlabel('Epochs')\n",
    "plt.ylabel('Loss')\n",
    "plt.legend()\n",
    "plt.show()"
   ]
  },
  {
   "cell_type": "code",
   "execution_count": 38,
   "id": "2fc13381",
   "metadata": {},
   "outputs": [
    {
     "data": {
      "image/png": "[encoded data removed]",
      "text/plain": [
       "<Figure size 432x288 with 1 Axes>"
      ]
     },
     "metadata": {
      "needs_background": "light"
     },
     "output_type": "display_data"
    },
    {
     "data": {
      "text/plain": [
       "0.6750483512878418"
      ]
     },
     "execution_count": 38,
     "metadata": {},
     "output_type": "execute_result"
    }
   ],
   "source": [
    "# Learning curve(accuracy)\n",
    "# let's see the training and validation accuracy by epoch\n",
    "\n",
    "# accuracy\n",
    "acc = history.history['accuracy']\n",
    "val_acc = history.history['val_accuracy']\n",
    "\n",
    "# range of X (no. of epochs)\n",
    "epochs = range(1, len(acc) + 1)\n",
    "\n",
    "# plot\n",
    "# \"bo\" is for \"blue dot\"\n",
    "plt.plot(epochs, acc, 'bo', label='Training accuracy')\n",
    "# orange is for \"orange\"\n",
    "plt.plot(epochs, val_acc, 'orange', label='Validation accuracy')\n",
    "plt.title('Training and validation accuracy')\n",
    "plt.xlabel('Epochs')\n",
    "plt.ylabel('Accuracy')\n",
    "plt.legend()\n",
    "plt.show()\n",
    "\n",
    "# this is the max value - should correspond to\n",
    "# the HIGHEST train accuracy\n",
    "np.max(val_acc)"
   ]
  },
  {
   "cell_type": "code",
   "execution_count": 40,
   "id": "7ae5f6a5",
   "metadata": {},
   "outputs": [
    {
     "name": "stdout",
     "output_type": "stream",
     "text": [
      "[[   0  847]\n",
      " [   0 1738]]\n",
      "              precision    recall  f1-score   support\n",
      "\n",
      "           0       0.00      0.00      0.00       847\n",
      "           1       0.67      1.00      0.80      1738\n",
      "\n",
      "    accuracy                           0.67      2585\n",
      "   macro avg       0.34      0.50      0.40      2585\n",
      "weighted avg       0.45      0.67      0.54      2585\n",
      "\n",
      "0.5\n"
     ]
    },
    {
     "name": "stderr",
     "output_type": "stream",
     "text": [
      "C:\\Users\\duong\\Anaconda3\\envs\\duong\\lib\\site-packages\\sklearn\\metrics\\_classification.py:1318: UndefinedMetricWarning: Precision and F-score are ill-defined and being set to 0.0 in labels with no predicted samples. Use `zero_division` parameter to control this behavior.\n",
      "  _warn_prf(average, modifier, msg_start, len(result))\n",
      "C:\\Users\\duong\\Anaconda3\\envs\\duong\\lib\\site-packages\\sklearn\\metrics\\_classification.py:1318: UndefinedMetricWarning: Precision and F-score are ill-defined and being set to 0.0 in labels with no predicted samples. Use `zero_division` parameter to control this behavior.\n",
      "  _warn_prf(average, modifier, msg_start, len(result))\n",
      "C:\\Users\\duong\\Anaconda3\\envs\\duong\\lib\\site-packages\\sklearn\\metrics\\_classification.py:1318: UndefinedMetricWarning: Precision and F-score are ill-defined and being set to 0.0 in labels with no predicted samples. Use `zero_division` parameter to control this behavior.\n",
      "  _warn_prf(average, modifier, msg_start, len(result))\n"
     ]
    }
   ],
   "source": [
    "# see how these are numbers between 0 and 1? \n",
    "model.predict(X_test) # prob of successes (is_listened)\n",
    "np.round(model.predict(X_test),0) # 1 and 0 (is_listened or not)\n",
    "y # 1 and 0 (is_listened or not)\n",
    "\n",
    "# so we need to round to a whole number (0 or 1),\n",
    "# or the confusion matrix won't work!\n",
    "preds = np.round(model.predict(X_test),0)\n",
    "\n",
    "# confusion matrix\n",
    "print(confusion_matrix(y_test, preds)) # order matters! (actual, predicted)\n",
    "print(classification_report(y_test, preds))\n",
    "print(roc_auc_score(y_test, preds))"
   ]
  }
 ],
 "metadata": {
  "kernelspec": {
   "display_name": "Python 3 (ipykernel)",
   "language": "python",
   "name": "python3"
  },
  "language_info": {
   "codemirror_mode": {
    "name": "ipython",
    "version": 3
   },
   "file_extension": ".py",
   "mimetype": "text/x-python",
   "name": "python",
   "nbconvert_exporter": "python",
   "pygments_lexer": "ipython3",
   "version": "3.9.7"
  },
  "toc": {
   "base_numbering": 1,
   "nav_menu": {},
   "number_sections": true,
   "sideBar": true,
   "skip_h1_title": false,
   "title_cell": "Table of Contents",
   "title_sidebar": "Contents",
   "toc_cell": false,
   "toc_position": {},
   "toc_section_display": true,
   "toc_window_display": false
  }
 },
 "nbformat": 4,
 "nbformat_minor": 5
}
