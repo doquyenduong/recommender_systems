{
 "cells": [
  {
   "cell_type": "markdown",
   "id": "561de3ad",
   "metadata": {},
   "source": [
    "# Logistic Regression"
   ]
  },
  {
   "cell_type": "code",
   "execution_count": 8,
   "id": "a07c3c8f",
   "metadata": {},
   "outputs": [],
   "source": [
    "## Import libraries & modules\n",
    "import pandas as pd\n",
    "import numpy as np\n",
    "import warnings\n",
    "warnings.filterwarnings('ignore')\n",
    "import matplotlib.pyplot as plt\n",
    "from sklearn.linear_model import LogisticRegression\n",
    "from sklearn.model_selection import train_test_split, cross_val_score, GridSearchCV\n",
    "from sklearn.metrics import classification_report, confusion_matrix, roc_curve, roc_auc_score  ## evaluate the model"
   ]
  },
  {
   "cell_type": "markdown",
   "id": "2dc80547",
   "metadata": {},
   "source": [
    "## Import data"
   ]
  },
  {
   "cell_type": "code",
   "execution_count": 3,
   "id": "c4975b21",
   "metadata": {},
   "outputs": [],
   "source": [
    "# Read file\n",
    "from deezerData import readData\n",
    "df, X, y, X_train, X_test, y_train, y_test = readData()\n",
    "\n",
    "# Making arrays from the imported data\n",
    "X, y, X_train, X_test, y_train, y_test = X.values, y.values, X_train.values, X_test.values, y_train.values, y_test.values"
   ]
  },
  {
   "cell_type": "markdown",
   "id": "cbbeadbd",
   "metadata": {},
   "source": [
    "## Way 1: Hyperparameter tuning with GridSearchCV\n"
   ]
  },
  {
   "cell_type": "markdown",
   "id": "ec839e85",
   "metadata": {},
   "source": [
    "Logistic regression also has a regularization parameter: *C*.  *C* controls the inverse of the regularization strength, and this is what we will tune in this section. A large *C* can lead to an overfit model, while a small  can lead to an underfit model."
   ]
  },
  {
   "cell_type": "code",
   "execution_count": 10,
   "id": "f340b19a",
   "metadata": {},
   "outputs": [
    {
     "name": "stdout",
     "output_type": "stream",
     "text": [
      "Tuned Logistic Regression Parameters: {'C': 1e-05, 'penalty': 'l2'}\n",
      "Best score is 0.6740181670330204\n"
     ]
    }
   ],
   "source": [
    "# Setup the hyperparameter grid\n",
    "c_space = np.logspace(-5, 8, 15)\n",
    "param_grid = {'C': c_space, 'penalty': ['l1', 'l2']}\n",
    "\n",
    "# Instantiate a logistic regression classifier: logreg\n",
    "logreg = LogisticRegression()\n",
    "\n",
    "# Instantiate the GridSearchCV object: logreg_cv\n",
    "logreg_cv = GridSearchCV(logreg, param_grid, cv=5)\n",
    "\n",
    "# Fit it to the training data\n",
    "logreg_cv.fit(X_train, y_train)\n",
    "\n",
    "# Print the tuned parameters and score\n",
    "print(\"Tuned Logistic Regression Parameters: {}\".format(logreg_cv.best_params_)) \n",
    "print(\"Best score is {}\".format(logreg_cv.best_score_))"
   ]
  },
  {
   "cell_type": "markdown",
   "id": "c2362257",
   "metadata": {},
   "source": [
    "### Fitting the model"
   ]
  },
  {
   "cell_type": "markdown",
   "id": "d4c7f4a1",
   "metadata": {},
   "source": [
    "After the hyperparameter tunning, let's fit model based on the best parameters of *C* and penalty:"
   ]
  },
  {
   "cell_type": "code",
   "execution_count": 13,
   "id": "5fbcb32a",
   "metadata": {},
   "outputs": [],
   "source": [
    "# Model with chosen params from above\n",
    "logreg_final = LogisticRegression(C=1e-05, penalty='l2')\n",
    "\n",
    "# Fit it to the training data\n",
    "logreg_final.fit(X_train, y_train)\n",
    "\n",
    "# Prediction\n",
    "y_pred = logreg_final.predict(X_test)\n",
    "\n",
    "# Compute predicted probabilities: y_pred_prob\n",
    "y_pred_prob = logreg_final.predict_proba(X_test)[:,1]"
   ]
  },
  {
   "cell_type": "markdown",
   "id": "8f654bc2",
   "metadata": {},
   "source": [
    "### Evaluating the model"
   ]
  },
  {
   "cell_type": "code",
   "execution_count": 15,
   "id": "7dc8752f",
   "metadata": {},
   "outputs": [
    {
     "data": {
      "image/png": "[encoded data removed]",
      "text/plain": [
       "<Figure size 432x288 with 1 Axes>"
      ]
     },
     "metadata": {
      "needs_background": "light"
     },
     "output_type": "display_data"
    },
    {
     "data": {
      "text/plain": [
       "0.6723404255319149"
      ]
     },
     "execution_count": 15,
     "metadata": {},
     "output_type": "execute_result"
    }
   ],
   "source": [
    "# Generate ROC curve values: fpr, tpr, thresholds\n",
    "fpr, tpr, thresholds = roc_curve(y_test, y_pred_prob)\n",
    "\n",
    "# Plot ROC curve\n",
    "plt.plot([0, 1], [0, 1], 'k--')\n",
    "plt.plot(fpr, tpr)\n",
    "plt.xlabel('False Positive Rate')\n",
    "plt.ylabel('True Positive Rate')\n",
    "plt.title('ROC Curve')\n",
    "plt.show()\n",
    "\n",
    "logreg_final.score(X_test, y_test)"
   ]
  },
  {
   "cell_type": "code",
   "execution_count": 16,
   "id": "3a2e532c",
   "metadata": {},
   "outputs": [
    {
     "name": "stdout",
     "output_type": "stream",
     "text": [
      "[[   0  847]\n",
      " [   0 1738]]\n",
      "              precision    recall  f1-score   support\n",
      "\n",
      "           0       0.00      0.00      0.00       847\n",
      "           1       0.67      1.00      0.80      1738\n",
      "\n",
      "    accuracy                           0.67      2585\n",
      "   macro avg       0.34      0.50      0.40      2585\n",
      "weighted avg       0.45      0.67      0.54      2585\n",
      "\n",
      "AUC of logistic regression: 0.5\n",
      "AUC scores computed using 5-fold cross-validation: [0.50303441 0.4297169  0.48738353 0.50525403 0.50069714]\n"
     ]
    }
   ],
   "source": [
    "# Compute and print the confusion matrix and classification report\n",
    "print(confusion_matrix(y_test, y_pred))\n",
    "print(classification_report(y_test, y_pred))\n",
    "\n",
    "# Compute and print AUC score\n",
    "print(\"AUC of logistic regression: {}\".format(roc_auc_score(y_test, y_pred)))\n",
    "\n",
    "# Compute cross-validated AUC scores: cv_auc\n",
    "cv_auc = cross_val_score(logreg_final, X_test, y_test, cv=5, scoring='roc_auc')\n",
    "\n",
    "# Print list of AUC scores\n",
    "print(\"AUC scores computed using 5-fold cross-validation: {}\".format(cv_auc))"
   ]
  },
  {
   "cell_type": "markdown",
   "id": "216d26d1",
   "metadata": {},
   "source": [
    "## Way 2: Fitting the simple model without tunning and dropping the time stamp column\n"
   ]
  },
  {
   "cell_type": "code",
   "execution_count": 18,
   "id": "173404a2",
   "metadata": {},
   "outputs": [],
   "source": [
    "## Remove time stamp column from the dataset \n",
    "X_2 = df.drop([\"is_listened\",\"ts_listen\"], axis=1).values\n",
    "y_2 = y\n",
    "\n",
    "## Train Test Split: 80% train data and 20% test data\n",
    "X_train_2, X_test_2, y_train_2, y_test_2 = train_test_split(X_2, y_2, test_size=0.20,\n",
    "                                                    random_state=123)"
   ]
  },
  {
   "cell_type": "code",
   "execution_count": 20,
   "id": "2dbe36dc",
   "metadata": {},
   "outputs": [
    {
     "data": {
      "text/plain": [
       "0.6723404255319149"
      ]
     },
     "execution_count": 20,
     "metadata": {},
     "output_type": "execute_result"
    }
   ],
   "source": [
    "lr = LogisticRegression()\n",
    "lr.fit(X_train_2, y_train_2)\n",
    "y_pred_2 = lr.predict(X_test_2)\n",
    "lr.score(X_test_2, y_test_2)"
   ]
  },
  {
   "cell_type": "code",
   "execution_count": 22,
   "id": "e8bb144a",
   "metadata": {},
   "outputs": [
    {
     "name": "stdout",
     "output_type": "stream",
     "text": [
      "[[   0  847]\n",
      " [   0 1738]]\n",
      "              precision    recall  f1-score   support\n",
      "\n",
      "           0       0.00      0.00      0.00       847\n",
      "           1       0.67      1.00      0.80      1738\n",
      "\n",
      "    accuracy                           0.67      2585\n",
      "   macro avg       0.34      0.50      0.40      2585\n",
      "weighted avg       0.45      0.67      0.54      2585\n",
      "\n"
     ]
    }
   ],
   "source": [
    "# Compute and print the confusion matrix and classification report\n",
    "print(confusion_matrix(y_test_2, y_pred_2))\n",
    "print(classification_report(y_test_2, y_pred_2))\n",
    "\n",
    "# Compute predicted probabilities: y_pred_prob\n",
    "y_pred_2_prob = lr.predict_proba(X_test_2)[:,1]"
   ]
  },
  {
   "cell_type": "code",
   "execution_count": 23,
   "id": "c40790cf",
   "metadata": {},
   "outputs": [
    {
     "name": "stdout",
     "output_type": "stream",
     "text": [
      "AUC: 0.5621251068212048\n",
      "AUC scores computed using 5-fold cross-validation: [0.47803346 0.53580567 0.52314612 0.4569857  0.43095315]\n"
     ]
    }
   ],
   "source": [
    "# Compute and print AUC score\n",
    "print(\"AUC: {}\".format(roc_auc_score(y_test_2, y_pred_2_prob)))\n",
    "\n",
    "# Compute cross-validated AUC scores: cv_auc2\n",
    "cv_auc2 = cross_val_score(lr, X,y, cv=5, scoring='roc_auc')\n",
    "\n",
    "# Print list of AUC scores\n",
    "print(\"AUC scores computed using 5-fold cross-validation: {}\".format(cv_auc2))"
   ]
  }
 ],
 "metadata": {
  "kernelspec": {
   "display_name": "Python 3 (ipykernel)",
   "language": "python",
   "name": "python3"
  },
  "language_info": {
   "codemirror_mode": {
    "name": "ipython",
    "version": 3
   },
   "file_extension": ".py",
   "mimetype": "text/x-python",
   "name": "python",
   "nbconvert_exporter": "python",
   "pygments_lexer": "ipython3",
   "version": "3.9.7"
  },
  "toc": {
   "base_numbering": 1,
   "nav_menu": {},
   "number_sections": true,
   "sideBar": true,
   "skip_h1_title": false,
   "title_cell": "Table of Contents",
   "title_sidebar": "Contents",
   "toc_cell": false,
   "toc_position": {},
   "toc_section_display": true,
   "toc_window_display": false
  }
 },
 "nbformat": 4,
 "nbformat_minor": 5
}
