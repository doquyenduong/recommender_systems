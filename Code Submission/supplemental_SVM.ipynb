{
 "cells": [
  {
   "cell_type": "markdown",
   "id": "9483d0d4",
   "metadata": {},
   "source": [
    "# Support Vector Machine"
   ]
  },
  {
   "cell_type": "code",
   "execution_count": 3,
   "id": "8d490ed9",
   "metadata": {},
   "outputs": [],
   "source": [
    "# Import libraries\n",
    "import numpy as np\n",
    "import matplotlib.pyplot as plt\n",
    "import pandas as pd\n",
    "from sklearn.pipeline import Pipeline\n",
    "from sklearn.preprocessing import StandardScaler\n",
    "from sklearn.neighbors import KNeighborsClassifier\n",
    "from sklearn.model_selection import train_test_split, cross_val_score, GridSearchCV  \n",
    "from sklearn.svm import SVC, LinearSVC\n",
    "from sklearn.metrics import classification_report, confusion_matrix, roc_auc_score, accuracy_score  \n",
    "from sklearn import svm"
   ]
  },
  {
   "cell_type": "markdown",
   "id": "cd49e240",
   "metadata": {},
   "source": [
    "## Import data"
   ]
  },
  {
   "cell_type": "code",
   "execution_count": 4,
   "id": "8c258352",
   "metadata": {},
   "outputs": [],
   "source": [
    "# Read file\n",
    "from deezerData import readData\n",
    "df, X, y, X_train, X_test, y_train, y_test = readData()\n",
    "# Making arrays\n",
    "X, y, X_train, X_test, y_train, y_test = X.values, y.values, X_train.values, X_test.values, y_train.values, y_test.values"
   ]
  },
  {
   "cell_type": "markdown",
   "id": "42cc2d93",
   "metadata": {},
   "source": [
    "## Way 1: Pipeline for classification, Grid Search with cross validation"
   ]
  },
  {
   "cell_type": "markdown",
   "id": "16830ed9",
   "metadata": {},
   "source": [
    "In this part, we use the default kernel rbf:"
   ]
  },
  {
   "cell_type": "code",
   "execution_count": 6,
   "id": "cc39fd69",
   "metadata": {},
   "outputs": [
    {
     "name": "stdout",
     "output_type": "stream",
     "text": [
      "Tuned Model Parameters: {'SVM__C': 10, 'SVM__gamma': 0.1}\n",
      "Accuracy for grid search cross validation: 0.7678916827852998\n",
      "              precision    recall  f1-score   support\n",
      "\n",
      "           0       0.65      0.62      0.64       847\n",
      "           1       0.82      0.84      0.83      1738\n",
      "\n",
      "    accuracy                           0.77      2585\n",
      "   macro avg       0.74      0.73      0.73      2585\n",
      "weighted avg       0.77      0.77      0.77      2585\n",
      "\n",
      "AUC: 0.7302430021072139\n"
     ]
    }
   ],
   "source": [
    "# Setup the pipeline\n",
    "steps = [('scaler', StandardScaler()), ('SVM', SVC())]\n",
    "\n",
    "pipeline = Pipeline(steps)\n",
    "\n",
    "# Specify the hyperparameter space\n",
    "parameters = {'SVM__C':[1, 10, 100],\n",
    "              'SVM__gamma':[0.1, 0.01]}\n",
    "\n",
    "# Instantiate the GridSearchCV object: cv\n",
    "cv = GridSearchCV(pipeline, param_grid=parameters)\n",
    "\n",
    "# Fit to the training set\n",
    "cv.fit(X_train, y_train)\n",
    "\n",
    "# Predict the labels of the test set: y_pred\n",
    "y_pred = cv.predict(X_test)\n",
    "\n",
    "# Compute and print metrics\n",
    "print(\"Tuned Model Parameters: {}\".format(cv.best_params_))\n",
    "print(\"Accuracy for grid search cross validation: {}\".format(cv.score(X_test, y_test)))\n",
    "print(classification_report(y_test, y_pred))\n",
    "print(\"AUC: {}\".format(roc_auc_score(y_test, y_pred)))"
   ]
  },
  {
   "cell_type": "code",
   "execution_count": 7,
   "id": "0bc154ce",
   "metadata": {},
   "outputs": [
    {
     "name": "stdout",
     "output_type": "stream",
     "text": [
      "Accuracy for fitting model with chosen parameters: 0.6731141199226306\n",
      "AUC for the model with chosen parameters: 0.5011806375442739\n"
     ]
    }
   ],
   "source": [
    "# Fit model with tuned parameters\n",
    "svm_final = SVC(C=10, gamma=0.1)\n",
    "svm_final.fit(X_train, y_train)\n",
    "y_pred_final = svm_final.predict(X_test)\n",
    "print(\"Accuracy for fitting model with chosen parameters: {}\".format(svm_final.score(X_test, y_test)))\n",
    "print(\"AUC for the model with chosen parameters: {}\".format(roc_auc_score(y_test, y_pred_final)))"
   ]
  },
  {
   "cell_type": "markdown",
   "id": "3387957f",
   "metadata": {},
   "source": [
    "## Way 2: Kernel sigmoid "
   ]
  },
  {
   "cell_type": "code",
   "execution_count": 9,
   "id": "de67fc9c",
   "metadata": {},
   "outputs": [
    {
     "name": "stdout",
     "output_type": "stream",
     "text": [
      "              precision    recall  f1-score   support\n",
      "\n",
      "           0       0.47      0.48      0.47       847\n",
      "           1       0.74      0.74      0.74      1738\n",
      "\n",
      "    accuracy                           0.65      2585\n",
      "   macro avg       0.61      0.61      0.61      2585\n",
      "weighted avg       0.65      0.65      0.65      2585\n",
      "\n",
      "Accuracy of SVM with sigmoid kernel: 0.6533849129593811\n",
      "AUC sigmoid kernel: 0.6084692062827852\n"
     ]
    }
   ],
   "source": [
    "steps2 = [('scaler', StandardScaler()), ('svc_sigmoid', SVC(kernel='sigmoid'))]\n",
    "\n",
    "pipeline2 = Pipeline(steps2)\n",
    "\n",
    "# svc_sigmoid = SVC(kernel='sigmoid')\n",
    "\n",
    "# Fit to the training set\n",
    "pipeline2.fit(X_train, y_train)\n",
    "\n",
    "# Predict the labels of the test set: y_pred\n",
    "y_pred_2 = pipeline2.predict(X_test)\n",
    "\n",
    "# Compute and print metrics\n",
    "print(classification_report(y_test, y_pred_2))\n",
    "print(\"Accuracy of SVM with sigmoid kernel: {}\".format(pipeline2.score(X_test, y_test)))\n",
    "print(\"AUC sigmoid kernel: {}\".format(roc_auc_score(y_test, y_pred_2)))"
   ]
  },
  {
   "cell_type": "markdown",
   "id": "1dcfa116",
   "metadata": {},
   "source": [
    "## Way 3: With several kernels"
   ]
  },
  {
   "cell_type": "code",
   "execution_count": null,
   "id": "a69897f7",
   "metadata": {},
   "outputs": [],
   "source": [
    "# Specify the hyperparameter space\n",
    "tuned_parameters = [\n",
    "    {\"kernel\": [\"rbf\"], \"gamma\": [1e-3, 1e-4], \"C\": [1, 10, 100]},\n",
    "    {\"kernel\": [\"linear\"], \"C\": [1, 10, 100]},\n",
    "    # {\"kernel\": [\"sigmoid\"], \"C\": [1, 10, 100, 1000]}\n",
    "]\n",
    "\n",
    "# scores = [\"accuracy\", \"roc_auc\"]\n",
    "scores = [\"precision\", \"recall\"]\n",
    "\n",
    "for score in scores:\n",
    "    print(\"# Tuning hyper-parameters for %s\" % score)\n",
    "    print()\n",
    "\n",
    "    clf = GridSearchCV(SVC(), tuned_parameters, scoring=\"%s_macro\" % score)\n",
    "    clf.fit(X_train, y_train)\n",
    "\n",
    "    print(\"Best parameters set found on development set:\")\n",
    "    print()\n",
    "    print(clf.best_params_)\n",
    "    print()\n",
    "    print(\"Grid scores on development set:\")\n",
    "    print()\n",
    "    means = clf.cv_results_[\"mean_test_score\"]\n",
    "    stds = clf.cv_results_[\"std_test_score\"]\n",
    "    for mean, std, params in zip(means, stds, clf.cv_results_[\"params\"]):\n",
    "        print(\"%0.3f (+/-%0.03f) for %r\" % (mean, std * 2, params))\n",
    "    print()\n",
    "\n",
    "    print(\"Detailed classification report:\")\n",
    "    print()\n",
    "    print(\"The model is trained on the full development set.\")\n",
    "    print(\"The scores are computed on the full evaluation set.\")\n",
    "    print()\n",
    "    y_true, y_pred_3 = y_test, clf.predict(X_test)\n",
    "    print(classification_report(y_true, y_pred_3))\n",
    "    print(\"AUC: {}\".format(roc_auc_score(y_true, y_pred_3)))\n",
    "    print()"
   ]
  },
  {
   "cell_type": "code",
   "execution_count": null,
   "id": "82f836de",
   "metadata": {},
   "outputs": [],
   "source": []
  }
 ],
 "metadata": {
  "kernelspec": {
   "display_name": "Python 3 (ipykernel)",
   "language": "python",
   "name": "python3"
  },
  "language_info": {
   "codemirror_mode": {
    "name": "ipython",
    "version": 3
   },
   "file_extension": ".py",
   "mimetype": "text/x-python",
   "name": "python",
   "nbconvert_exporter": "python",
   "pygments_lexer": "ipython3",
   "version": "3.9.7"
  },
  "toc": {
   "base_numbering": 1,
   "nav_menu": {},
   "number_sections": true,
   "sideBar": true,
   "skip_h1_title": false,
   "title_cell": "Table of Contents",
   "title_sidebar": "Contents",
   "toc_cell": false,
   "toc_position": {},
   "toc_section_display": true,
   "toc_window_display": false
  }
 },
 "nbformat": 4,
 "nbformat_minor": 5
}
