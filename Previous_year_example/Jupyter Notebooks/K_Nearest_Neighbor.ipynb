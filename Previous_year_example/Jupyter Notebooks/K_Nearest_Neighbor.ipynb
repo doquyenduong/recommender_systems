{
 "cells": [
  {
   "cell_type": "markdown",
   "metadata": {
    "id": "wznSCkLRAi2W"
   },
   "source": [
    "# K-Nearest Neighbor\n",
    "Source of code: https://stackabuse.com/k-nearest-neighbors-algorithm-in-python-and-scikit-learn/"
   ]
  },
  {
   "cell_type": "code",
   "execution_count": 1,
   "metadata": {
    "colab": {
     "base_uri": "https://localhost:8080/"
    },
    "id": "zANHjPBW3tUM",
    "outputId": "adc79cba-bf33-4b74-cf27-69992441ce41"
   },
   "outputs": [
    {
     "name": "stdout",
     "output_type": "stream",
     "text": [
      "Mounted at /content/drive\n"
     ]
    }
   ],
   "source": [
    "import pandas as pd\n",
    "import os\n",
    "from google.colab import drive\n",
    "drive.mount('/content/drive')\n",
    "os.chdir('/content/drive/MyDrive/Colab Notebooks')\n",
    "\n",
    "\n"
   ]
  },
  {
   "cell_type": "markdown",
   "metadata": {
    "id": "NmbipwIbjFZ5"
   },
   "source": [
    "First we import our dataset"
   ]
  },
  {
   "cell_type": "code",
   "execution_count": 2,
   "metadata": {
    "colab": {
     "base_uri": "https://localhost:8080/",
     "height": 782
    },
    "id": "8PxeyzcEG3nH",
    "outputId": "4e610411-7744-4488-9133-6886e2824be8"
   },
   "outputs": [
    {
     "data": {
      "text/html": [
       "<div>\n",
       "<style scoped>\n",
       "    .dataframe tbody tr th:only-of-type {\n",
       "        vertical-align: middle;\n",
       "    }\n",
       "\n",
       "    .dataframe tbody tr th {\n",
       "        vertical-align: top;\n",
       "    }\n",
       "\n",
       "    .dataframe thead th {\n",
       "        text-align: right;\n",
       "    }\n",
       "</style>\n",
       "<table border=\"1\" class=\"dataframe\">\n",
       "  <thead>\n",
       "    <tr style=\"text-align: right;\">\n",
       "      <th></th>\n",
       "      <th>genre_id</th>\n",
       "      <th>ts_listen</th>\n",
       "      <th>media_id</th>\n",
       "      <th>album_id</th>\n",
       "      <th>release_date</th>\n",
       "      <th>platform_name</th>\n",
       "      <th>platform_family</th>\n",
       "      <th>media_duration</th>\n",
       "      <th>listen_type</th>\n",
       "      <th>user_gender</th>\n",
       "      <th>user_id</th>\n",
       "      <th>artist_id</th>\n",
       "      <th>user_age</th>\n",
       "      <th>is_listened</th>\n",
       "    </tr>\n",
       "  </thead>\n",
       "  <tbody>\n",
       "    <tr>\n",
       "      <th>0</th>\n",
       "      <td>25471</td>\n",
       "      <td>2016-12-01 13:00:15</td>\n",
       "      <td>222606</td>\n",
       "      <td>41774</td>\n",
       "      <td>2004-07-04</td>\n",
       "      <td>1</td>\n",
       "      <td>0</td>\n",
       "      <td>223</td>\n",
       "      <td>0</td>\n",
       "      <td>0</td>\n",
       "      <td>9241</td>\n",
       "      <td>55164</td>\n",
       "      <td>29</td>\n",
       "      <td>0</td>\n",
       "    </tr>\n",
       "    <tr>\n",
       "      <th>1</th>\n",
       "      <td>25571</td>\n",
       "      <td>2016-11-30 22:25:35</td>\n",
       "      <td>250467</td>\n",
       "      <td>43941</td>\n",
       "      <td>2006-03-01</td>\n",
       "      <td>2</td>\n",
       "      <td>1</td>\n",
       "      <td>171</td>\n",
       "      <td>0</td>\n",
       "      <td>0</td>\n",
       "      <td>16547</td>\n",
       "      <td>55830</td>\n",
       "      <td>30</td>\n",
       "      <td>1</td>\n",
       "    </tr>\n",
       "    <tr>\n",
       "      <th>2</th>\n",
       "      <td>16</td>\n",
       "      <td>2016-11-19 13:59:13</td>\n",
       "      <td>305197</td>\n",
       "      <td>48078</td>\n",
       "      <td>2014-07-14</td>\n",
       "      <td>2</td>\n",
       "      <td>1</td>\n",
       "      <td>149</td>\n",
       "      <td>1</td>\n",
       "      <td>1</td>\n",
       "      <td>7665</td>\n",
       "      <td>2704</td>\n",
       "      <td>29</td>\n",
       "      <td>1</td>\n",
       "    </tr>\n",
       "    <tr>\n",
       "      <th>3</th>\n",
       "      <td>7</td>\n",
       "      <td>2016-11-26 09:21:38</td>\n",
       "      <td>900502</td>\n",
       "      <td>71521</td>\n",
       "      <td>2000-10-30</td>\n",
       "      <td>0</td>\n",
       "      <td>0</td>\n",
       "      <td>240</td>\n",
       "      <td>0</td>\n",
       "      <td>1</td>\n",
       "      <td>1580</td>\n",
       "      <td>938</td>\n",
       "      <td>30</td>\n",
       "      <td>0</td>\n",
       "    </tr>\n",
       "    <tr>\n",
       "      <th>4</th>\n",
       "      <td>7</td>\n",
       "      <td>2016-11-05 18:02:54</td>\n",
       "      <td>542335</td>\n",
       "      <td>71718</td>\n",
       "      <td>2008-02-15</td>\n",
       "      <td>0</td>\n",
       "      <td>0</td>\n",
       "      <td>150</td>\n",
       "      <td>0</td>\n",
       "      <td>1</td>\n",
       "      <td>1812</td>\n",
       "      <td>2939</td>\n",
       "      <td>24</td>\n",
       "      <td>1</td>\n",
       "    </tr>\n",
       "    <tr>\n",
       "      <th>...</th>\n",
       "      <td>...</td>\n",
       "      <td>...</td>\n",
       "      <td>...</td>\n",
       "      <td>...</td>\n",
       "      <td>...</td>\n",
       "      <td>...</td>\n",
       "      <td>...</td>\n",
       "      <td>...</td>\n",
       "      <td>...</td>\n",
       "      <td>...</td>\n",
       "      <td>...</td>\n",
       "      <td>...</td>\n",
       "      <td>...</td>\n",
       "      <td>...</td>\n",
       "    </tr>\n",
       "    <tr>\n",
       "      <th>7558580</th>\n",
       "      <td>0</td>\n",
       "      <td>2016-11-29 05:41:37</td>\n",
       "      <td>136334560</td>\n",
       "      <td>14581358</td>\n",
       "      <td>1991-01-01</td>\n",
       "      <td>1</td>\n",
       "      <td>0</td>\n",
       "      <td>268</td>\n",
       "      <td>1</td>\n",
       "      <td>0</td>\n",
       "      <td>2592</td>\n",
       "      <td>129</td>\n",
       "      <td>24</td>\n",
       "      <td>0</td>\n",
       "    </tr>\n",
       "    <tr>\n",
       "      <th>7558581</th>\n",
       "      <td>0</td>\n",
       "      <td>2016-11-24 07:44:25</td>\n",
       "      <td>136591154</td>\n",
       "      <td>14617606</td>\n",
       "      <td>2016-11-18</td>\n",
       "      <td>0</td>\n",
       "      <td>0</td>\n",
       "      <td>974</td>\n",
       "      <td>0</td>\n",
       "      <td>0</td>\n",
       "      <td>9028</td>\n",
       "      <td>63401</td>\n",
       "      <td>22</td>\n",
       "      <td>0</td>\n",
       "    </tr>\n",
       "    <tr>\n",
       "      <th>7558582</th>\n",
       "      <td>0</td>\n",
       "      <td>2016-11-24 13:16:17</td>\n",
       "      <td>136647128</td>\n",
       "      <td>14624304</td>\n",
       "      <td>2016-10-12</td>\n",
       "      <td>0</td>\n",
       "      <td>2</td>\n",
       "      <td>175</td>\n",
       "      <td>1</td>\n",
       "      <td>0</td>\n",
       "      <td>393</td>\n",
       "      <td>617</td>\n",
       "      <td>26</td>\n",
       "      <td>0</td>\n",
       "    </tr>\n",
       "    <tr>\n",
       "      <th>7558583</th>\n",
       "      <td>0</td>\n",
       "      <td>2016-11-23 21:35:18</td>\n",
       "      <td>136647132</td>\n",
       "      <td>14624304</td>\n",
       "      <td>2016-10-12</td>\n",
       "      <td>0</td>\n",
       "      <td>0</td>\n",
       "      <td>126</td>\n",
       "      <td>1</td>\n",
       "      <td>1</td>\n",
       "      <td>4507</td>\n",
       "      <td>221</td>\n",
       "      <td>29</td>\n",
       "      <td>1</td>\n",
       "    </tr>\n",
       "    <tr>\n",
       "      <th>7558584</th>\n",
       "      <td>0</td>\n",
       "      <td>2016-11-24 23:14:35</td>\n",
       "      <td>136714314</td>\n",
       "      <td>14632578</td>\n",
       "      <td>2016-11-24</td>\n",
       "      <td>0</td>\n",
       "      <td>0</td>\n",
       "      <td>177</td>\n",
       "      <td>1</td>\n",
       "      <td>1</td>\n",
       "      <td>8129</td>\n",
       "      <td>4088</td>\n",
       "      <td>30</td>\n",
       "      <td>1</td>\n",
       "    </tr>\n",
       "  </tbody>\n",
       "</table>\n",
       "<p>7558585 rows × 14 columns</p>\n",
       "</div>"
      ],
      "text/plain": [
       "         genre_id            ts_listen  ...  user_age  is_listened\n",
       "0           25471  2016-12-01 13:00:15  ...        29            0\n",
       "1           25571  2016-11-30 22:25:35  ...        30            1\n",
       "2              16  2016-11-19 13:59:13  ...        29            1\n",
       "3               7  2016-11-26 09:21:38  ...        30            0\n",
       "4               7  2016-11-05 18:02:54  ...        24            1\n",
       "...           ...                  ...  ...       ...          ...\n",
       "7558580         0  2016-11-29 05:41:37  ...        24            0\n",
       "7558581         0  2016-11-24 07:44:25  ...        22            0\n",
       "7558582         0  2016-11-24 13:16:17  ...        26            0\n",
       "7558583         0  2016-11-23 21:35:18  ...        29            1\n",
       "7558584         0  2016-11-24 23:14:35  ...        30            1\n",
       "\n",
       "[7558585 rows x 14 columns]"
      ]
     },
     "execution_count": 2,
     "metadata": {
      "tags": []
     },
     "output_type": "execute_result"
    }
   ],
   "source": [
    "songsPath_train = 'Deezer_Big.csv'\n",
    "df = pd.read_csv(songsPath_train)\n",
    "\n",
    "df = df.drop(['Unnamed: 0', 'context_type'], axis=1)\n",
    "df"
   ]
  },
  {
   "cell_type": "code",
   "execution_count": 3,
   "metadata": {
    "id": "fdAzE_XQ4FzE"
   },
   "outputs": [],
   "source": [
    "import pandas as pd\n",
    "import sklearn"
   ]
  },
  {
   "cell_type": "markdown",
   "metadata": {
    "id": "r_683D8KjZgR"
   },
   "source": [
    "Because the KNN algorithm requires numerical data, we transform the categorical data to numerical data with label encoding"
   ]
  },
  {
   "cell_type": "code",
   "execution_count": 4,
   "metadata": {
    "colab": {
     "base_uri": "https://localhost:8080/"
    },
    "id": "LWuznHtj3-4g",
    "outputId": "ffb01689-ec9c-4f9a-84fc-21b75a3fcc20"
   },
   "outputs": [
    {
     "name": "stdout",
     "output_type": "stream",
     "text": [
      "[0 1 1 ... 0 1 1]\n",
      "[1358 1366   14 ...    0    0    0]\n",
      "[   573   1808   3158 ... 451824 451825 451942]\n",
      "[1 2 2 ... 0 0 0]\n",
      "[0 1 1 ... 2 0 0]\n",
      "[0 0 1 ... 0 1 1]\n",
      "[8766 8962 2078 ...  522  191 2969]\n",
      "[2235113 2207566 1421748 ... 1772723 1731221 1806535]\n",
      "[4507 5016 8002 ... 8823 8823 8866]\n",
      "[   224    573   1006 ... 151147 151147 151194]\n",
      "[0 0 1 ... 1 1 1]\n"
     ]
    },
    {
     "data": {
      "text/plain": [
       "['genre_id',\n",
       " 'ts_listen',\n",
       " 'media_id',\n",
       " 'album_id',\n",
       " 'release_date',\n",
       " 'platform_name',\n",
       " 'platform_family',\n",
       " 'media_duration',\n",
       " 'listen_type',\n",
       " 'user_gender',\n",
       " 'user_id',\n",
       " 'artist_id',\n",
       " 'user_age',\n",
       " 'is_listened']"
      ]
     },
     "execution_count": 4,
     "metadata": {
      "tags": []
     },
     "output_type": "execute_result"
    }
   ],
   "source": [
    "from sklearn import preprocessing\n",
    "# Encoding Categorical data\n",
    "le = preprocessing.LabelEncoder()\n",
    "# User_id\n",
    "user_encoded=le.fit_transform(df.user_id)\n",
    "\n",
    "# is listened\n",
    "label=le.fit_transform(df.is_listened)\n",
    "print(label)\n",
    "\n",
    "# genre_id\n",
    "genre_encoded=le.fit_transform(df.genre_id)\n",
    "print(genre_encoded)\n",
    "\n",
    "# media_id\n",
    "media_encoded=le.fit_transform(df.media_id)\n",
    "print(media_encoded)\n",
    "\n",
    "#platform_name\n",
    "plname_encoded=le.fit_transform(df.platform_name)\n",
    "print(plname_encoded)\n",
    "\n",
    "#platfrom_family\n",
    "plfam_encoded=le.fit_transform(df.platform_family)\n",
    "print(plfam_encoded)\n",
    "\n",
    "#user_gender\n",
    "gender_encoded=le.fit_transform(df.user_gender)\n",
    "print(gender_encoded)\n",
    "\n",
    "#artist_id\n",
    "artist_encoded=le.fit_transform(df.artist_id)\n",
    "print(artist_encoded)\n",
    "\n",
    "#ts_listened\n",
    "ts_listened_encoded=le.fit_transform(df.ts_listen)\n",
    "print(ts_listened_encoded)\n",
    "\n",
    "#release_date\n",
    "df[\"release_date\"] = df[\"release_date\"].astype(str)\n",
    "release_date_encoded =le.fit_transform(df.release_date)\n",
    "print(release_date_encoded)\n",
    "\n",
    "# album_id\n",
    "album_id_encoded =le.fit_transform(df.album_id)\n",
    "print(album_id_encoded)\n",
    "\n",
    "#listen_type\n",
    "listen_type_encoded = le.fit_transform(df.listen_type)\n",
    "print(listen_type_encoded)\n",
    "\n",
    "#media_duration\n",
    "en_mediaduration = df.media_duration\n",
    "\n",
    "#user_age\n",
    "en_userage= df.user_age\n",
    "\n",
    "\n",
    "\n",
    "name =list(df.columns)\n",
    "name\n"
   ]
  },
  {
   "cell_type": "markdown",
   "metadata": {
    "id": "z72yxcVWjzi6"
   },
   "source": [
    "Now we create a new dataframe with the encoded data."
   ]
  },
  {
   "cell_type": "code",
   "execution_count": 5,
   "metadata": {
    "id": "kqJ5wkNN6gag"
   },
   "outputs": [],
   "source": [
    "#create a dataframe\n",
    "features=list(zip(genre_encoded,ts_listened_encoded, media_encoded,album_id_encoded,release_date_encoded, plname_encoded,plfam_encoded,en_mediaduration, listen_type_encoded, gender_encoded,  user_encoded,artist_encoded, en_userage, label))\n",
    "features\n",
    "\n",
    "df1 = pd.DataFrame(features)\n",
    "df1.columns=['genre_id',\n",
    " 'ts_listen',\n",
    " 'media_id',\n",
    " 'album_id',\n",
    " 'release_date',\n",
    " 'platform_name',\n",
    " 'platform_family',\n",
    " 'media_duration',\n",
    " 'listen_type',\n",
    " 'user_gender',\n",
    " 'user_id',\n",
    " 'artist_id',\n",
    " 'user_age',\n",
    " 'is_listened']\n",
    " \n"
   ]
  },
  {
   "cell_type": "code",
   "execution_count": 6,
   "metadata": {
    "colab": {
     "base_uri": "https://localhost:8080/",
     "height": 435
    },
    "id": "qegKP_mJPdEP",
    "outputId": "b44fb60d-18ff-4a1d-85c8-91da8d163a57"
   },
   "outputs": [
    {
     "data": {
      "text/html": [
       "<div>\n",
       "<style scoped>\n",
       "    .dataframe tbody tr th:only-of-type {\n",
       "        vertical-align: middle;\n",
       "    }\n",
       "\n",
       "    .dataframe tbody tr th {\n",
       "        vertical-align: top;\n",
       "    }\n",
       "\n",
       "    .dataframe thead th {\n",
       "        text-align: right;\n",
       "    }\n",
       "</style>\n",
       "<table border=\"1\" class=\"dataframe\">\n",
       "  <thead>\n",
       "    <tr style=\"text-align: right;\">\n",
       "      <th></th>\n",
       "      <th>genre_id</th>\n",
       "      <th>ts_listen</th>\n",
       "      <th>media_id</th>\n",
       "      <th>album_id</th>\n",
       "      <th>release_date</th>\n",
       "      <th>platform_name</th>\n",
       "      <th>platform_family</th>\n",
       "      <th>media_duration</th>\n",
       "      <th>listen_type</th>\n",
       "      <th>user_gender</th>\n",
       "      <th>user_id</th>\n",
       "      <th>artist_id</th>\n",
       "      <th>user_age</th>\n",
       "      <th>is_listened</th>\n",
       "    </tr>\n",
       "  </thead>\n",
       "  <tbody>\n",
       "    <tr>\n",
       "      <th>0</th>\n",
       "      <td>1358</td>\n",
       "      <td>2235113</td>\n",
       "      <td>573</td>\n",
       "      <td>224</td>\n",
       "      <td>4507</td>\n",
       "      <td>1</td>\n",
       "      <td>0</td>\n",
       "      <td>223</td>\n",
       "      <td>0</td>\n",
       "      <td>0</td>\n",
       "      <td>9241</td>\n",
       "      <td>8766</td>\n",
       "      <td>29</td>\n",
       "      <td>0</td>\n",
       "    </tr>\n",
       "    <tr>\n",
       "      <th>1</th>\n",
       "      <td>1366</td>\n",
       "      <td>2207566</td>\n",
       "      <td>1808</td>\n",
       "      <td>573</td>\n",
       "      <td>5016</td>\n",
       "      <td>2</td>\n",
       "      <td>1</td>\n",
       "      <td>171</td>\n",
       "      <td>0</td>\n",
       "      <td>0</td>\n",
       "      <td>16547</td>\n",
       "      <td>8962</td>\n",
       "      <td>30</td>\n",
       "      <td>1</td>\n",
       "    </tr>\n",
       "    <tr>\n",
       "      <th>2</th>\n",
       "      <td>14</td>\n",
       "      <td>1421748</td>\n",
       "      <td>3158</td>\n",
       "      <td>1006</td>\n",
       "      <td>8002</td>\n",
       "      <td>2</td>\n",
       "      <td>1</td>\n",
       "      <td>149</td>\n",
       "      <td>1</td>\n",
       "      <td>1</td>\n",
       "      <td>7665</td>\n",
       "      <td>2078</td>\n",
       "      <td>29</td>\n",
       "      <td>1</td>\n",
       "    </tr>\n",
       "    <tr>\n",
       "      <th>3</th>\n",
       "      <td>6</td>\n",
       "      <td>1899424</td>\n",
       "      <td>19977</td>\n",
       "      <td>1484</td>\n",
       "      <td>3457</td>\n",
       "      <td>0</td>\n",
       "      <td>0</td>\n",
       "      <td>240</td>\n",
       "      <td>0</td>\n",
       "      <td>1</td>\n",
       "      <td>1580</td>\n",
       "      <td>782</td>\n",
       "      <td>30</td>\n",
       "      <td>0</td>\n",
       "    </tr>\n",
       "    <tr>\n",
       "      <th>4</th>\n",
       "      <td>6</td>\n",
       "      <td>401913</td>\n",
       "      <td>5029</td>\n",
       "      <td>1555</td>\n",
       "      <td>5683</td>\n",
       "      <td>0</td>\n",
       "      <td>0</td>\n",
       "      <td>150</td>\n",
       "      <td>0</td>\n",
       "      <td>1</td>\n",
       "      <td>1812</td>\n",
       "      <td>2248</td>\n",
       "      <td>24</td>\n",
       "      <td>1</td>\n",
       "    </tr>\n",
       "    <tr>\n",
       "      <th>...</th>\n",
       "      <td>...</td>\n",
       "      <td>...</td>\n",
       "      <td>...</td>\n",
       "      <td>...</td>\n",
       "      <td>...</td>\n",
       "      <td>...</td>\n",
       "      <td>...</td>\n",
       "      <td>...</td>\n",
       "      <td>...</td>\n",
       "      <td>...</td>\n",
       "      <td>...</td>\n",
       "      <td>...</td>\n",
       "      <td>...</td>\n",
       "      <td>...</td>\n",
       "    </tr>\n",
       "    <tr>\n",
       "      <th>7558580</th>\n",
       "      <td>0</td>\n",
       "      <td>2090512</td>\n",
       "      <td>450561</td>\n",
       "      <td>150765</td>\n",
       "      <td>1302</td>\n",
       "      <td>1</td>\n",
       "      <td>0</td>\n",
       "      <td>268</td>\n",
       "      <td>1</td>\n",
       "      <td>0</td>\n",
       "      <td>2592</td>\n",
       "      <td>110</td>\n",
       "      <td>24</td>\n",
       "      <td>0</td>\n",
       "    </tr>\n",
       "    <tr>\n",
       "      <th>7558581</th>\n",
       "      <td>0</td>\n",
       "      <td>1753932</td>\n",
       "      <td>451728</td>\n",
       "      <td>151100</td>\n",
       "      <td>8860</td>\n",
       "      <td>0</td>\n",
       "      <td>0</td>\n",
       "      <td>974</td>\n",
       "      <td>0</td>\n",
       "      <td>0</td>\n",
       "      <td>9028</td>\n",
       "      <td>9875</td>\n",
       "      <td>22</td>\n",
       "      <td>0</td>\n",
       "    </tr>\n",
       "    <tr>\n",
       "      <th>7558582</th>\n",
       "      <td>0</td>\n",
       "      <td>1772723</td>\n",
       "      <td>451824</td>\n",
       "      <td>151147</td>\n",
       "      <td>8823</td>\n",
       "      <td>0</td>\n",
       "      <td>2</td>\n",
       "      <td>175</td>\n",
       "      <td>1</td>\n",
       "      <td>0</td>\n",
       "      <td>393</td>\n",
       "      <td>522</td>\n",
       "      <td>26</td>\n",
       "      <td>0</td>\n",
       "    </tr>\n",
       "    <tr>\n",
       "      <th>7558583</th>\n",
       "      <td>0</td>\n",
       "      <td>1731221</td>\n",
       "      <td>451825</td>\n",
       "      <td>151147</td>\n",
       "      <td>8823</td>\n",
       "      <td>0</td>\n",
       "      <td>0</td>\n",
       "      <td>126</td>\n",
       "      <td>1</td>\n",
       "      <td>1</td>\n",
       "      <td>4507</td>\n",
       "      <td>191</td>\n",
       "      <td>29</td>\n",
       "      <td>1</td>\n",
       "    </tr>\n",
       "    <tr>\n",
       "      <th>7558584</th>\n",
       "      <td>0</td>\n",
       "      <td>1806535</td>\n",
       "      <td>451942</td>\n",
       "      <td>151194</td>\n",
       "      <td>8866</td>\n",
       "      <td>0</td>\n",
       "      <td>0</td>\n",
       "      <td>177</td>\n",
       "      <td>1</td>\n",
       "      <td>1</td>\n",
       "      <td>8129</td>\n",
       "      <td>2969</td>\n",
       "      <td>30</td>\n",
       "      <td>1</td>\n",
       "    </tr>\n",
       "  </tbody>\n",
       "</table>\n",
       "<p>7558585 rows × 14 columns</p>\n",
       "</div>"
      ],
      "text/plain": [
       "         genre_id  ts_listen  media_id  ...  artist_id  user_age  is_listened\n",
       "0            1358    2235113       573  ...       8766        29            0\n",
       "1            1366    2207566      1808  ...       8962        30            1\n",
       "2              14    1421748      3158  ...       2078        29            1\n",
       "3               6    1899424     19977  ...        782        30            0\n",
       "4               6     401913      5029  ...       2248        24            1\n",
       "...           ...        ...       ...  ...        ...       ...          ...\n",
       "7558580         0    2090512    450561  ...        110        24            0\n",
       "7558581         0    1753932    451728  ...       9875        22            0\n",
       "7558582         0    1772723    451824  ...        522        26            0\n",
       "7558583         0    1731221    451825  ...        191        29            1\n",
       "7558584         0    1806535    451942  ...       2969        30            1\n",
       "\n",
       "[7558585 rows x 14 columns]"
      ]
     },
     "execution_count": 6,
     "metadata": {
      "tags": []
     },
     "output_type": "execute_result"
    }
   ],
   "source": [
    "df1"
   ]
  },
  {
   "cell_type": "markdown",
   "metadata": {
    "id": "9ynCgXsQkGRd"
   },
   "source": [
    "Here we save the dataset to reapply it for other algorithms"
   ]
  },
  {
   "cell_type": "code",
   "execution_count": 7,
   "metadata": {
    "id": "LsvWlYSspptV"
   },
   "outputs": [],
   "source": [
    "#from google.colab import files\n",
    "#df1.to_csv(\"Deezer_encoded_Big.csv\") \n",
    "#files.download(\"Deezer_encoded_Big.csv\")"
   ]
  },
  {
   "cell_type": "markdown",
   "metadata": {
    "id": "qu5v_DqNlAzD"
   },
   "source": [
    "Because the entire dataset is too big to process with our technical infrastructure, we decided to create a sample of 1% of the dataset."
   ]
  },
  {
   "cell_type": "code",
   "execution_count": 8,
   "metadata": {
    "colab": {
     "base_uri": "https://localhost:8080/",
     "height": 435
    },
    "id": "_fz5BEcAsvRt",
    "outputId": "e38b732c-fda9-4cd6-9cce-7b6eecf057d2"
   },
   "outputs": [
    {
     "data": {
      "text/html": [
       "<div>\n",
       "<style scoped>\n",
       "    .dataframe tbody tr th:only-of-type {\n",
       "        vertical-align: middle;\n",
       "    }\n",
       "\n",
       "    .dataframe tbody tr th {\n",
       "        vertical-align: top;\n",
       "    }\n",
       "\n",
       "    .dataframe thead th {\n",
       "        text-align: right;\n",
       "    }\n",
       "</style>\n",
       "<table border=\"1\" class=\"dataframe\">\n",
       "  <thead>\n",
       "    <tr style=\"text-align: right;\">\n",
       "      <th></th>\n",
       "      <th>genre_id</th>\n",
       "      <th>ts_listen</th>\n",
       "      <th>media_id</th>\n",
       "      <th>album_id</th>\n",
       "      <th>release_date</th>\n",
       "      <th>platform_name</th>\n",
       "      <th>platform_family</th>\n",
       "      <th>media_duration</th>\n",
       "      <th>listen_type</th>\n",
       "      <th>user_gender</th>\n",
       "      <th>user_id</th>\n",
       "      <th>artist_id</th>\n",
       "      <th>user_age</th>\n",
       "      <th>is_listened</th>\n",
       "    </tr>\n",
       "  </thead>\n",
       "  <tbody>\n",
       "    <tr>\n",
       "      <th>1788335</th>\n",
       "      <td>6</td>\n",
       "      <td>994735</td>\n",
       "      <td>255836</td>\n",
       "      <td>83631</td>\n",
       "      <td>7869</td>\n",
       "      <td>0</td>\n",
       "      <td>0</td>\n",
       "      <td>285</td>\n",
       "      <td>1</td>\n",
       "      <td>1</td>\n",
       "      <td>1186</td>\n",
       "      <td>86</td>\n",
       "      <td>22</td>\n",
       "      <td>1</td>\n",
       "    </tr>\n",
       "    <tr>\n",
       "      <th>2698539</th>\n",
       "      <td>0</td>\n",
       "      <td>1184509</td>\n",
       "      <td>417020</td>\n",
       "      <td>140525</td>\n",
       "      <td>8797</td>\n",
       "      <td>1</td>\n",
       "      <td>0</td>\n",
       "      <td>249</td>\n",
       "      <td>0</td>\n",
       "      <td>1</td>\n",
       "      <td>2637</td>\n",
       "      <td>62421</td>\n",
       "      <td>27</td>\n",
       "      <td>1</td>\n",
       "    </tr>\n",
       "    <tr>\n",
       "      <th>4786843</th>\n",
       "      <td>6</td>\n",
       "      <td>394283</td>\n",
       "      <td>49847</td>\n",
       "      <td>14659</td>\n",
       "      <td>4610</td>\n",
       "      <td>0</td>\n",
       "      <td>0</td>\n",
       "      <td>285</td>\n",
       "      <td>0</td>\n",
       "      <td>0</td>\n",
       "      <td>4183</td>\n",
       "      <td>1189</td>\n",
       "      <td>19</td>\n",
       "      <td>0</td>\n",
       "    </tr>\n",
       "    <tr>\n",
       "      <th>1342353</th>\n",
       "      <td>6</td>\n",
       "      <td>185880</td>\n",
       "      <td>75543</td>\n",
       "      <td>22073</td>\n",
       "      <td>3609</td>\n",
       "      <td>0</td>\n",
       "      <td>0</td>\n",
       "      <td>264</td>\n",
       "      <td>1</td>\n",
       "      <td>1</td>\n",
       "      <td>9082</td>\n",
       "      <td>326</td>\n",
       "      <td>25</td>\n",
       "      <td>0</td>\n",
       "    </tr>\n",
       "    <tr>\n",
       "      <th>3265956</th>\n",
       "      <td>12</td>\n",
       "      <td>493323</td>\n",
       "      <td>169045</td>\n",
       "      <td>53776</td>\n",
       "      <td>7186</td>\n",
       "      <td>0</td>\n",
       "      <td>0</td>\n",
       "      <td>207</td>\n",
       "      <td>0</td>\n",
       "      <td>1</td>\n",
       "      <td>4949</td>\n",
       "      <td>27669</td>\n",
       "      <td>18</td>\n",
       "      <td>1</td>\n",
       "    </tr>\n",
       "    <tr>\n",
       "      <th>...</th>\n",
       "      <td>...</td>\n",
       "      <td>...</td>\n",
       "      <td>...</td>\n",
       "      <td>...</td>\n",
       "      <td>...</td>\n",
       "      <td>...</td>\n",
       "      <td>...</td>\n",
       "      <td>...</td>\n",
       "      <td>...</td>\n",
       "      <td>...</td>\n",
       "      <td>...</td>\n",
       "      <td>...</td>\n",
       "      <td>...</td>\n",
       "      <td>...</td>\n",
       "    </tr>\n",
       "    <tr>\n",
       "      <th>4639842</th>\n",
       "      <td>6</td>\n",
       "      <td>226243</td>\n",
       "      <td>50787</td>\n",
       "      <td>14936</td>\n",
       "      <td>4158</td>\n",
       "      <td>0</td>\n",
       "      <td>0</td>\n",
       "      <td>245</td>\n",
       "      <td>0</td>\n",
       "      <td>0</td>\n",
       "      <td>11296</td>\n",
       "      <td>414</td>\n",
       "      <td>30</td>\n",
       "      <td>1</td>\n",
       "    </tr>\n",
       "    <tr>\n",
       "      <th>4611158</th>\n",
       "      <td>36</td>\n",
       "      <td>1084630</td>\n",
       "      <td>217763</td>\n",
       "      <td>70733</td>\n",
       "      <td>7583</td>\n",
       "      <td>0</td>\n",
       "      <td>0</td>\n",
       "      <td>227</td>\n",
       "      <td>0</td>\n",
       "      <td>1</td>\n",
       "      <td>6714</td>\n",
       "      <td>3269</td>\n",
       "      <td>23</td>\n",
       "      <td>1</td>\n",
       "    </tr>\n",
       "    <tr>\n",
       "      <th>1608214</th>\n",
       "      <td>0</td>\n",
       "      <td>2060428</td>\n",
       "      <td>390290</td>\n",
       "      <td>131105</td>\n",
       "      <td>8646</td>\n",
       "      <td>0</td>\n",
       "      <td>0</td>\n",
       "      <td>192</td>\n",
       "      <td>1</td>\n",
       "      <td>1</td>\n",
       "      <td>8153</td>\n",
       "      <td>59005</td>\n",
       "      <td>27</td>\n",
       "      <td>1</td>\n",
       "    </tr>\n",
       "    <tr>\n",
       "      <th>1138609</th>\n",
       "      <td>160</td>\n",
       "      <td>1482602</td>\n",
       "      <td>162640</td>\n",
       "      <td>51248</td>\n",
       "      <td>7152</td>\n",
       "      <td>0</td>\n",
       "      <td>0</td>\n",
       "      <td>277</td>\n",
       "      <td>1</td>\n",
       "      <td>0</td>\n",
       "      <td>129</td>\n",
       "      <td>22098</td>\n",
       "      <td>22</td>\n",
       "      <td>1</td>\n",
       "    </tr>\n",
       "    <tr>\n",
       "      <th>2546974</th>\n",
       "      <td>0</td>\n",
       "      <td>2173708</td>\n",
       "      <td>371051</td>\n",
       "      <td>124316</td>\n",
       "      <td>8573</td>\n",
       "      <td>0</td>\n",
       "      <td>0</td>\n",
       "      <td>203</td>\n",
       "      <td>0</td>\n",
       "      <td>0</td>\n",
       "      <td>2704</td>\n",
       "      <td>50404</td>\n",
       "      <td>18</td>\n",
       "      <td>1</td>\n",
       "    </tr>\n",
       "  </tbody>\n",
       "</table>\n",
       "<p>75586 rows × 14 columns</p>\n",
       "</div>"
      ],
      "text/plain": [
       "         genre_id  ts_listen  media_id  ...  artist_id  user_age  is_listened\n",
       "1788335         6     994735    255836  ...         86        22            1\n",
       "2698539         0    1184509    417020  ...      62421        27            1\n",
       "4786843         6     394283     49847  ...       1189        19            0\n",
       "1342353         6     185880     75543  ...        326        25            0\n",
       "3265956        12     493323    169045  ...      27669        18            1\n",
       "...           ...        ...       ...  ...        ...       ...          ...\n",
       "4639842         6     226243     50787  ...        414        30            1\n",
       "4611158        36    1084630    217763  ...       3269        23            1\n",
       "1608214         0    2060428    390290  ...      59005        27            1\n",
       "1138609       160    1482602    162640  ...      22098        22            1\n",
       "2546974         0    2173708    371051  ...      50404        18            1\n",
       "\n",
       "[75586 rows x 14 columns]"
      ]
     },
     "execution_count": 8,
     "metadata": {
      "tags": []
     },
     "output_type": "execute_result"
    }
   ],
   "source": [
    "df2 = df1.sample(frac =0.01) \n",
    "df2"
   ]
  },
  {
   "cell_type": "markdown",
   "metadata": {
    "id": "pRqOzBwIkWEa"
   },
   "source": [
    "Here we split the dataset into features and label"
   ]
  },
  {
   "cell_type": "code",
   "execution_count": 9,
   "metadata": {
    "id": "wQiU2xAqGaFl"
   },
   "outputs": [],
   "source": [
    "#Split the data in label and features\n",
    "features2 = df2.iloc[:, :-1].values\n",
    "label2 = df2.iloc[:, 13].values"
   ]
  },
  {
   "cell_type": "markdown",
   "metadata": {
    "id": "aIecBTtZlZ4Y"
   },
   "source": [
    "Here we split the dataset into train and validation data. We do a split of 80/20."
   ]
  },
  {
   "cell_type": "code",
   "execution_count": 10,
   "metadata": {
    "id": "kDxTpBQHHDdX"
   },
   "outputs": [],
   "source": [
    "# Split the dataset in train and test data\n",
    "from sklearn.model_selection import train_test_split\n",
    "X_train, X_test, y_train, y_test= train_test_split(features2, label2, test_size=0.20)"
   ]
  },
  {
   "cell_type": "markdown",
   "metadata": {
    "id": "1-hDcZQ4lzBO"
   },
   "source": [
    "It's always good to do some scaling the features before doing some predictions. We do that here. "
   ]
  },
  {
   "cell_type": "code",
   "execution_count": 11,
   "metadata": {
    "id": "-UfwQJ1_HvF9"
   },
   "outputs": [],
   "source": [
    "from sklearn.preprocessing import StandardScaler\n",
    "scaler = StandardScaler()\n",
    "scaler.fit(X_train)\n",
    "\n",
    "X_train = scaler.transform(X_train)\n",
    "X_test = scaler.transform(X_test)"
   ]
  },
  {
   "cell_type": "markdown",
   "metadata": {
    "id": "-kt-mD_umd6R"
   },
   "source": [
    "In the following chunk we do some predictions"
   ]
  },
  {
   "cell_type": "code",
   "execution_count": 12,
   "metadata": {
    "colab": {
     "base_uri": "https://localhost:8080/"
    },
    "id": "XD8Z1j1iH1R4",
    "outputId": "c5113afd-e9c4-449b-b1b3-66ff802dd4d6"
   },
   "outputs": [
    {
     "data": {
      "text/plain": [
       "array([1, 0, 1, ..., 1, 1, 0])"
      ]
     },
     "execution_count": 12,
     "metadata": {
      "tags": []
     },
     "output_type": "execute_result"
    }
   ],
   "source": [
    "from sklearn.neighbors import KNeighborsClassifier\n",
    "classifier = KNeighborsClassifier(n_neighbors=89)\n",
    "classifier.fit(X_train, y_train)\n",
    "y_pred = classifier.predict(X_test)\n",
    "y_pred"
   ]
  },
  {
   "cell_type": "markdown",
   "metadata": {
    "id": "tLxQVRy3mj7D"
   },
   "source": [
    "Here we output the evaluation metrics."
   ]
  },
  {
   "cell_type": "code",
   "execution_count": 13,
   "metadata": {
    "colab": {
     "base_uri": "https://localhost:8080/"
    },
    "id": "UIJrVJBcIKnW",
    "outputId": "1c8b6c77-e773-4514-c8ab-6a3abd80f0c3"
   },
   "outputs": [
    {
     "name": "stdout",
     "output_type": "stream",
     "text": [
      "[[ 731 4152]\n",
      " [ 642 9593]]\n",
      "              precision    recall  f1-score   support\n",
      "\n",
      "           0       0.53      0.15      0.23      4883\n",
      "           1       0.70      0.94      0.80     10235\n",
      "\n",
      "    accuracy                           0.68     15118\n",
      "   macro avg       0.62      0.54      0.52     15118\n",
      "weighted avg       0.64      0.68      0.62     15118\n",
      "\n"
     ]
    }
   ],
   "source": [
    "from sklearn.metrics import classification_report, confusion_matrix\n",
    "print(confusion_matrix(y_test, y_pred))\n",
    "print(classification_report(y_test, y_pred))"
   ]
  },
  {
   "cell_type": "code",
   "execution_count": 14,
   "metadata": {
    "colab": {
     "base_uri": "https://localhost:8080/"
    },
    "id": "ta0N22lC5OSE",
    "outputId": "ff819b60-2fd2-44dc-85a3-56d343e9f65a"
   },
   "outputs": [
    {
     "data": {
      "text/plain": [
       "0.54348855550112"
      ]
     },
     "execution_count": 14,
     "metadata": {
      "tags": []
     },
     "output_type": "execute_result"
    }
   ],
   "source": [
    "from sklearn.metrics import roc_auc_score\n",
    "roc_auc_score(y_test, y_pred)"
   ]
  },
  {
   "cell_type": "markdown",
   "metadata": {
    "id": "iBpT4A4UxVXx"
   },
   "source": [
    "To get the optimal K-Value we plot a graph with the K-values on the X-axis and the corresponding error rate of the dataset, which is illustrated below. We take the K-Value with the lowest error rate."
   ]
  },
  {
   "cell_type": "code",
   "execution_count": 15,
   "metadata": {
    "id": "1dpBSbT3IDVZ"
   },
   "outputs": [],
   "source": [
    "import numpy as np\n",
    "error = []\n",
    "\n",
    "\n",
    "for i in range(80, 120):\n",
    "    knn = KNeighborsClassifier(n_neighbors=i)\n",
    "    knn.fit(X_train, y_train)\n",
    "    pred_i = knn.predict(X_test)\n",
    "    error.append(np.mean(pred_i != y_test))"
   ]
  },
  {
   "cell_type": "code",
   "execution_count": 16,
   "metadata": {
    "colab": {
     "base_uri": "https://localhost:8080/",
     "height": 421
    },
    "id": "JKqw6BcPKAxG",
    "outputId": "6cdd1b7f-ba70-45ec-9cec-620a15cd3426"
   },
   "outputs": [
    {
     "data": {
      "text/plain": [
       "Text(0, 0.5, 'Mean Error')"
      ]
     },
     "execution_count": 16,
     "metadata": {
      "tags": []
     },
     "output_type": "execute_result"
    },
    {
     "data": {
      "image/png": "[encoded data removed]",
      "text/plain": [
       "<Figure size 864x432 with 1 Axes>"
      ]
     },
     "metadata": {
      "needs_background": "light",
      "tags": []
     },
     "output_type": "display_data"
    }
   ],
   "source": [
    "import matplotlib.pyplot as plt\n",
    "plt.figure(figsize=(12, 6))\n",
    "plt.plot(range(80, 120), error, color='red', linestyle='dashed', marker='o',\n",
    "         markerfacecolor='blue', markersize=10)\n",
    "plt.title('Error Rate K Value')\n",
    "plt.xlabel('K Value')\n",
    "plt.ylabel('Mean Error')"
   ]
  },
  {
   "cell_type": "code",
   "execution_count": 16,
   "metadata": {
    "id": "vVKsw_qH7VtG"
   },
   "outputs": [],
   "source": []
  },
  {
   "cell_type": "code",
   "execution_count": 16,
   "metadata": {
    "id": "RY35Ia7r9_i6"
   },
   "outputs": [],
   "source": []
  }
 ],
 "metadata": {
  "accelerator": "GPU",
  "colab": {
   "collapsed_sections": [],
   "name": " K-Nearest_Neighbor ",
   "provenance": []
  },
  "kernelspec": {
   "display_name": "Python 3",
   "language": "python",
   "name": "python3"
  },
  "language_info": {
   "codemirror_mode": {
    "name": "ipython",
    "version": 3
   },
   "file_extension": ".py",
   "mimetype": "text/x-python",
   "name": "python",
   "nbconvert_exporter": "python",
   "pygments_lexer": "ipython3",
   "version": "3.8.5"
  }
 },
 "nbformat": 4,
 "nbformat_minor": 1
}
